{
 "cells": [
  {
   "cell_type": "code",
   "execution_count": 2,
   "outputs": [
    {
     "data": {
      "text/plain": "'2.0.0rc0'"
     },
     "execution_count": 2,
     "metadata": {},
     "output_type": "execute_result"
    }
   ],
   "source": [
    "import pandas as pd\n",
    "pd.options.mode.dtype_backend = 'pyarrow'\n",
    "pd.__version__"
   ],
   "metadata": {
    "collapsed": false
   }
  },
  {
   "cell_type": "code",
   "execution_count": 3,
   "outputs": [],
   "source": [
    "def read_file_and_export(f: str, export: str):\n",
    "    count = 0\n",
    "    import csv\n",
    "    file = open(f, 'r')\n",
    "    file2 = open(export, 'x')\n",
    "    writer = csv.writer(file2)\n",
    "    columns = ['Date__(UT)__HR:MN', 'R.A._(ICRF)', 'DEC__(ICRF)', 'APmag',\n",
    "    'S-brt', 'Illu%', 'hEcl-Lon', 'hEcl-Lat', 'r', 'rdot', 'delta', 'deldot',\n",
    "    'S-O-T', '/r', 'S-T-O', 'GlxLon', 'GlxLat', 'L_Ap_SOL_Time', 'RA_3sigma', 'DEC_3sigma',\n",
    "    'SMAA_3sig', 'SMIA_3sig', 'Theta', 'Area_3sig', 'POS_3sigma', 'RNG_3sigma',\n",
    "    'RNGRT_3sig', 'DOP_S_3sig', 'DOP_X_3sig', 'RT_delay_3sig', 'App_Lon_Sun',\n",
    "    'RA_(ICRF-a-app)', 'DEC_(ICRF-a-app)', 'Sky_motion', 'Sky_mot_PA', 'RelVel-ANG',\n",
    "    'Lun_Sky_Brt', 'sky_SNR']\n",
    "    writer.writerow(columns)\n",
    "    while True:\n",
    "        line = file.readline()\n",
    "\n",
    "        if not line:\n",
    "            break\n",
    "        else:\n",
    "            #print('yes')\n",
    "            if '$$SOE' in line:\n",
    "\n",
    "                count += 1\n",
    "            elif '$$EOE' in line:\n",
    "                count += 1\n",
    "            if count == 1 and '$$SOE' not in line:\n",
    "                line = line.replace(' ', '')\n",
    "                line = line.split(',')\n",
    "                line.remove('')\n",
    "                line.remove('')\n",
    "\n",
    "                writer.writerow(line)\n",
    "    file.close()\n",
    "    file2.close()\n"
   ],
   "metadata": {
    "collapsed": false
   }
  },
  {
   "cell_type": "code",
   "execution_count": 4,
   "outputs": [
    {
     "ename": "FileExistsError",
     "evalue": "[Errno 17] File exists: 'planets2.csv'",
     "output_type": "error",
     "traceback": [
      "\u001B[1;31m---------------------------------------------------------------------------\u001B[0m",
      "\u001B[1;31mFileExistsError\u001B[0m                           Traceback (most recent call last)",
      "Cell \u001B[1;32mIn[4], line 3\u001B[0m\n\u001B[0;32m      1\u001B[0m file \u001B[38;5;241m=\u001B[39m \u001B[38;5;124m'\u001B[39m\u001B[38;5;124mplanets.txt\u001B[39m\u001B[38;5;124m'\u001B[39m\n\u001B[0;32m      2\u001B[0m export \u001B[38;5;241m=\u001B[39m \u001B[38;5;124m'\u001B[39m\u001B[38;5;124mplanets2.csv\u001B[39m\u001B[38;5;124m'\u001B[39m\n\u001B[1;32m----> 3\u001B[0m \u001B[43mread_file_and_export\u001B[49m\u001B[43m(\u001B[49m\u001B[43mfile\u001B[49m\u001B[43m,\u001B[49m\u001B[43m \u001B[49m\u001B[43mexport\u001B[49m\u001B[43m)\u001B[49m\n",
      "Cell \u001B[1;32mIn[3], line 5\u001B[0m, in \u001B[0;36mread_file_and_export\u001B[1;34m(f, export)\u001B[0m\n\u001B[0;32m      3\u001B[0m \u001B[38;5;28;01mimport\u001B[39;00m \u001B[38;5;21;01mcsv\u001B[39;00m\n\u001B[0;32m      4\u001B[0m file \u001B[38;5;241m=\u001B[39m \u001B[38;5;28mopen\u001B[39m(f, \u001B[38;5;124m'\u001B[39m\u001B[38;5;124mr\u001B[39m\u001B[38;5;124m'\u001B[39m)\n\u001B[1;32m----> 5\u001B[0m file2 \u001B[38;5;241m=\u001B[39m \u001B[38;5;28;43mopen\u001B[39;49m\u001B[43m(\u001B[49m\u001B[43mexport\u001B[49m\u001B[43m,\u001B[49m\u001B[43m \u001B[49m\u001B[38;5;124;43m'\u001B[39;49m\u001B[38;5;124;43mx\u001B[39;49m\u001B[38;5;124;43m'\u001B[39;49m\u001B[43m)\u001B[49m\n\u001B[0;32m      6\u001B[0m writer \u001B[38;5;241m=\u001B[39m csv\u001B[38;5;241m.\u001B[39mwriter(file2)\n\u001B[0;32m      7\u001B[0m columns \u001B[38;5;241m=\u001B[39m [\u001B[38;5;124m'\u001B[39m\u001B[38;5;124mDate__(UT)__HR:MN\u001B[39m\u001B[38;5;124m'\u001B[39m, \u001B[38;5;124m'\u001B[39m\u001B[38;5;124mR.A._(ICRF)\u001B[39m\u001B[38;5;124m'\u001B[39m, \u001B[38;5;124m'\u001B[39m\u001B[38;5;124mDEC__(ICRF)\u001B[39m\u001B[38;5;124m'\u001B[39m, \u001B[38;5;124m'\u001B[39m\u001B[38;5;124mAPmag\u001B[39m\u001B[38;5;124m'\u001B[39m,\n\u001B[0;32m      8\u001B[0m \u001B[38;5;124m'\u001B[39m\u001B[38;5;124mS-brt\u001B[39m\u001B[38;5;124m'\u001B[39m, \u001B[38;5;124m'\u001B[39m\u001B[38;5;124mIllu\u001B[39m\u001B[38;5;124m%\u001B[39m\u001B[38;5;124m'\u001B[39m, \u001B[38;5;124m'\u001B[39m\u001B[38;5;124mhEcl-Lon\u001B[39m\u001B[38;5;124m'\u001B[39m, \u001B[38;5;124m'\u001B[39m\u001B[38;5;124mhEcl-Lat\u001B[39m\u001B[38;5;124m'\u001B[39m, \u001B[38;5;124m'\u001B[39m\u001B[38;5;124mr\u001B[39m\u001B[38;5;124m'\u001B[39m, \u001B[38;5;124m'\u001B[39m\u001B[38;5;124mrdot\u001B[39m\u001B[38;5;124m'\u001B[39m, \u001B[38;5;124m'\u001B[39m\u001B[38;5;124mdelta\u001B[39m\u001B[38;5;124m'\u001B[39m, \u001B[38;5;124m'\u001B[39m\u001B[38;5;124mdeldot\u001B[39m\u001B[38;5;124m'\u001B[39m,\n\u001B[0;32m      9\u001B[0m \u001B[38;5;124m'\u001B[39m\u001B[38;5;124mS-O-T\u001B[39m\u001B[38;5;124m'\u001B[39m, \u001B[38;5;124m'\u001B[39m\u001B[38;5;124m/r\u001B[39m\u001B[38;5;124m'\u001B[39m, \u001B[38;5;124m'\u001B[39m\u001B[38;5;124mS-T-O\u001B[39m\u001B[38;5;124m'\u001B[39m, \u001B[38;5;124m'\u001B[39m\u001B[38;5;124mGlxLon\u001B[39m\u001B[38;5;124m'\u001B[39m, \u001B[38;5;124m'\u001B[39m\u001B[38;5;124mGlxLat\u001B[39m\u001B[38;5;124m'\u001B[39m, \u001B[38;5;124m'\u001B[39m\u001B[38;5;124mL_Ap_SOL_Time\u001B[39m\u001B[38;5;124m'\u001B[39m, \u001B[38;5;124m'\u001B[39m\u001B[38;5;124mRA_3sigma\u001B[39m\u001B[38;5;124m'\u001B[39m, \u001B[38;5;124m'\u001B[39m\u001B[38;5;124mDEC_3sigma\u001B[39m\u001B[38;5;124m'\u001B[39m,\n\u001B[1;32m   (...)\u001B[0m\n\u001B[0;32m     12\u001B[0m \u001B[38;5;124m'\u001B[39m\u001B[38;5;124mRA_(ICRF-a-app)\u001B[39m\u001B[38;5;124m'\u001B[39m, \u001B[38;5;124m'\u001B[39m\u001B[38;5;124mDEC_(ICRF-a-app)\u001B[39m\u001B[38;5;124m'\u001B[39m, \u001B[38;5;124m'\u001B[39m\u001B[38;5;124mSky_motion\u001B[39m\u001B[38;5;124m'\u001B[39m, \u001B[38;5;124m'\u001B[39m\u001B[38;5;124mSky_mot_PA\u001B[39m\u001B[38;5;124m'\u001B[39m, \u001B[38;5;124m'\u001B[39m\u001B[38;5;124mRelVel-ANG\u001B[39m\u001B[38;5;124m'\u001B[39m,\n\u001B[0;32m     13\u001B[0m \u001B[38;5;124m'\u001B[39m\u001B[38;5;124mLun_Sky_Brt\u001B[39m\u001B[38;5;124m'\u001B[39m, \u001B[38;5;124m'\u001B[39m\u001B[38;5;124msky_SNR\u001B[39m\u001B[38;5;124m'\u001B[39m]\n",
      "File \u001B[1;32m~\\anaconda3\\envs\\finance-team\\lib\\site-packages\\IPython\\core\\interactiveshell.py:282\u001B[0m, in \u001B[0;36m_modified_open\u001B[1;34m(file, *args, **kwargs)\u001B[0m\n\u001B[0;32m    275\u001B[0m \u001B[38;5;28;01mif\u001B[39;00m file \u001B[38;5;129;01min\u001B[39;00m {\u001B[38;5;241m0\u001B[39m, \u001B[38;5;241m1\u001B[39m, \u001B[38;5;241m2\u001B[39m}:\n\u001B[0;32m    276\u001B[0m     \u001B[38;5;28;01mraise\u001B[39;00m \u001B[38;5;167;01mValueError\u001B[39;00m(\n\u001B[0;32m    277\u001B[0m         \u001B[38;5;124mf\u001B[39m\u001B[38;5;124m\"\u001B[39m\u001B[38;5;124mIPython won\u001B[39m\u001B[38;5;124m'\u001B[39m\u001B[38;5;124mt let you open fd=\u001B[39m\u001B[38;5;132;01m{\u001B[39;00mfile\u001B[38;5;132;01m}\u001B[39;00m\u001B[38;5;124m by default \u001B[39m\u001B[38;5;124m\"\u001B[39m\n\u001B[0;32m    278\u001B[0m         \u001B[38;5;124m\"\u001B[39m\u001B[38;5;124mas it is likely to crash IPython. If you know what you are doing, \u001B[39m\u001B[38;5;124m\"\u001B[39m\n\u001B[0;32m    279\u001B[0m         \u001B[38;5;124m\"\u001B[39m\u001B[38;5;124myou can use builtins\u001B[39m\u001B[38;5;124m'\u001B[39m\u001B[38;5;124m open.\u001B[39m\u001B[38;5;124m\"\u001B[39m\n\u001B[0;32m    280\u001B[0m     )\n\u001B[1;32m--> 282\u001B[0m \u001B[38;5;28;01mreturn\u001B[39;00m io_open(file, \u001B[38;5;241m*\u001B[39margs, \u001B[38;5;241m*\u001B[39m\u001B[38;5;241m*\u001B[39mkwargs)\n",
      "\u001B[1;31mFileExistsError\u001B[0m: [Errno 17] File exists: 'planets2.csv'"
     ]
    }
   ],
   "source": [
    "file = 'planets.txt'\n",
    "export = 'planets2.csv'\n",
    "read_file_and_export(file, export)"
   ],
   "metadata": {
    "collapsed": false
   }
  },
  {
   "cell_type": "code",
   "execution_count": 60,
   "metadata": {
    "collapsed": true
   },
   "outputs": [],
   "source": [
    "\n",
    "df = pd.read_csv(export, na_values='n.a.')"
   ]
  },
  {
   "cell_type": "code",
   "execution_count": 61,
   "outputs": [
    {
     "data": {
      "text/plain": "Date__(UT)__HR:MN     object\nR.A._(ICRF)          float64\nDEC__(ICRF)          float64\nAPmag                float64\nS-brt                float64\nIllu%                float64\nhEcl-Lon             float64\nhEcl-Lat             float64\nr                    float64\nrdot                 float64\ndelta                float64\ndeldot               float64\nS-O-T                float64\n/r                    object\nS-T-O                float64\nGlxLon               float64\nGlxLat               float64\nL_Ap_SOL_Time        float64\nRA_3sigma            float64\nDEC_3sigma           float64\nSMAA_3sig            float64\nSMIA_3sig            float64\nTheta                float64\nArea_3sig            float64\nPOS_3sigma           float64\nRNG_3sigma           float64\nRNGRT_3sig           float64\nDOP_S_3sig           float64\nDOP_X_3sig           float64\nRT_delay_3sig        float64\nApp_Lon_Sun          float64\nRA_(ICRF-a-app)      float64\nDEC_(ICRF-a-app)     float64\nSky_motion           float64\nSky_mot_PA           float64\nRelVel-ANG           float64\nLun_Sky_Brt           object\nsky_SNR              float64\ndtype: object"
     },
     "execution_count": 61,
     "metadata": {},
     "output_type": "execute_result"
    }
   ],
   "source": [
    "df.dtypes"
   ],
   "metadata": {
    "collapsed": false
   }
  },
  {
   "cell_type": "code",
   "execution_count": 62,
   "outputs": [
    {
     "data": {
      "text/plain": "Date__(UT)__HR:MN        0\nR.A._(ICRF)              0\nDEC__(ICRF)              0\nAPmag                    0\nS-brt                    0\nIllu%                    0\nhEcl-Lon                 0\nhEcl-Lat                 0\nr                        0\nrdot                     0\ndelta                    0\ndeldot                   0\nS-O-T                    0\n/r                       0\nS-T-O                    0\nGlxLon                   0\nGlxLat                   0\nL_Ap_SOL_Time        62761\nRA_3sigma            62761\nDEC_3sigma           62761\nSMAA_3sig            62761\nSMIA_3sig            62761\nTheta                62761\nArea_3sig            62761\nPOS_3sigma           62761\nRNG_3sigma           62761\nRNGRT_3sig           62761\nDOP_S_3sig           62761\nDOP_X_3sig           62761\nRT_delay_3sig        62761\nApp_Lon_Sun              0\nRA_(ICRF-a-app)          0\nDEC_(ICRF-a-app)         0\nSky_motion               0\nSky_mot_PA               0\nRelVel-ANG               0\nLun_Sky_Brt              0\nsky_SNR              62761\ndtype: int64"
     },
     "execution_count": 62,
     "metadata": {},
     "output_type": "execute_result"
    }
   ],
   "source": [
    "df.isna().sum()"
   ],
   "metadata": {
    "collapsed": false
   }
  },
  {
   "cell_type": "code",
   "execution_count": 63,
   "outputs": [
    {
     "data": {
      "text/plain": "(62761, 38)"
     },
     "execution_count": 63,
     "metadata": {},
     "output_type": "execute_result"
    }
   ],
   "source": [
    "df.shape"
   ],
   "metadata": {
    "collapsed": false
   }
  },
  {
   "cell_type": "code",
   "execution_count": 64,
   "outputs": [],
   "source": [
    "planets_copy = df.copy()\n",
    "planets_copy.dropna(inplace=True, axis=1)"
   ],
   "metadata": {
    "collapsed": false
   }
  },
  {
   "cell_type": "code",
   "execution_count": 65,
   "outputs": [
    {
     "data": {
      "text/plain": "(62761, 24)"
     },
     "execution_count": 65,
     "metadata": {},
     "output_type": "execute_result"
    }
   ],
   "source": [
    "planets_copy.shape"
   ],
   "metadata": {
    "collapsed": false
   }
  },
  {
   "cell_type": "code",
   "execution_count": 66,
   "outputs": [
    {
     "data": {
      "text/plain": "array(['n.a.n.a.\\r\\n'], dtype=object)"
     },
     "execution_count": 66,
     "metadata": {},
     "output_type": "execute_result"
    }
   ],
   "source": [
    "planets_copy.Lun_Sky_Brt.unique()"
   ],
   "metadata": {
    "collapsed": false
   }
  },
  {
   "cell_type": "code",
   "execution_count": 67,
   "outputs": [],
   "source": [
    "# drop Lun_Sky_Brt column\n",
    "planets_copy.drop('Lun_Sky_Brt', axis=1, inplace=True)"
   ],
   "metadata": {
    "collapsed": false
   }
  },
  {
   "cell_type": "code",
   "execution_count": 68,
   "outputs": [
    {
     "data": {
      "text/plain": "      Date__(UT)__HR:MN  R.A._(ICRF)  DEC__(ICRF)  APmag  S-brt     Illu%   \n0      2016-Jan-0100:00    134727.62     -92852.8  1.197  4.562  91.34442  \\\n1      2016-Jan-0101:00    134732.88     -92922.3  1.174  4.539  91.34207   \n2      2016-Jan-0102:00    134738.15     -92951.8  1.156  4.522  91.33973   \n3      2016-Jan-0103:00    134743.42     -93021.3  1.156  4.522  91.33738   \n4      2016-Jan-0104:00    134748.68     -93050.8  1.169  4.536  91.33503   \n...                 ...          ...          ...    ...    ...       ...   \n62756  2023-Feb-2720:00     50818.08     252009.8  0.376  4.586  89.97540   \n62757  2023-Feb-2721:00     50822.42     252013.3  0.362  4.571  89.97397   \n62758  2023-Feb-2722:00     50826.76     252016.9  0.342  4.551  89.97254   \n62759  2023-Feb-2723:00     50831.10     252020.4  0.329  4.536  89.97112   \n62760  2023-Feb-2800:00     50835.44     252024.0  0.321  4.528  89.96970   \n\n       hEcl-Lon  hEcl-Lat         r      rdot  ...  /r    S-T-O      GlxLon   \n0      174.1073    1.5217  1.657735 -0.697666  ...  /L  34.2177  325.196670  \\\n1      174.1257    1.5213  1.657718 -0.698355  ...  /L  34.2225  325.224501   \n2      174.1441    1.5210  1.657701 -0.699045  ...  /L  34.2273  325.252311   \n3      174.1624    1.5207  1.657684 -0.699734  ...  /L  34.2321  325.280100   \n4      174.1808    1.5203  1.657668 -0.700423  ...  /L  34.2369  325.307869   \n...         ...       ...       ...       ...  ...  ..      ...         ...   \n62756  115.2651    1.6853  1.625168  1.480717  ...  /T  36.9158  178.394642   \n62757  115.2842    1.6856  1.625203  1.480146  ...  /T  36.9185  178.403496   \n62758  115.3033    1.6858  1.625239  1.479574  ...  /T  36.9213  178.412353   \n62759  115.3224    1.6861  1.625275  1.479002  ...  /T  36.9240  178.421214   \n62760  115.3415    1.6863  1.625310  1.478430  ...  /T  36.9267  178.430079   \n\n          GlxLat  App_Lon_Sun  RA_(ICRF-a-app)  DEC_(ICRF-a-app)  Sky_motion   \n0      50.953393    89.065096        134727.18          -92850.9    1.388775  \\\n1      50.938281    89.083464        134732.45          -92920.4    1.388634   \n2      50.923165    89.101832        134737.72          -92950.0    1.388492   \n3      50.908043    89.120200        134742.98          -93019.5    1.388351   \n4      50.892917    89.138569        134748.25          -93049.0    1.388209   \n...          ...          ...              ...               ...         ...   \n62756  -8.902120    30.262223         50818.35          252011.0    0.981419   \n62757  -8.888298    30.281330         50822.69          252014.5    0.981914   \n62758  -8.874468    30.300437         50827.03          252018.1    0.982408   \n62759  -8.860631    30.319543         50831.37          252021.6    0.982901   \n62760  -8.846787    30.338648         50835.71          252025.1    0.983394   \n\n       Sky_mot_PA  RelVel-ANG  \n0      110.709640  -30.823870  \n1      110.705670  -30.835690  \n2      110.701700  -30.847510  \n3      110.697730  -30.859340  \n4      110.693750  -30.871170  \n...           ...         ...  \n62756   86.676005   52.023759  \n62757   86.682231   52.001076  \n62758   86.688463   51.978409  \n62759   86.694700   51.955757  \n62760   86.700942   51.933121  \n\n[62761 rows x 23 columns]",
      "text/html": "<div>\n<style scoped>\n    .dataframe tbody tr th:only-of-type {\n        vertical-align: middle;\n    }\n\n    .dataframe tbody tr th {\n        vertical-align: top;\n    }\n\n    .dataframe thead th {\n        text-align: right;\n    }\n</style>\n<table border=\"1\" class=\"dataframe\">\n  <thead>\n    <tr style=\"text-align: right;\">\n      <th></th>\n      <th>Date__(UT)__HR:MN</th>\n      <th>R.A._(ICRF)</th>\n      <th>DEC__(ICRF)</th>\n      <th>APmag</th>\n      <th>S-brt</th>\n      <th>Illu%</th>\n      <th>hEcl-Lon</th>\n      <th>hEcl-Lat</th>\n      <th>r</th>\n      <th>rdot</th>\n      <th>...</th>\n      <th>/r</th>\n      <th>S-T-O</th>\n      <th>GlxLon</th>\n      <th>GlxLat</th>\n      <th>App_Lon_Sun</th>\n      <th>RA_(ICRF-a-app)</th>\n      <th>DEC_(ICRF-a-app)</th>\n      <th>Sky_motion</th>\n      <th>Sky_mot_PA</th>\n      <th>RelVel-ANG</th>\n    </tr>\n  </thead>\n  <tbody>\n    <tr>\n      <th>0</th>\n      <td>2016-Jan-0100:00</td>\n      <td>134727.62</td>\n      <td>-92852.8</td>\n      <td>1.197</td>\n      <td>4.562</td>\n      <td>91.34442</td>\n      <td>174.1073</td>\n      <td>1.5217</td>\n      <td>1.657735</td>\n      <td>-0.697666</td>\n      <td>...</td>\n      <td>/L</td>\n      <td>34.2177</td>\n      <td>325.196670</td>\n      <td>50.953393</td>\n      <td>89.065096</td>\n      <td>134727.18</td>\n      <td>-92850.9</td>\n      <td>1.388775</td>\n      <td>110.709640</td>\n      <td>-30.823870</td>\n    </tr>\n    <tr>\n      <th>1</th>\n      <td>2016-Jan-0101:00</td>\n      <td>134732.88</td>\n      <td>-92922.3</td>\n      <td>1.174</td>\n      <td>4.539</td>\n      <td>91.34207</td>\n      <td>174.1257</td>\n      <td>1.5213</td>\n      <td>1.657718</td>\n      <td>-0.698355</td>\n      <td>...</td>\n      <td>/L</td>\n      <td>34.2225</td>\n      <td>325.224501</td>\n      <td>50.938281</td>\n      <td>89.083464</td>\n      <td>134732.45</td>\n      <td>-92920.4</td>\n      <td>1.388634</td>\n      <td>110.705670</td>\n      <td>-30.835690</td>\n    </tr>\n    <tr>\n      <th>2</th>\n      <td>2016-Jan-0102:00</td>\n      <td>134738.15</td>\n      <td>-92951.8</td>\n      <td>1.156</td>\n      <td>4.522</td>\n      <td>91.33973</td>\n      <td>174.1441</td>\n      <td>1.5210</td>\n      <td>1.657701</td>\n      <td>-0.699045</td>\n      <td>...</td>\n      <td>/L</td>\n      <td>34.2273</td>\n      <td>325.252311</td>\n      <td>50.923165</td>\n      <td>89.101832</td>\n      <td>134737.72</td>\n      <td>-92950.0</td>\n      <td>1.388492</td>\n      <td>110.701700</td>\n      <td>-30.847510</td>\n    </tr>\n    <tr>\n      <th>3</th>\n      <td>2016-Jan-0103:00</td>\n      <td>134743.42</td>\n      <td>-93021.3</td>\n      <td>1.156</td>\n      <td>4.522</td>\n      <td>91.33738</td>\n      <td>174.1624</td>\n      <td>1.5207</td>\n      <td>1.657684</td>\n      <td>-0.699734</td>\n      <td>...</td>\n      <td>/L</td>\n      <td>34.2321</td>\n      <td>325.280100</td>\n      <td>50.908043</td>\n      <td>89.120200</td>\n      <td>134742.98</td>\n      <td>-93019.5</td>\n      <td>1.388351</td>\n      <td>110.697730</td>\n      <td>-30.859340</td>\n    </tr>\n    <tr>\n      <th>4</th>\n      <td>2016-Jan-0104:00</td>\n      <td>134748.68</td>\n      <td>-93050.8</td>\n      <td>1.169</td>\n      <td>4.536</td>\n      <td>91.33503</td>\n      <td>174.1808</td>\n      <td>1.5203</td>\n      <td>1.657668</td>\n      <td>-0.700423</td>\n      <td>...</td>\n      <td>/L</td>\n      <td>34.2369</td>\n      <td>325.307869</td>\n      <td>50.892917</td>\n      <td>89.138569</td>\n      <td>134748.25</td>\n      <td>-93049.0</td>\n      <td>1.388209</td>\n      <td>110.693750</td>\n      <td>-30.871170</td>\n    </tr>\n    <tr>\n      <th>...</th>\n      <td>...</td>\n      <td>...</td>\n      <td>...</td>\n      <td>...</td>\n      <td>...</td>\n      <td>...</td>\n      <td>...</td>\n      <td>...</td>\n      <td>...</td>\n      <td>...</td>\n      <td>...</td>\n      <td>...</td>\n      <td>...</td>\n      <td>...</td>\n      <td>...</td>\n      <td>...</td>\n      <td>...</td>\n      <td>...</td>\n      <td>...</td>\n      <td>...</td>\n      <td>...</td>\n    </tr>\n    <tr>\n      <th>62756</th>\n      <td>2023-Feb-2720:00</td>\n      <td>50818.08</td>\n      <td>252009.8</td>\n      <td>0.376</td>\n      <td>4.586</td>\n      <td>89.97540</td>\n      <td>115.2651</td>\n      <td>1.6853</td>\n      <td>1.625168</td>\n      <td>1.480717</td>\n      <td>...</td>\n      <td>/T</td>\n      <td>36.9158</td>\n      <td>178.394642</td>\n      <td>-8.902120</td>\n      <td>30.262223</td>\n      <td>50818.35</td>\n      <td>252011.0</td>\n      <td>0.981419</td>\n      <td>86.676005</td>\n      <td>52.023759</td>\n    </tr>\n    <tr>\n      <th>62757</th>\n      <td>2023-Feb-2721:00</td>\n      <td>50822.42</td>\n      <td>252013.3</td>\n      <td>0.362</td>\n      <td>4.571</td>\n      <td>89.97397</td>\n      <td>115.2842</td>\n      <td>1.6856</td>\n      <td>1.625203</td>\n      <td>1.480146</td>\n      <td>...</td>\n      <td>/T</td>\n      <td>36.9185</td>\n      <td>178.403496</td>\n      <td>-8.888298</td>\n      <td>30.281330</td>\n      <td>50822.69</td>\n      <td>252014.5</td>\n      <td>0.981914</td>\n      <td>86.682231</td>\n      <td>52.001076</td>\n    </tr>\n    <tr>\n      <th>62758</th>\n      <td>2023-Feb-2722:00</td>\n      <td>50826.76</td>\n      <td>252016.9</td>\n      <td>0.342</td>\n      <td>4.551</td>\n      <td>89.97254</td>\n      <td>115.3033</td>\n      <td>1.6858</td>\n      <td>1.625239</td>\n      <td>1.479574</td>\n      <td>...</td>\n      <td>/T</td>\n      <td>36.9213</td>\n      <td>178.412353</td>\n      <td>-8.874468</td>\n      <td>30.300437</td>\n      <td>50827.03</td>\n      <td>252018.1</td>\n      <td>0.982408</td>\n      <td>86.688463</td>\n      <td>51.978409</td>\n    </tr>\n    <tr>\n      <th>62759</th>\n      <td>2023-Feb-2723:00</td>\n      <td>50831.10</td>\n      <td>252020.4</td>\n      <td>0.329</td>\n      <td>4.536</td>\n      <td>89.97112</td>\n      <td>115.3224</td>\n      <td>1.6861</td>\n      <td>1.625275</td>\n      <td>1.479002</td>\n      <td>...</td>\n      <td>/T</td>\n      <td>36.9240</td>\n      <td>178.421214</td>\n      <td>-8.860631</td>\n      <td>30.319543</td>\n      <td>50831.37</td>\n      <td>252021.6</td>\n      <td>0.982901</td>\n      <td>86.694700</td>\n      <td>51.955757</td>\n    </tr>\n    <tr>\n      <th>62760</th>\n      <td>2023-Feb-2800:00</td>\n      <td>50835.44</td>\n      <td>252024.0</td>\n      <td>0.321</td>\n      <td>4.528</td>\n      <td>89.96970</td>\n      <td>115.3415</td>\n      <td>1.6863</td>\n      <td>1.625310</td>\n      <td>1.478430</td>\n      <td>...</td>\n      <td>/T</td>\n      <td>36.9267</td>\n      <td>178.430079</td>\n      <td>-8.846787</td>\n      <td>30.338648</td>\n      <td>50835.71</td>\n      <td>252025.1</td>\n      <td>0.983394</td>\n      <td>86.700942</td>\n      <td>51.933121</td>\n    </tr>\n  </tbody>\n</table>\n<p>62761 rows × 23 columns</p>\n</div>"
     },
     "execution_count": 68,
     "metadata": {},
     "output_type": "execute_result"
    }
   ],
   "source": [
    "planets_copy"
   ],
   "metadata": {
    "collapsed": false
   }
  },
  {
   "cell_type": "code",
   "execution_count": 69,
   "outputs": [
    {
     "data": {
      "text/plain": "array(['/L', '/T'], dtype=object)"
     },
     "execution_count": 69,
     "metadata": {},
     "output_type": "execute_result"
    }
   ],
   "source": [
    "planets_copy['/r'].unique()"
   ],
   "metadata": {
    "collapsed": false
   }
  },
  {
   "cell_type": "code",
   "execution_count": 70,
   "outputs": [],
   "source": [
    "planets_copy['Date__(UT)__HR:MN'] = pd.to_datetime(planets_copy['Date__(UT)__HR:MN'], format='%Y-%b-%d%H:%M')"
   ],
   "metadata": {
    "collapsed": false
   }
  },
  {
   "cell_type": "code",
   "execution_count": 71,
   "outputs": [
    {
     "data": {
      "text/plain": "        Date__(UT)__HR:MN  R.A._(ICRF)  DEC__(ICRF)  APmag  S-brt     Illu%   \n0     2016-01-01 00:00:00    134727.62     -92852.8  1.197  4.562  91.34442  \\\n1     2016-01-01 01:00:00    134732.88     -92922.3  1.174  4.539  91.34207   \n2     2016-01-01 02:00:00    134738.15     -92951.8  1.156  4.522  91.33973   \n3     2016-01-01 03:00:00    134743.42     -93021.3  1.156  4.522  91.33738   \n4     2016-01-01 04:00:00    134748.68     -93050.8  1.169  4.536  91.33503   \n...                   ...          ...          ...    ...    ...       ...   \n62756 2023-02-27 20:00:00     50818.08     252009.8  0.376  4.586  89.97540   \n62757 2023-02-27 21:00:00     50822.42     252013.3  0.362  4.571  89.97397   \n62758 2023-02-27 22:00:00     50826.76     252016.9  0.342  4.551  89.97254   \n62759 2023-02-27 23:00:00     50831.10     252020.4  0.329  4.536  89.97112   \n62760 2023-02-28 00:00:00     50835.44     252024.0  0.321  4.528  89.96970   \n\n       hEcl-Lon  hEcl-Lat         r      rdot  ...  /r    S-T-O      GlxLon   \n0      174.1073    1.5217  1.657735 -0.697666  ...  /L  34.2177  325.196670  \\\n1      174.1257    1.5213  1.657718 -0.698355  ...  /L  34.2225  325.224501   \n2      174.1441    1.5210  1.657701 -0.699045  ...  /L  34.2273  325.252311   \n3      174.1624    1.5207  1.657684 -0.699734  ...  /L  34.2321  325.280100   \n4      174.1808    1.5203  1.657668 -0.700423  ...  /L  34.2369  325.307869   \n...         ...       ...       ...       ...  ...  ..      ...         ...   \n62756  115.2651    1.6853  1.625168  1.480717  ...  /T  36.9158  178.394642   \n62757  115.2842    1.6856  1.625203  1.480146  ...  /T  36.9185  178.403496   \n62758  115.3033    1.6858  1.625239  1.479574  ...  /T  36.9213  178.412353   \n62759  115.3224    1.6861  1.625275  1.479002  ...  /T  36.9240  178.421214   \n62760  115.3415    1.6863  1.625310  1.478430  ...  /T  36.9267  178.430079   \n\n          GlxLat  App_Lon_Sun  RA_(ICRF-a-app)  DEC_(ICRF-a-app)  Sky_motion   \n0      50.953393    89.065096        134727.18          -92850.9    1.388775  \\\n1      50.938281    89.083464        134732.45          -92920.4    1.388634   \n2      50.923165    89.101832        134737.72          -92950.0    1.388492   \n3      50.908043    89.120200        134742.98          -93019.5    1.388351   \n4      50.892917    89.138569        134748.25          -93049.0    1.388209   \n...          ...          ...              ...               ...         ...   \n62756  -8.902120    30.262223         50818.35          252011.0    0.981419   \n62757  -8.888298    30.281330         50822.69          252014.5    0.981914   \n62758  -8.874468    30.300437         50827.03          252018.1    0.982408   \n62759  -8.860631    30.319543         50831.37          252021.6    0.982901   \n62760  -8.846787    30.338648         50835.71          252025.1    0.983394   \n\n       Sky_mot_PA  RelVel-ANG  \n0      110.709640  -30.823870  \n1      110.705670  -30.835690  \n2      110.701700  -30.847510  \n3      110.697730  -30.859340  \n4      110.693750  -30.871170  \n...           ...         ...  \n62756   86.676005   52.023759  \n62757   86.682231   52.001076  \n62758   86.688463   51.978409  \n62759   86.694700   51.955757  \n62760   86.700942   51.933121  \n\n[62761 rows x 23 columns]",
      "text/html": "<div>\n<style scoped>\n    .dataframe tbody tr th:only-of-type {\n        vertical-align: middle;\n    }\n\n    .dataframe tbody tr th {\n        vertical-align: top;\n    }\n\n    .dataframe thead th {\n        text-align: right;\n    }\n</style>\n<table border=\"1\" class=\"dataframe\">\n  <thead>\n    <tr style=\"text-align: right;\">\n      <th></th>\n      <th>Date__(UT)__HR:MN</th>\n      <th>R.A._(ICRF)</th>\n      <th>DEC__(ICRF)</th>\n      <th>APmag</th>\n      <th>S-brt</th>\n      <th>Illu%</th>\n      <th>hEcl-Lon</th>\n      <th>hEcl-Lat</th>\n      <th>r</th>\n      <th>rdot</th>\n      <th>...</th>\n      <th>/r</th>\n      <th>S-T-O</th>\n      <th>GlxLon</th>\n      <th>GlxLat</th>\n      <th>App_Lon_Sun</th>\n      <th>RA_(ICRF-a-app)</th>\n      <th>DEC_(ICRF-a-app)</th>\n      <th>Sky_motion</th>\n      <th>Sky_mot_PA</th>\n      <th>RelVel-ANG</th>\n    </tr>\n  </thead>\n  <tbody>\n    <tr>\n      <th>0</th>\n      <td>2016-01-01 00:00:00</td>\n      <td>134727.62</td>\n      <td>-92852.8</td>\n      <td>1.197</td>\n      <td>4.562</td>\n      <td>91.34442</td>\n      <td>174.1073</td>\n      <td>1.5217</td>\n      <td>1.657735</td>\n      <td>-0.697666</td>\n      <td>...</td>\n      <td>/L</td>\n      <td>34.2177</td>\n      <td>325.196670</td>\n      <td>50.953393</td>\n      <td>89.065096</td>\n      <td>134727.18</td>\n      <td>-92850.9</td>\n      <td>1.388775</td>\n      <td>110.709640</td>\n      <td>-30.823870</td>\n    </tr>\n    <tr>\n      <th>1</th>\n      <td>2016-01-01 01:00:00</td>\n      <td>134732.88</td>\n      <td>-92922.3</td>\n      <td>1.174</td>\n      <td>4.539</td>\n      <td>91.34207</td>\n      <td>174.1257</td>\n      <td>1.5213</td>\n      <td>1.657718</td>\n      <td>-0.698355</td>\n      <td>...</td>\n      <td>/L</td>\n      <td>34.2225</td>\n      <td>325.224501</td>\n      <td>50.938281</td>\n      <td>89.083464</td>\n      <td>134732.45</td>\n      <td>-92920.4</td>\n      <td>1.388634</td>\n      <td>110.705670</td>\n      <td>-30.835690</td>\n    </tr>\n    <tr>\n      <th>2</th>\n      <td>2016-01-01 02:00:00</td>\n      <td>134738.15</td>\n      <td>-92951.8</td>\n      <td>1.156</td>\n      <td>4.522</td>\n      <td>91.33973</td>\n      <td>174.1441</td>\n      <td>1.5210</td>\n      <td>1.657701</td>\n      <td>-0.699045</td>\n      <td>...</td>\n      <td>/L</td>\n      <td>34.2273</td>\n      <td>325.252311</td>\n      <td>50.923165</td>\n      <td>89.101832</td>\n      <td>134737.72</td>\n      <td>-92950.0</td>\n      <td>1.388492</td>\n      <td>110.701700</td>\n      <td>-30.847510</td>\n    </tr>\n    <tr>\n      <th>3</th>\n      <td>2016-01-01 03:00:00</td>\n      <td>134743.42</td>\n      <td>-93021.3</td>\n      <td>1.156</td>\n      <td>4.522</td>\n      <td>91.33738</td>\n      <td>174.1624</td>\n      <td>1.5207</td>\n      <td>1.657684</td>\n      <td>-0.699734</td>\n      <td>...</td>\n      <td>/L</td>\n      <td>34.2321</td>\n      <td>325.280100</td>\n      <td>50.908043</td>\n      <td>89.120200</td>\n      <td>134742.98</td>\n      <td>-93019.5</td>\n      <td>1.388351</td>\n      <td>110.697730</td>\n      <td>-30.859340</td>\n    </tr>\n    <tr>\n      <th>4</th>\n      <td>2016-01-01 04:00:00</td>\n      <td>134748.68</td>\n      <td>-93050.8</td>\n      <td>1.169</td>\n      <td>4.536</td>\n      <td>91.33503</td>\n      <td>174.1808</td>\n      <td>1.5203</td>\n      <td>1.657668</td>\n      <td>-0.700423</td>\n      <td>...</td>\n      <td>/L</td>\n      <td>34.2369</td>\n      <td>325.307869</td>\n      <td>50.892917</td>\n      <td>89.138569</td>\n      <td>134748.25</td>\n      <td>-93049.0</td>\n      <td>1.388209</td>\n      <td>110.693750</td>\n      <td>-30.871170</td>\n    </tr>\n    <tr>\n      <th>...</th>\n      <td>...</td>\n      <td>...</td>\n      <td>...</td>\n      <td>...</td>\n      <td>...</td>\n      <td>...</td>\n      <td>...</td>\n      <td>...</td>\n      <td>...</td>\n      <td>...</td>\n      <td>...</td>\n      <td>...</td>\n      <td>...</td>\n      <td>...</td>\n      <td>...</td>\n      <td>...</td>\n      <td>...</td>\n      <td>...</td>\n      <td>...</td>\n      <td>...</td>\n      <td>...</td>\n    </tr>\n    <tr>\n      <th>62756</th>\n      <td>2023-02-27 20:00:00</td>\n      <td>50818.08</td>\n      <td>252009.8</td>\n      <td>0.376</td>\n      <td>4.586</td>\n      <td>89.97540</td>\n      <td>115.2651</td>\n      <td>1.6853</td>\n      <td>1.625168</td>\n      <td>1.480717</td>\n      <td>...</td>\n      <td>/T</td>\n      <td>36.9158</td>\n      <td>178.394642</td>\n      <td>-8.902120</td>\n      <td>30.262223</td>\n      <td>50818.35</td>\n      <td>252011.0</td>\n      <td>0.981419</td>\n      <td>86.676005</td>\n      <td>52.023759</td>\n    </tr>\n    <tr>\n      <th>62757</th>\n      <td>2023-02-27 21:00:00</td>\n      <td>50822.42</td>\n      <td>252013.3</td>\n      <td>0.362</td>\n      <td>4.571</td>\n      <td>89.97397</td>\n      <td>115.2842</td>\n      <td>1.6856</td>\n      <td>1.625203</td>\n      <td>1.480146</td>\n      <td>...</td>\n      <td>/T</td>\n      <td>36.9185</td>\n      <td>178.403496</td>\n      <td>-8.888298</td>\n      <td>30.281330</td>\n      <td>50822.69</td>\n      <td>252014.5</td>\n      <td>0.981914</td>\n      <td>86.682231</td>\n      <td>52.001076</td>\n    </tr>\n    <tr>\n      <th>62758</th>\n      <td>2023-02-27 22:00:00</td>\n      <td>50826.76</td>\n      <td>252016.9</td>\n      <td>0.342</td>\n      <td>4.551</td>\n      <td>89.97254</td>\n      <td>115.3033</td>\n      <td>1.6858</td>\n      <td>1.625239</td>\n      <td>1.479574</td>\n      <td>...</td>\n      <td>/T</td>\n      <td>36.9213</td>\n      <td>178.412353</td>\n      <td>-8.874468</td>\n      <td>30.300437</td>\n      <td>50827.03</td>\n      <td>252018.1</td>\n      <td>0.982408</td>\n      <td>86.688463</td>\n      <td>51.978409</td>\n    </tr>\n    <tr>\n      <th>62759</th>\n      <td>2023-02-27 23:00:00</td>\n      <td>50831.10</td>\n      <td>252020.4</td>\n      <td>0.329</td>\n      <td>4.536</td>\n      <td>89.97112</td>\n      <td>115.3224</td>\n      <td>1.6861</td>\n      <td>1.625275</td>\n      <td>1.479002</td>\n      <td>...</td>\n      <td>/T</td>\n      <td>36.9240</td>\n      <td>178.421214</td>\n      <td>-8.860631</td>\n      <td>30.319543</td>\n      <td>50831.37</td>\n      <td>252021.6</td>\n      <td>0.982901</td>\n      <td>86.694700</td>\n      <td>51.955757</td>\n    </tr>\n    <tr>\n      <th>62760</th>\n      <td>2023-02-28 00:00:00</td>\n      <td>50835.44</td>\n      <td>252024.0</td>\n      <td>0.321</td>\n      <td>4.528</td>\n      <td>89.96970</td>\n      <td>115.3415</td>\n      <td>1.6863</td>\n      <td>1.625310</td>\n      <td>1.478430</td>\n      <td>...</td>\n      <td>/T</td>\n      <td>36.9267</td>\n      <td>178.430079</td>\n      <td>-8.846787</td>\n      <td>30.338648</td>\n      <td>50835.71</td>\n      <td>252025.1</td>\n      <td>0.983394</td>\n      <td>86.700942</td>\n      <td>51.933121</td>\n    </tr>\n  </tbody>\n</table>\n<p>62761 rows × 23 columns</p>\n</div>"
     },
     "execution_count": 71,
     "metadata": {},
     "output_type": "execute_result"
    }
   ],
   "source": [
    "planets_copy"
   ],
   "metadata": {
    "collapsed": false
   }
  },
  {
   "cell_type": "code",
   "execution_count": 72,
   "outputs": [],
   "source": [
    "planets_copy['year'] = planets_copy['Date__(UT)__HR:MN'].dt.year\n",
    "planets_copy['month'] = planets_copy['Date__(UT)__HR:MN'].dt.month\n",
    "planets_copy['day'] = planets_copy['Date__(UT)__HR:MN'].dt.day\n",
    "planets_copy['time'] = planets_copy['Date__(UT)__HR:MN'].dt.hour + planets_copy['Date__(UT)__HR:MN'].dt.minute / 60\n",
    "planets_copy['date'] = planets_copy['Date__(UT)__HR:MN'].dt.date"
   ],
   "metadata": {
    "collapsed": false
   }
  },
  {
   "cell_type": "code",
   "execution_count": 73,
   "outputs": [],
   "source": [
    "planets_copy.head()\n",
    "planets_copy['R.A._(ICRF)'] = pd.to_datetime(planets_copy['R.A._(ICRF)'], unit='s')\n",
    "planets_copy['R.A._(ICRF)'] = planets_copy['R.A._(ICRF)'].dt.strftime('%H:%M:%S.%f')"
   ],
   "metadata": {
    "collapsed": false
   }
  },
  {
   "cell_type": "code",
   "execution_count": 74,
   "outputs": [
    {
     "data": {
      "text/plain": "Date__(UT)__HR:MN    datetime64[ns]\nR.A._(ICRF)                  object\nDEC__(ICRF)                 float64\nAPmag                       float64\nS-brt                       float64\nIllu%                       float64\nhEcl-Lon                    float64\nhEcl-Lat                    float64\nr                           float64\nrdot                        float64\ndelta                       float64\ndeldot                      float64\nS-O-T                       float64\n/r                           object\nS-T-O                       float64\nGlxLon                      float64\nGlxLat                      float64\nApp_Lon_Sun                 float64\nRA_(ICRF-a-app)             float64\nDEC_(ICRF-a-app)            float64\nSky_motion                  float64\nSky_mot_PA                  float64\nRelVel-ANG                  float64\nyear                          int32\nmonth                         int32\nday                           int32\ntime                        float64\ndate                         object\ndtype: object"
     },
     "execution_count": 74,
     "metadata": {},
     "output_type": "execute_result"
    }
   ],
   "source": [
    "planets_copy.dtypes"
   ],
   "metadata": {
    "collapsed": false
   }
  },
  {
   "cell_type": "code",
   "execution_count": 75,
   "outputs": [
    {
     "data": {
      "text/plain": "        Date__(UT)__HR:MN      R.A._(ICRF)  DEC__(ICRF)  APmag  S-brt   \n0     2016-01-01 00:00:00  13:25:27.620000     -92852.8  1.197  4.562  \\\n1     2016-01-01 01:00:00  13:25:32.880000     -92922.3  1.174  4.539   \n2     2016-01-01 02:00:00  13:25:38.150000     -92951.8  1.156  4.522   \n3     2016-01-01 03:00:00  13:25:43.420000     -93021.3  1.156  4.522   \n4     2016-01-01 04:00:00  13:25:48.680000     -93050.8  1.169  4.536   \n...                   ...              ...          ...    ...    ...   \n62746 2023-02-27 10:00:00  14:05:34.840000     251934.0  0.413  4.631   \n62747 2023-02-27 11:00:00  14:05:39.160000     251937.6  0.397  4.614   \n62748 2023-02-27 12:00:00  14:05:43.470000     251941.2  0.414  4.630   \n62749 2023-02-27 13:00:00  14:05:47.790000     251944.8  0.399  4.614   \n62750 2023-02-27 14:00:00  14:05:52.110000     251948.4  0.395  4.610   \n\n          Illu%  hEcl-Lon  hEcl-Lat         r      rdot  ...  RA_(ICRF-a-app)   \n0      91.34442  174.1073    1.5217  1.657735 -0.697666  ...        134727.18  \\\n1      91.34207  174.1257    1.5213  1.657718 -0.698355  ...        134732.45   \n2      91.33973  174.1441    1.5210  1.657701 -0.699045  ...        134737.72   \n3      91.33738  174.1624    1.5207  1.657684 -0.699734  ...        134742.98   \n4      91.33503  174.1808    1.5203  1.657668 -0.700423  ...        134748.25   \n...         ...       ...       ...       ...       ...  ...              ...   \n62746  89.98998  115.0739    1.6828  1.624811  1.486426  ...         50735.12   \n62747  89.98850  115.0930    1.6830  1.624847  1.485855  ...         50739.43   \n62748  89.98703  115.1121    1.6833  1.624882  1.485285  ...         50743.75   \n62749  89.98556  115.1313    1.6835  1.624918  1.484715  ...         50748.07   \n62750  89.98409  115.1504    1.6838  1.624954  1.484144  ...         50752.39   \n\n       DEC_(ICRF-a-app)  Sky_motion  Sky_mot_PA  RelVel-ANG  year  month  day   \n0              -92850.9    1.388775  110.709640  -30.823870  2016      1    1  \\\n1              -92920.4    1.388634  110.705670  -30.835690  2016      1    1   \n2              -92950.0    1.388492  110.701700  -30.847510  2016      1    1   \n3              -93019.5    1.388351  110.697730  -30.859340  2016      1    1   \n4              -93049.0    1.388209  110.693750  -30.871170  2016      1    1   \n...                 ...         ...         ...         ...   ...    ...  ...   \n62746          251935.2    0.976441   86.614045   52.251454  2023      2   27   \n62747          251938.8    0.976942   86.620217   52.228614  2023      2   27   \n62748          251942.4    0.977442   86.626393   52.205789  2023      2   27   \n62749          251946.0    0.977941   86.632576   52.182980  2023      2   27   \n62750          251949.6    0.978440   86.638763   52.160187  2023      2   27   \n\n       time        date  \n0       0.0  2016-01-01  \n1       1.0  2016-01-01  \n2       2.0  2016-01-01  \n3       3.0  2016-01-01  \n4       4.0  2016-01-01  \n...     ...         ...  \n62746  10.0  2023-02-27  \n62747  11.0  2023-02-27  \n62748  12.0  2023-02-27  \n62749  13.0  2023-02-27  \n62750  14.0  2023-02-27  \n\n[62751 rows x 28 columns]",
      "text/html": "<div>\n<style scoped>\n    .dataframe tbody tr th:only-of-type {\n        vertical-align: middle;\n    }\n\n    .dataframe tbody tr th {\n        vertical-align: top;\n    }\n\n    .dataframe thead th {\n        text-align: right;\n    }\n</style>\n<table border=\"1\" class=\"dataframe\">\n  <thead>\n    <tr style=\"text-align: right;\">\n      <th></th>\n      <th>Date__(UT)__HR:MN</th>\n      <th>R.A._(ICRF)</th>\n      <th>DEC__(ICRF)</th>\n      <th>APmag</th>\n      <th>S-brt</th>\n      <th>Illu%</th>\n      <th>hEcl-Lon</th>\n      <th>hEcl-Lat</th>\n      <th>r</th>\n      <th>rdot</th>\n      <th>...</th>\n      <th>RA_(ICRF-a-app)</th>\n      <th>DEC_(ICRF-a-app)</th>\n      <th>Sky_motion</th>\n      <th>Sky_mot_PA</th>\n      <th>RelVel-ANG</th>\n      <th>year</th>\n      <th>month</th>\n      <th>day</th>\n      <th>time</th>\n      <th>date</th>\n    </tr>\n  </thead>\n  <tbody>\n    <tr>\n      <th>0</th>\n      <td>2016-01-01 00:00:00</td>\n      <td>13:25:27.620000</td>\n      <td>-92852.8</td>\n      <td>1.197</td>\n      <td>4.562</td>\n      <td>91.34442</td>\n      <td>174.1073</td>\n      <td>1.5217</td>\n      <td>1.657735</td>\n      <td>-0.697666</td>\n      <td>...</td>\n      <td>134727.18</td>\n      <td>-92850.9</td>\n      <td>1.388775</td>\n      <td>110.709640</td>\n      <td>-30.823870</td>\n      <td>2016</td>\n      <td>1</td>\n      <td>1</td>\n      <td>0.0</td>\n      <td>2016-01-01</td>\n    </tr>\n    <tr>\n      <th>1</th>\n      <td>2016-01-01 01:00:00</td>\n      <td>13:25:32.880000</td>\n      <td>-92922.3</td>\n      <td>1.174</td>\n      <td>4.539</td>\n      <td>91.34207</td>\n      <td>174.1257</td>\n      <td>1.5213</td>\n      <td>1.657718</td>\n      <td>-0.698355</td>\n      <td>...</td>\n      <td>134732.45</td>\n      <td>-92920.4</td>\n      <td>1.388634</td>\n      <td>110.705670</td>\n      <td>-30.835690</td>\n      <td>2016</td>\n      <td>1</td>\n      <td>1</td>\n      <td>1.0</td>\n      <td>2016-01-01</td>\n    </tr>\n    <tr>\n      <th>2</th>\n      <td>2016-01-01 02:00:00</td>\n      <td>13:25:38.150000</td>\n      <td>-92951.8</td>\n      <td>1.156</td>\n      <td>4.522</td>\n      <td>91.33973</td>\n      <td>174.1441</td>\n      <td>1.5210</td>\n      <td>1.657701</td>\n      <td>-0.699045</td>\n      <td>...</td>\n      <td>134737.72</td>\n      <td>-92950.0</td>\n      <td>1.388492</td>\n      <td>110.701700</td>\n      <td>-30.847510</td>\n      <td>2016</td>\n      <td>1</td>\n      <td>1</td>\n      <td>2.0</td>\n      <td>2016-01-01</td>\n    </tr>\n    <tr>\n      <th>3</th>\n      <td>2016-01-01 03:00:00</td>\n      <td>13:25:43.420000</td>\n      <td>-93021.3</td>\n      <td>1.156</td>\n      <td>4.522</td>\n      <td>91.33738</td>\n      <td>174.1624</td>\n      <td>1.5207</td>\n      <td>1.657684</td>\n      <td>-0.699734</td>\n      <td>...</td>\n      <td>134742.98</td>\n      <td>-93019.5</td>\n      <td>1.388351</td>\n      <td>110.697730</td>\n      <td>-30.859340</td>\n      <td>2016</td>\n      <td>1</td>\n      <td>1</td>\n      <td>3.0</td>\n      <td>2016-01-01</td>\n    </tr>\n    <tr>\n      <th>4</th>\n      <td>2016-01-01 04:00:00</td>\n      <td>13:25:48.680000</td>\n      <td>-93050.8</td>\n      <td>1.169</td>\n      <td>4.536</td>\n      <td>91.33503</td>\n      <td>174.1808</td>\n      <td>1.5203</td>\n      <td>1.657668</td>\n      <td>-0.700423</td>\n      <td>...</td>\n      <td>134748.25</td>\n      <td>-93049.0</td>\n      <td>1.388209</td>\n      <td>110.693750</td>\n      <td>-30.871170</td>\n      <td>2016</td>\n      <td>1</td>\n      <td>1</td>\n      <td>4.0</td>\n      <td>2016-01-01</td>\n    </tr>\n    <tr>\n      <th>...</th>\n      <td>...</td>\n      <td>...</td>\n      <td>...</td>\n      <td>...</td>\n      <td>...</td>\n      <td>...</td>\n      <td>...</td>\n      <td>...</td>\n      <td>...</td>\n      <td>...</td>\n      <td>...</td>\n      <td>...</td>\n      <td>...</td>\n      <td>...</td>\n      <td>...</td>\n      <td>...</td>\n      <td>...</td>\n      <td>...</td>\n      <td>...</td>\n      <td>...</td>\n      <td>...</td>\n    </tr>\n    <tr>\n      <th>62746</th>\n      <td>2023-02-27 10:00:00</td>\n      <td>14:05:34.840000</td>\n      <td>251934.0</td>\n      <td>0.413</td>\n      <td>4.631</td>\n      <td>89.98998</td>\n      <td>115.0739</td>\n      <td>1.6828</td>\n      <td>1.624811</td>\n      <td>1.486426</td>\n      <td>...</td>\n      <td>50735.12</td>\n      <td>251935.2</td>\n      <td>0.976441</td>\n      <td>86.614045</td>\n      <td>52.251454</td>\n      <td>2023</td>\n      <td>2</td>\n      <td>27</td>\n      <td>10.0</td>\n      <td>2023-02-27</td>\n    </tr>\n    <tr>\n      <th>62747</th>\n      <td>2023-02-27 11:00:00</td>\n      <td>14:05:39.160000</td>\n      <td>251937.6</td>\n      <td>0.397</td>\n      <td>4.614</td>\n      <td>89.98850</td>\n      <td>115.0930</td>\n      <td>1.6830</td>\n      <td>1.624847</td>\n      <td>1.485855</td>\n      <td>...</td>\n      <td>50739.43</td>\n      <td>251938.8</td>\n      <td>0.976942</td>\n      <td>86.620217</td>\n      <td>52.228614</td>\n      <td>2023</td>\n      <td>2</td>\n      <td>27</td>\n      <td>11.0</td>\n      <td>2023-02-27</td>\n    </tr>\n    <tr>\n      <th>62748</th>\n      <td>2023-02-27 12:00:00</td>\n      <td>14:05:43.470000</td>\n      <td>251941.2</td>\n      <td>0.414</td>\n      <td>4.630</td>\n      <td>89.98703</td>\n      <td>115.1121</td>\n      <td>1.6833</td>\n      <td>1.624882</td>\n      <td>1.485285</td>\n      <td>...</td>\n      <td>50743.75</td>\n      <td>251942.4</td>\n      <td>0.977442</td>\n      <td>86.626393</td>\n      <td>52.205789</td>\n      <td>2023</td>\n      <td>2</td>\n      <td>27</td>\n      <td>12.0</td>\n      <td>2023-02-27</td>\n    </tr>\n    <tr>\n      <th>62749</th>\n      <td>2023-02-27 13:00:00</td>\n      <td>14:05:47.790000</td>\n      <td>251944.8</td>\n      <td>0.399</td>\n      <td>4.614</td>\n      <td>89.98556</td>\n      <td>115.1313</td>\n      <td>1.6835</td>\n      <td>1.624918</td>\n      <td>1.484715</td>\n      <td>...</td>\n      <td>50748.07</td>\n      <td>251946.0</td>\n      <td>0.977941</td>\n      <td>86.632576</td>\n      <td>52.182980</td>\n      <td>2023</td>\n      <td>2</td>\n      <td>27</td>\n      <td>13.0</td>\n      <td>2023-02-27</td>\n    </tr>\n    <tr>\n      <th>62750</th>\n      <td>2023-02-27 14:00:00</td>\n      <td>14:05:52.110000</td>\n      <td>251948.4</td>\n      <td>0.395</td>\n      <td>4.610</td>\n      <td>89.98409</td>\n      <td>115.1504</td>\n      <td>1.6838</td>\n      <td>1.624954</td>\n      <td>1.484144</td>\n      <td>...</td>\n      <td>50752.39</td>\n      <td>251949.6</td>\n      <td>0.978440</td>\n      <td>86.638763</td>\n      <td>52.160187</td>\n      <td>2023</td>\n      <td>2</td>\n      <td>27</td>\n      <td>14.0</td>\n      <td>2023-02-27</td>\n    </tr>\n  </tbody>\n</table>\n<p>62751 rows × 28 columns</p>\n</div>"
     },
     "execution_count": 75,
     "metadata": {},
     "output_type": "execute_result"
    }
   ],
   "source": [
    "planets_copy.head(-10)"
   ],
   "metadata": {
    "collapsed": false
   }
  },
  {
   "cell_type": "code",
   "execution_count": 46,
   "outputs": [
    {
     "data": {
      "text/plain": "        Date__(UT)__HR:MN      R.A._(ICRF)  DEC__(ICRF)  APmag  S-brt   \n0     2016-01-01 00:00:00  13:25:27.620000     -92852.8  1.197  4.562  \\\n1     2016-01-01 01:00:00  13:25:32.880000     -92922.3  1.174  4.539   \n2     2016-01-01 02:00:00  13:25:38.150000     -92951.8  1.156  4.522   \n3     2016-01-01 03:00:00  13:25:43.420000     -93021.3  1.156  4.522   \n4     2016-01-01 04:00:00  13:25:48.680000     -93050.8  1.169  4.536   \n...                   ...              ...          ...    ...    ...   \n62756 2023-02-27 20:00:00  14:06:58.080000     252009.8  0.376  4.586   \n62757 2023-02-27 21:00:00  14:07:02.420000     252013.3  0.362  4.571   \n62758 2023-02-27 22:00:00  14:07:06.760000     252016.9  0.342  4.551   \n62759 2023-02-27 23:00:00  14:07:11.100000     252020.4  0.329  4.536   \n62760 2023-02-28 00:00:00  14:07:15.440000     252024.0  0.321  4.528   \n\n          Illu%  hEcl-Lon  hEcl-Lat         r      rdot  ...   \n0      91.34442  174.1073    1.5217  1.657735 -0.697666  ...  \\\n1      91.34207  174.1257    1.5213  1.657718 -0.698355  ...   \n2      91.33973  174.1441    1.5210  1.657701 -0.699045  ...   \n3      91.33738  174.1624    1.5207  1.657684 -0.699734  ...   \n4      91.33503  174.1808    1.5203  1.657668 -0.700423  ...   \n...         ...       ...       ...       ...       ...  ...   \n62756  89.97540  115.2651    1.6853  1.625168  1.480717  ...   \n62757  89.97397  115.2842    1.6856  1.625203  1.480146  ...   \n62758  89.97254  115.3033    1.6858  1.625239  1.479574  ...   \n62759  89.97112  115.3224    1.6861  1.625275  1.479002  ...   \n62760  89.96970  115.3415    1.6863  1.625310  1.478430  ...   \n\n       DEC_(ICRF-a-app)  Sky_motion  Sky_mot_PA RelVel-ANG  year  month  day   \n0              -92850.9    1.388775  110.709640 -30.823870  2016      1    1  \\\n1              -92920.4    1.388634  110.705670 -30.835690  2016      1    1   \n2              -92950.0    1.388492  110.701700 -30.847510  2016      1    1   \n3              -93019.5    1.388351  110.697730 -30.859340  2016      1    1   \n4              -93049.0    1.388209  110.693750 -30.871170  2016      1    1   \n...                 ...         ...         ...        ...   ...    ...  ...   \n62756          252011.0    0.981419   86.676005  52.023759  2023      2   27   \n62757          252014.5    0.981914   86.682231  52.001076  2023      2   27   \n62758          252018.1    0.982408   86.688463  51.978409  2023      2   27   \n62759          252021.6    0.982901   86.694700  51.955757  2023      2   27   \n62760          252025.1    0.983394   86.700942  51.933121  2023      2   28   \n\n       time        date  weekday  \n0       0.0  2016-01-01        4  \n1       1.0  2016-01-01        4  \n2       2.0  2016-01-01        4  \n3       3.0  2016-01-01        4  \n4       4.0  2016-01-01        4  \n...     ...         ...      ...  \n62756  20.0  2023-02-27        0  \n62757  21.0  2023-02-27        0  \n62758  22.0  2023-02-27        0  \n62759  23.0  2023-02-27        0  \n62760   0.0  2023-02-28        1  \n\n[44809 rows x 29 columns]",
      "text/html": "<div>\n<style scoped>\n    .dataframe tbody tr th:only-of-type {\n        vertical-align: middle;\n    }\n\n    .dataframe tbody tr th {\n        vertical-align: top;\n    }\n\n    .dataframe thead th {\n        text-align: right;\n    }\n</style>\n<table border=\"1\" class=\"dataframe\">\n  <thead>\n    <tr style=\"text-align: right;\">\n      <th></th>\n      <th>Date__(UT)__HR:MN</th>\n      <th>R.A._(ICRF)</th>\n      <th>DEC__(ICRF)</th>\n      <th>APmag</th>\n      <th>S-brt</th>\n      <th>Illu%</th>\n      <th>hEcl-Lon</th>\n      <th>hEcl-Lat</th>\n      <th>r</th>\n      <th>rdot</th>\n      <th>...</th>\n      <th>DEC_(ICRF-a-app)</th>\n      <th>Sky_motion</th>\n      <th>Sky_mot_PA</th>\n      <th>RelVel-ANG</th>\n      <th>year</th>\n      <th>month</th>\n      <th>day</th>\n      <th>time</th>\n      <th>date</th>\n      <th>weekday</th>\n    </tr>\n  </thead>\n  <tbody>\n    <tr>\n      <th>0</th>\n      <td>2016-01-01 00:00:00</td>\n      <td>13:25:27.620000</td>\n      <td>-92852.8</td>\n      <td>1.197</td>\n      <td>4.562</td>\n      <td>91.34442</td>\n      <td>174.1073</td>\n      <td>1.5217</td>\n      <td>1.657735</td>\n      <td>-0.697666</td>\n      <td>...</td>\n      <td>-92850.9</td>\n      <td>1.388775</td>\n      <td>110.709640</td>\n      <td>-30.823870</td>\n      <td>2016</td>\n      <td>1</td>\n      <td>1</td>\n      <td>0.0</td>\n      <td>2016-01-01</td>\n      <td>4</td>\n    </tr>\n    <tr>\n      <th>1</th>\n      <td>2016-01-01 01:00:00</td>\n      <td>13:25:32.880000</td>\n      <td>-92922.3</td>\n      <td>1.174</td>\n      <td>4.539</td>\n      <td>91.34207</td>\n      <td>174.1257</td>\n      <td>1.5213</td>\n      <td>1.657718</td>\n      <td>-0.698355</td>\n      <td>...</td>\n      <td>-92920.4</td>\n      <td>1.388634</td>\n      <td>110.705670</td>\n      <td>-30.835690</td>\n      <td>2016</td>\n      <td>1</td>\n      <td>1</td>\n      <td>1.0</td>\n      <td>2016-01-01</td>\n      <td>4</td>\n    </tr>\n    <tr>\n      <th>2</th>\n      <td>2016-01-01 02:00:00</td>\n      <td>13:25:38.150000</td>\n      <td>-92951.8</td>\n      <td>1.156</td>\n      <td>4.522</td>\n      <td>91.33973</td>\n      <td>174.1441</td>\n      <td>1.5210</td>\n      <td>1.657701</td>\n      <td>-0.699045</td>\n      <td>...</td>\n      <td>-92950.0</td>\n      <td>1.388492</td>\n      <td>110.701700</td>\n      <td>-30.847510</td>\n      <td>2016</td>\n      <td>1</td>\n      <td>1</td>\n      <td>2.0</td>\n      <td>2016-01-01</td>\n      <td>4</td>\n    </tr>\n    <tr>\n      <th>3</th>\n      <td>2016-01-01 03:00:00</td>\n      <td>13:25:43.420000</td>\n      <td>-93021.3</td>\n      <td>1.156</td>\n      <td>4.522</td>\n      <td>91.33738</td>\n      <td>174.1624</td>\n      <td>1.5207</td>\n      <td>1.657684</td>\n      <td>-0.699734</td>\n      <td>...</td>\n      <td>-93019.5</td>\n      <td>1.388351</td>\n      <td>110.697730</td>\n      <td>-30.859340</td>\n      <td>2016</td>\n      <td>1</td>\n      <td>1</td>\n      <td>3.0</td>\n      <td>2016-01-01</td>\n      <td>4</td>\n    </tr>\n    <tr>\n      <th>4</th>\n      <td>2016-01-01 04:00:00</td>\n      <td>13:25:48.680000</td>\n      <td>-93050.8</td>\n      <td>1.169</td>\n      <td>4.536</td>\n      <td>91.33503</td>\n      <td>174.1808</td>\n      <td>1.5203</td>\n      <td>1.657668</td>\n      <td>-0.700423</td>\n      <td>...</td>\n      <td>-93049.0</td>\n      <td>1.388209</td>\n      <td>110.693750</td>\n      <td>-30.871170</td>\n      <td>2016</td>\n      <td>1</td>\n      <td>1</td>\n      <td>4.0</td>\n      <td>2016-01-01</td>\n      <td>4</td>\n    </tr>\n    <tr>\n      <th>...</th>\n      <td>...</td>\n      <td>...</td>\n      <td>...</td>\n      <td>...</td>\n      <td>...</td>\n      <td>...</td>\n      <td>...</td>\n      <td>...</td>\n      <td>...</td>\n      <td>...</td>\n      <td>...</td>\n      <td>...</td>\n      <td>...</td>\n      <td>...</td>\n      <td>...</td>\n      <td>...</td>\n      <td>...</td>\n      <td>...</td>\n      <td>...</td>\n      <td>...</td>\n      <td>...</td>\n    </tr>\n    <tr>\n      <th>62756</th>\n      <td>2023-02-27 20:00:00</td>\n      <td>14:06:58.080000</td>\n      <td>252009.8</td>\n      <td>0.376</td>\n      <td>4.586</td>\n      <td>89.97540</td>\n      <td>115.2651</td>\n      <td>1.6853</td>\n      <td>1.625168</td>\n      <td>1.480717</td>\n      <td>...</td>\n      <td>252011.0</td>\n      <td>0.981419</td>\n      <td>86.676005</td>\n      <td>52.023759</td>\n      <td>2023</td>\n      <td>2</td>\n      <td>27</td>\n      <td>20.0</td>\n      <td>2023-02-27</td>\n      <td>0</td>\n    </tr>\n    <tr>\n      <th>62757</th>\n      <td>2023-02-27 21:00:00</td>\n      <td>14:07:02.420000</td>\n      <td>252013.3</td>\n      <td>0.362</td>\n      <td>4.571</td>\n      <td>89.97397</td>\n      <td>115.2842</td>\n      <td>1.6856</td>\n      <td>1.625203</td>\n      <td>1.480146</td>\n      <td>...</td>\n      <td>252014.5</td>\n      <td>0.981914</td>\n      <td>86.682231</td>\n      <td>52.001076</td>\n      <td>2023</td>\n      <td>2</td>\n      <td>27</td>\n      <td>21.0</td>\n      <td>2023-02-27</td>\n      <td>0</td>\n    </tr>\n    <tr>\n      <th>62758</th>\n      <td>2023-02-27 22:00:00</td>\n      <td>14:07:06.760000</td>\n      <td>252016.9</td>\n      <td>0.342</td>\n      <td>4.551</td>\n      <td>89.97254</td>\n      <td>115.3033</td>\n      <td>1.6858</td>\n      <td>1.625239</td>\n      <td>1.479574</td>\n      <td>...</td>\n      <td>252018.1</td>\n      <td>0.982408</td>\n      <td>86.688463</td>\n      <td>51.978409</td>\n      <td>2023</td>\n      <td>2</td>\n      <td>27</td>\n      <td>22.0</td>\n      <td>2023-02-27</td>\n      <td>0</td>\n    </tr>\n    <tr>\n      <th>62759</th>\n      <td>2023-02-27 23:00:00</td>\n      <td>14:07:11.100000</td>\n      <td>252020.4</td>\n      <td>0.329</td>\n      <td>4.536</td>\n      <td>89.97112</td>\n      <td>115.3224</td>\n      <td>1.6861</td>\n      <td>1.625275</td>\n      <td>1.479002</td>\n      <td>...</td>\n      <td>252021.6</td>\n      <td>0.982901</td>\n      <td>86.694700</td>\n      <td>51.955757</td>\n      <td>2023</td>\n      <td>2</td>\n      <td>27</td>\n      <td>23.0</td>\n      <td>2023-02-27</td>\n      <td>0</td>\n    </tr>\n    <tr>\n      <th>62760</th>\n      <td>2023-02-28 00:00:00</td>\n      <td>14:07:15.440000</td>\n      <td>252024.0</td>\n      <td>0.321</td>\n      <td>4.528</td>\n      <td>89.96970</td>\n      <td>115.3415</td>\n      <td>1.6863</td>\n      <td>1.625310</td>\n      <td>1.478430</td>\n      <td>...</td>\n      <td>252025.1</td>\n      <td>0.983394</td>\n      <td>86.700942</td>\n      <td>51.933121</td>\n      <td>2023</td>\n      <td>2</td>\n      <td>28</td>\n      <td>0.0</td>\n      <td>2023-02-28</td>\n      <td>1</td>\n    </tr>\n  </tbody>\n</table>\n<p>44809 rows × 29 columns</p>\n</div>"
     },
     "execution_count": 46,
     "metadata": {},
     "output_type": "execute_result"
    }
   ],
   "source": [
    "# filter weekday monday to friday\n",
    "planets_copy['weekday'] = planets_copy['Date__(UT)__HR:MN'].dt.dayofweek\n",
    "planets_copy = planets_copy[planets_copy['weekday'] < 5]\n",
    "planets_copy"
   ],
   "metadata": {
    "collapsed": false
   }
  },
  {
   "cell_type": "code",
   "execution_count": 47,
   "outputs": [
    {
     "name": "stderr",
     "output_type": "stream",
     "text": [
      "C:\\Users\\alexg\\AppData\\Local\\Temp\\ipykernel_1908\\2432298560.py:2: SettingWithCopyWarning: \n",
      "A value is trying to be set on a copy of a slice from a DataFrame\n",
      "\n",
      "See the caveats in the documentation: https://pandas.pydata.org/pandas-docs/stable/user_guide/indexing.html#returning-a-view-versus-a-copy\n",
      "  df.query('time >= @start and time <= @end', inplace=True)\n"
     ]
    },
    {
     "data": {
      "text/plain": "(16803, 29)"
     },
     "execution_count": 47,
     "metadata": {},
     "output_type": "execute_result"
    }
   ],
   "source": [
    "def filter_by_time(df, start, end):\n",
    "    df.query('time >= @start and time <= @end', inplace=True)\n",
    "    return df\n",
    "work_hour_df = filter_by_time(planets_copy, 9, 17)\n",
    "work_hour_df.shape"
   ],
   "metadata": {
    "collapsed": false
   }
  },
  {
   "cell_type": "code",
   "execution_count": 48,
   "outputs": [
    {
     "data": {
      "text/plain": "DatetimeIndex(['2016-01-18', '2016-02-15', '2016-05-30', '2016-07-04',\n               '2016-09-05', '2016-10-10', '2016-11-11', '2016-11-24',\n               '2016-12-26', '2017-01-02', '2017-01-16', '2017-02-20',\n               '2017-05-29', '2017-07-04', '2017-09-04', '2017-10-09',\n               '2017-11-10', '2017-11-23', '2017-12-25', '2018-01-01',\n               '2018-01-15', '2018-02-19', '2018-05-28', '2018-07-04',\n               '2018-09-03', '2018-10-08', '2018-11-12', '2018-11-22',\n               '2018-12-25', '2019-01-01', '2019-01-21', '2019-02-18',\n               '2019-05-27', '2019-07-04', '2019-09-02', '2019-10-14',\n               '2019-11-11', '2019-11-28', '2019-12-25', '2020-01-01',\n               '2020-01-20', '2020-02-17', '2020-05-25', '2020-07-03',\n               '2020-09-07', '2020-10-12', '2020-11-11', '2020-11-26',\n               '2020-12-25', '2021-01-01', '2021-01-18', '2021-02-15',\n               '2021-05-31', '2021-06-18', '2021-07-05', '2021-09-06',\n               '2021-10-11', '2021-11-11', '2021-11-25', '2021-12-24',\n               '2021-12-31', '2022-01-17', '2022-02-21', '2022-05-30',\n               '2022-06-20', '2022-07-04', '2022-09-05', '2022-10-10',\n               '2022-11-11', '2022-11-24', '2022-12-26', '2023-01-02',\n               '2023-01-16', '2023-02-20'],\n              dtype='datetime64[ns]', freq=None)"
     },
     "execution_count": 48,
     "metadata": {},
     "output_type": "execute_result"
    }
   ],
   "source": [
    "#import holidays\n",
    "from pandas.tseries.holiday import USFederalHolidayCalendar\n",
    "\n",
    "cal = USFederalHolidayCalendar()\n",
    "\n",
    "holidays = cal.holidays(start=work_hour_df['Date__(UT)__HR:MN'].min(), end=work_hour_df['Date__(UT)__HR:MN'].max())\n",
    "holidays\n",
    "holidays = pd.to_datetime(holidays, format='%Y-%b-%d%H:%M')\n",
    "holidays"
   ],
   "metadata": {
    "collapsed": false
   }
  },
  {
   "cell_type": "code",
   "execution_count": 49,
   "outputs": [
    {
     "data": {
      "text/plain": "(16803, 29)"
     },
     "execution_count": 49,
     "metadata": {},
     "output_type": "execute_result"
    }
   ],
   "source": [
    "# filter out holidays\n",
    "work_hour_df = work_hour_df[~work_hour_df['date'].isin(holidays)]\n",
    "work_hour_df.shape"
   ],
   "metadata": {
    "collapsed": false
   }
  },
  {
   "cell_type": "code",
   "execution_count": 50,
   "outputs": [
    {
     "data": {
      "text/plain": "     Date__(UT)__HR:MN      R.A._(ICRF)  DEC__(ICRF)  APmag  S-brt     Illu%   \n9  2016-01-01 09:00:00  13:26:55.010000     -93318.2  1.203  4.573  91.32333  \\\n10 2016-01-01 10:00:00  13:27:00.269999     -93347.6  1.214  4.584  91.32099   \n11 2016-01-01 11:00:00  13:27:05.540000     -93417.1  1.228  4.598  91.31865   \n12 2016-01-01 12:00:00  13:27:10.799999     -93446.5  1.235  4.606  91.31631   \n13 2016-01-01 13:00:00  13:27:16.060000     -93515.9  1.258  4.630  91.31398   \n14 2016-01-01 14:00:00  13:27:21.329999     -93545.3  1.237  4.609  91.31165   \n15 2016-01-01 15:00:00  13:27:26.590000     -93614.8  1.243  4.615  91.30931   \n16 2016-01-01 16:00:00  13:27:31.850000     -93644.1  1.249  4.622  91.30698   \n17 2016-01-01 17:00:00  13:27:37.109999     -93713.5  1.227  4.600  91.30465   \n81 2016-01-04 09:00:00  13:37:13.299999    -100816.6  1.139  4.544  91.15779   \n\n    hEcl-Lon  hEcl-Lat         r      rdot  ...  DEC_(ICRF-a-app)  Sky_motion   \n9   174.2727    1.5186  1.657583 -0.703869  ...          -93316.3    1.387498  \\\n10  174.2910    1.5183  1.657566 -0.704558  ...          -93345.8    1.387355   \n11  174.3094    1.5180  1.657549 -0.705247  ...          -93415.2    1.387212   \n12  174.3278    1.5176  1.657532 -0.705936  ...          -93444.7    1.387069   \n13  174.3462    1.5173  1.657515 -0.706624  ...          -93514.1    1.386926   \n14  174.3645    1.5169  1.657498 -0.707313  ...          -93543.5    1.386783   \n15  174.3829    1.5166  1.657481 -0.708002  ...          -93612.9    1.386639   \n16  174.4013    1.5163  1.657464 -0.708691  ...          -93642.3    1.386496   \n17  174.4197    1.5159  1.657447 -0.709379  ...          -93711.7    1.386352   \n81  175.5966    1.4939  1.656321 -0.753322  ...         -100815.0    1.376839   \n\n    Sky_mot_PA RelVel-ANG  year  month  day  time        date  weekday  \n9    110.67384  -30.93041  2016      1    1   9.0  2016-01-01        4  \n10   110.66985  -30.94227  2016      1    1  10.0  2016-01-01        4  \n11   110.66586  -30.95413  2016      1    1  11.0  2016-01-01        4  \n12   110.66186  -30.96600  2016      1    1  12.0  2016-01-01        4  \n13   110.65786  -30.97788  2016      1    1  13.0  2016-01-01        4  \n14   110.65386  -30.98976  2016      1    1  14.0  2016-01-01        4  \n15   110.64986  -31.00164  2016      1    1  15.0  2016-01-01        4  \n16   110.64586  -31.01353  2016      1    1  16.0  2016-01-01        4  \n17   110.64185  -31.02543  2016      1    1  17.0  2016-01-01        4  \n81   110.38058  -31.79616  2016      1    4   9.0  2016-01-04        0  \n\n[10 rows x 29 columns]",
      "text/html": "<div>\n<style scoped>\n    .dataframe tbody tr th:only-of-type {\n        vertical-align: middle;\n    }\n\n    .dataframe tbody tr th {\n        vertical-align: top;\n    }\n\n    .dataframe thead th {\n        text-align: right;\n    }\n</style>\n<table border=\"1\" class=\"dataframe\">\n  <thead>\n    <tr style=\"text-align: right;\">\n      <th></th>\n      <th>Date__(UT)__HR:MN</th>\n      <th>R.A._(ICRF)</th>\n      <th>DEC__(ICRF)</th>\n      <th>APmag</th>\n      <th>S-brt</th>\n      <th>Illu%</th>\n      <th>hEcl-Lon</th>\n      <th>hEcl-Lat</th>\n      <th>r</th>\n      <th>rdot</th>\n      <th>...</th>\n      <th>DEC_(ICRF-a-app)</th>\n      <th>Sky_motion</th>\n      <th>Sky_mot_PA</th>\n      <th>RelVel-ANG</th>\n      <th>year</th>\n      <th>month</th>\n      <th>day</th>\n      <th>time</th>\n      <th>date</th>\n      <th>weekday</th>\n    </tr>\n  </thead>\n  <tbody>\n    <tr>\n      <th>9</th>\n      <td>2016-01-01 09:00:00</td>\n      <td>13:26:55.010000</td>\n      <td>-93318.2</td>\n      <td>1.203</td>\n      <td>4.573</td>\n      <td>91.32333</td>\n      <td>174.2727</td>\n      <td>1.5186</td>\n      <td>1.657583</td>\n      <td>-0.703869</td>\n      <td>...</td>\n      <td>-93316.3</td>\n      <td>1.387498</td>\n      <td>110.67384</td>\n      <td>-30.93041</td>\n      <td>2016</td>\n      <td>1</td>\n      <td>1</td>\n      <td>9.0</td>\n      <td>2016-01-01</td>\n      <td>4</td>\n    </tr>\n    <tr>\n      <th>10</th>\n      <td>2016-01-01 10:00:00</td>\n      <td>13:27:00.269999</td>\n      <td>-93347.6</td>\n      <td>1.214</td>\n      <td>4.584</td>\n      <td>91.32099</td>\n      <td>174.2910</td>\n      <td>1.5183</td>\n      <td>1.657566</td>\n      <td>-0.704558</td>\n      <td>...</td>\n      <td>-93345.8</td>\n      <td>1.387355</td>\n      <td>110.66985</td>\n      <td>-30.94227</td>\n      <td>2016</td>\n      <td>1</td>\n      <td>1</td>\n      <td>10.0</td>\n      <td>2016-01-01</td>\n      <td>4</td>\n    </tr>\n    <tr>\n      <th>11</th>\n      <td>2016-01-01 11:00:00</td>\n      <td>13:27:05.540000</td>\n      <td>-93417.1</td>\n      <td>1.228</td>\n      <td>4.598</td>\n      <td>91.31865</td>\n      <td>174.3094</td>\n      <td>1.5180</td>\n      <td>1.657549</td>\n      <td>-0.705247</td>\n      <td>...</td>\n      <td>-93415.2</td>\n      <td>1.387212</td>\n      <td>110.66586</td>\n      <td>-30.95413</td>\n      <td>2016</td>\n      <td>1</td>\n      <td>1</td>\n      <td>11.0</td>\n      <td>2016-01-01</td>\n      <td>4</td>\n    </tr>\n    <tr>\n      <th>12</th>\n      <td>2016-01-01 12:00:00</td>\n      <td>13:27:10.799999</td>\n      <td>-93446.5</td>\n      <td>1.235</td>\n      <td>4.606</td>\n      <td>91.31631</td>\n      <td>174.3278</td>\n      <td>1.5176</td>\n      <td>1.657532</td>\n      <td>-0.705936</td>\n      <td>...</td>\n      <td>-93444.7</td>\n      <td>1.387069</td>\n      <td>110.66186</td>\n      <td>-30.96600</td>\n      <td>2016</td>\n      <td>1</td>\n      <td>1</td>\n      <td>12.0</td>\n      <td>2016-01-01</td>\n      <td>4</td>\n    </tr>\n    <tr>\n      <th>13</th>\n      <td>2016-01-01 13:00:00</td>\n      <td>13:27:16.060000</td>\n      <td>-93515.9</td>\n      <td>1.258</td>\n      <td>4.630</td>\n      <td>91.31398</td>\n      <td>174.3462</td>\n      <td>1.5173</td>\n      <td>1.657515</td>\n      <td>-0.706624</td>\n      <td>...</td>\n      <td>-93514.1</td>\n      <td>1.386926</td>\n      <td>110.65786</td>\n      <td>-30.97788</td>\n      <td>2016</td>\n      <td>1</td>\n      <td>1</td>\n      <td>13.0</td>\n      <td>2016-01-01</td>\n      <td>4</td>\n    </tr>\n    <tr>\n      <th>14</th>\n      <td>2016-01-01 14:00:00</td>\n      <td>13:27:21.329999</td>\n      <td>-93545.3</td>\n      <td>1.237</td>\n      <td>4.609</td>\n      <td>91.31165</td>\n      <td>174.3645</td>\n      <td>1.5169</td>\n      <td>1.657498</td>\n      <td>-0.707313</td>\n      <td>...</td>\n      <td>-93543.5</td>\n      <td>1.386783</td>\n      <td>110.65386</td>\n      <td>-30.98976</td>\n      <td>2016</td>\n      <td>1</td>\n      <td>1</td>\n      <td>14.0</td>\n      <td>2016-01-01</td>\n      <td>4</td>\n    </tr>\n    <tr>\n      <th>15</th>\n      <td>2016-01-01 15:00:00</td>\n      <td>13:27:26.590000</td>\n      <td>-93614.8</td>\n      <td>1.243</td>\n      <td>4.615</td>\n      <td>91.30931</td>\n      <td>174.3829</td>\n      <td>1.5166</td>\n      <td>1.657481</td>\n      <td>-0.708002</td>\n      <td>...</td>\n      <td>-93612.9</td>\n      <td>1.386639</td>\n      <td>110.64986</td>\n      <td>-31.00164</td>\n      <td>2016</td>\n      <td>1</td>\n      <td>1</td>\n      <td>15.0</td>\n      <td>2016-01-01</td>\n      <td>4</td>\n    </tr>\n    <tr>\n      <th>16</th>\n      <td>2016-01-01 16:00:00</td>\n      <td>13:27:31.850000</td>\n      <td>-93644.1</td>\n      <td>1.249</td>\n      <td>4.622</td>\n      <td>91.30698</td>\n      <td>174.4013</td>\n      <td>1.5163</td>\n      <td>1.657464</td>\n      <td>-0.708691</td>\n      <td>...</td>\n      <td>-93642.3</td>\n      <td>1.386496</td>\n      <td>110.64586</td>\n      <td>-31.01353</td>\n      <td>2016</td>\n      <td>1</td>\n      <td>1</td>\n      <td>16.0</td>\n      <td>2016-01-01</td>\n      <td>4</td>\n    </tr>\n    <tr>\n      <th>17</th>\n      <td>2016-01-01 17:00:00</td>\n      <td>13:27:37.109999</td>\n      <td>-93713.5</td>\n      <td>1.227</td>\n      <td>4.600</td>\n      <td>91.30465</td>\n      <td>174.4197</td>\n      <td>1.5159</td>\n      <td>1.657447</td>\n      <td>-0.709379</td>\n      <td>...</td>\n      <td>-93711.7</td>\n      <td>1.386352</td>\n      <td>110.64185</td>\n      <td>-31.02543</td>\n      <td>2016</td>\n      <td>1</td>\n      <td>1</td>\n      <td>17.0</td>\n      <td>2016-01-01</td>\n      <td>4</td>\n    </tr>\n    <tr>\n      <th>81</th>\n      <td>2016-01-04 09:00:00</td>\n      <td>13:37:13.299999</td>\n      <td>-100816.6</td>\n      <td>1.139</td>\n      <td>4.544</td>\n      <td>91.15779</td>\n      <td>175.5966</td>\n      <td>1.4939</td>\n      <td>1.656321</td>\n      <td>-0.753322</td>\n      <td>...</td>\n      <td>-100815.0</td>\n      <td>1.376839</td>\n      <td>110.38058</td>\n      <td>-31.79616</td>\n      <td>2016</td>\n      <td>1</td>\n      <td>4</td>\n      <td>9.0</td>\n      <td>2016-01-04</td>\n      <td>0</td>\n    </tr>\n  </tbody>\n</table>\n<p>10 rows × 29 columns</p>\n</div>"
     },
     "execution_count": 50,
     "metadata": {},
     "output_type": "execute_result"
    }
   ],
   "source": [
    "work_hour_df.head(10)"
   ],
   "metadata": {
    "collapsed": false
   }
  },
  {
   "cell_type": "code",
   "execution_count": 51,
   "outputs": [
    {
     "data": {
      "text/plain": "Date__(UT)__HR:MN    datetime64[ns]\nR.A._(ICRF)                  object\nDEC__(ICRF)                 float64\nAPmag                       float64\nS-brt                       float64\nIllu%                       float64\nhEcl-Lon                    float64\nhEcl-Lat                    float64\nr                           float64\nrdot                        float64\ndelta                       float64\ndeldot                      float64\nS-O-T                       float64\n/r                           object\nS-T-O                       float64\nGlxLon                      float64\nGlxLat                      float64\nApp_Lon_Sun                 float64\nRA_(ICRF-a-app)             float64\nDEC_(ICRF-a-app)            float64\nSky_motion                  float64\nSky_mot_PA                  float64\nRelVel-ANG                  float64\nyear                          int32\nmonth                         int32\nday                           int32\ntime                        float64\ndate                         object\nweekday                       int32\ndtype: object"
     },
     "execution_count": 51,
     "metadata": {},
     "output_type": "execute_result"
    }
   ],
   "source": [
    "work_hour_df.dtypes"
   ],
   "metadata": {
    "collapsed": false
   }
  },
  {
   "cell_type": "code",
   "execution_count": 52,
   "outputs": [],
   "source": [
    "work_hour_df['/r'] = work_hour_df['/r'].replace({'/T': 1,\n",
    "                            '/L': 0})"
   ],
   "metadata": {
    "collapsed": false
   }
  },
  {
   "cell_type": "code",
   "execution_count": 53,
   "outputs": [
    {
     "data": {
      "text/plain": "/r\n0    8604\n1    8199\nName: count, dtype: int64"
     },
     "execution_count": 53,
     "metadata": {},
     "output_type": "execute_result"
    }
   ],
   "source": [
    "work_hour_df['/r'].value_counts()"
   ],
   "metadata": {
    "collapsed": false
   }
  },
  {
   "cell_type": "code",
   "execution_count": 57,
   "outputs": [],
   "source": [
    "work_hour_df['date'] = pd.to_datetime(work_hour_df['date'])"
   ],
   "metadata": {
    "collapsed": false
   }
  },
  {
   "cell_type": "code",
   "execution_count": 80,
   "outputs": [],
   "source": [
    "work_hour_df.drop('R.A._(ICRF)', axis=1, inplace=True)"
   ],
   "metadata": {
    "collapsed": false
   }
  },
  {
   "cell_type": "code",
   "execution_count": 81,
   "outputs": [
    {
     "data": {
      "text/plain": "        Date__(UT)__HR:MN  DEC__(ICRF)  APmag  S-brt     Illu%  hEcl-Lon   \n9     2016-01-01 09:00:00     -93318.2  1.203  4.573  91.32333  174.2727  \\\n10    2016-01-01 10:00:00     -93347.6  1.214  4.584  91.32099  174.2910   \n11    2016-01-01 11:00:00     -93417.1  1.228  4.598  91.31865  174.3094   \n12    2016-01-01 12:00:00     -93446.5  1.235  4.606  91.31631  174.3278   \n13    2016-01-01 13:00:00     -93515.9  1.258  4.630  91.31398  174.3462   \n...                   ...          ...    ...    ...       ...       ...   \n62749 2023-02-27 13:00:00     251944.8  0.399  4.614  89.98556  115.1313   \n62750 2023-02-27 14:00:00     251948.4  0.395  4.610  89.98409  115.1504   \n62751 2023-02-27 15:00:00     251951.9  0.406  4.620  89.98263  115.1695   \n62752 2023-02-27 16:00:00     251955.5  0.412  4.625  89.98118  115.1886   \n62753 2023-02-27 17:00:00     251959.1  0.416  4.628  89.97973  115.2077   \n\n       hEcl-Lat         r      rdot     delta  ...  DEC_(ICRF-a-app)   \n9        1.5186  1.657583 -0.703869  1.680220  ...          -93316.3  \\\n10       1.5183  1.657566 -0.704558  1.679814  ...          -93345.8   \n11       1.5180  1.657549 -0.705247  1.679407  ...          -93415.2   \n12       1.5176  1.657532 -0.705936  1.679001  ...          -93444.7   \n13       1.5173  1.657515 -0.706624  1.678594  ...          -93514.1   \n...         ...       ...       ...       ...  ...               ...   \n62749    1.6835  1.624918  1.484715  1.129893  ...          251946.0   \n62750    1.6838  1.624954  1.484144  1.130307  ...          251949.6   \n62751    1.6840  1.624989  1.483573  1.130721  ...          251953.1   \n62752    1.6843  1.625025  1.483002  1.131136  ...          251956.7   \n62753    1.6846  1.625061  1.482431  1.131550  ...          252000.3   \n\n       Sky_motion  Sky_mot_PA  RelVel-ANG  year  month  day  time       date   \n9        1.387498  110.673840  -30.930410  2016      1    1   9.0 2016-01-01  \\\n10       1.387355  110.669850  -30.942270  2016      1    1  10.0 2016-01-01   \n11       1.387212  110.665860  -30.954130  2016      1    1  11.0 2016-01-01   \n12       1.387069  110.661860  -30.966000  2016      1    1  12.0 2016-01-01   \n13       1.386926  110.657860  -30.977880  2016      1    1  13.0 2016-01-01   \n...           ...         ...         ...   ...    ...  ...   ...        ...   \n62749    0.977941   86.632576   52.182980  2023      2   27  13.0 2023-02-27   \n62750    0.978440   86.638763   52.160187  2023      2   27  14.0 2023-02-27   \n62751    0.978938   86.644956   52.137410  2023      2   27  15.0 2023-02-27   \n62752    0.979435   86.651155   52.114648  2023      2   27  16.0 2023-02-27   \n62753    0.979932   86.657360   52.091902  2023      2   27  17.0 2023-02-27   \n\n       weekday  \n9            4  \n10           4  \n11           4  \n12           4  \n13           4  \n...        ...  \n62749        0  \n62750        0  \n62751        0  \n62752        0  \n62753        0  \n\n[16803 rows x 28 columns]",
      "text/html": "<div>\n<style scoped>\n    .dataframe tbody tr th:only-of-type {\n        vertical-align: middle;\n    }\n\n    .dataframe tbody tr th {\n        vertical-align: top;\n    }\n\n    .dataframe thead th {\n        text-align: right;\n    }\n</style>\n<table border=\"1\" class=\"dataframe\">\n  <thead>\n    <tr style=\"text-align: right;\">\n      <th></th>\n      <th>Date__(UT)__HR:MN</th>\n      <th>DEC__(ICRF)</th>\n      <th>APmag</th>\n      <th>S-brt</th>\n      <th>Illu%</th>\n      <th>hEcl-Lon</th>\n      <th>hEcl-Lat</th>\n      <th>r</th>\n      <th>rdot</th>\n      <th>delta</th>\n      <th>...</th>\n      <th>DEC_(ICRF-a-app)</th>\n      <th>Sky_motion</th>\n      <th>Sky_mot_PA</th>\n      <th>RelVel-ANG</th>\n      <th>year</th>\n      <th>month</th>\n      <th>day</th>\n      <th>time</th>\n      <th>date</th>\n      <th>weekday</th>\n    </tr>\n  </thead>\n  <tbody>\n    <tr>\n      <th>9</th>\n      <td>2016-01-01 09:00:00</td>\n      <td>-93318.2</td>\n      <td>1.203</td>\n      <td>4.573</td>\n      <td>91.32333</td>\n      <td>174.2727</td>\n      <td>1.5186</td>\n      <td>1.657583</td>\n      <td>-0.703869</td>\n      <td>1.680220</td>\n      <td>...</td>\n      <td>-93316.3</td>\n      <td>1.387498</td>\n      <td>110.673840</td>\n      <td>-30.930410</td>\n      <td>2016</td>\n      <td>1</td>\n      <td>1</td>\n      <td>9.0</td>\n      <td>2016-01-01</td>\n      <td>4</td>\n    </tr>\n    <tr>\n      <th>10</th>\n      <td>2016-01-01 10:00:00</td>\n      <td>-93347.6</td>\n      <td>1.214</td>\n      <td>4.584</td>\n      <td>91.32099</td>\n      <td>174.2910</td>\n      <td>1.5183</td>\n      <td>1.657566</td>\n      <td>-0.704558</td>\n      <td>1.679814</td>\n      <td>...</td>\n      <td>-93345.8</td>\n      <td>1.387355</td>\n      <td>110.669850</td>\n      <td>-30.942270</td>\n      <td>2016</td>\n      <td>1</td>\n      <td>1</td>\n      <td>10.0</td>\n      <td>2016-01-01</td>\n      <td>4</td>\n    </tr>\n    <tr>\n      <th>11</th>\n      <td>2016-01-01 11:00:00</td>\n      <td>-93417.1</td>\n      <td>1.228</td>\n      <td>4.598</td>\n      <td>91.31865</td>\n      <td>174.3094</td>\n      <td>1.5180</td>\n      <td>1.657549</td>\n      <td>-0.705247</td>\n      <td>1.679407</td>\n      <td>...</td>\n      <td>-93415.2</td>\n      <td>1.387212</td>\n      <td>110.665860</td>\n      <td>-30.954130</td>\n      <td>2016</td>\n      <td>1</td>\n      <td>1</td>\n      <td>11.0</td>\n      <td>2016-01-01</td>\n      <td>4</td>\n    </tr>\n    <tr>\n      <th>12</th>\n      <td>2016-01-01 12:00:00</td>\n      <td>-93446.5</td>\n      <td>1.235</td>\n      <td>4.606</td>\n      <td>91.31631</td>\n      <td>174.3278</td>\n      <td>1.5176</td>\n      <td>1.657532</td>\n      <td>-0.705936</td>\n      <td>1.679001</td>\n      <td>...</td>\n      <td>-93444.7</td>\n      <td>1.387069</td>\n      <td>110.661860</td>\n      <td>-30.966000</td>\n      <td>2016</td>\n      <td>1</td>\n      <td>1</td>\n      <td>12.0</td>\n      <td>2016-01-01</td>\n      <td>4</td>\n    </tr>\n    <tr>\n      <th>13</th>\n      <td>2016-01-01 13:00:00</td>\n      <td>-93515.9</td>\n      <td>1.258</td>\n      <td>4.630</td>\n      <td>91.31398</td>\n      <td>174.3462</td>\n      <td>1.5173</td>\n      <td>1.657515</td>\n      <td>-0.706624</td>\n      <td>1.678594</td>\n      <td>...</td>\n      <td>-93514.1</td>\n      <td>1.386926</td>\n      <td>110.657860</td>\n      <td>-30.977880</td>\n      <td>2016</td>\n      <td>1</td>\n      <td>1</td>\n      <td>13.0</td>\n      <td>2016-01-01</td>\n      <td>4</td>\n    </tr>\n    <tr>\n      <th>...</th>\n      <td>...</td>\n      <td>...</td>\n      <td>...</td>\n      <td>...</td>\n      <td>...</td>\n      <td>...</td>\n      <td>...</td>\n      <td>...</td>\n      <td>...</td>\n      <td>...</td>\n      <td>...</td>\n      <td>...</td>\n      <td>...</td>\n      <td>...</td>\n      <td>...</td>\n      <td>...</td>\n      <td>...</td>\n      <td>...</td>\n      <td>...</td>\n      <td>...</td>\n      <td>...</td>\n    </tr>\n    <tr>\n      <th>62749</th>\n      <td>2023-02-27 13:00:00</td>\n      <td>251944.8</td>\n      <td>0.399</td>\n      <td>4.614</td>\n      <td>89.98556</td>\n      <td>115.1313</td>\n      <td>1.6835</td>\n      <td>1.624918</td>\n      <td>1.484715</td>\n      <td>1.129893</td>\n      <td>...</td>\n      <td>251946.0</td>\n      <td>0.977941</td>\n      <td>86.632576</td>\n      <td>52.182980</td>\n      <td>2023</td>\n      <td>2</td>\n      <td>27</td>\n      <td>13.0</td>\n      <td>2023-02-27</td>\n      <td>0</td>\n    </tr>\n    <tr>\n      <th>62750</th>\n      <td>2023-02-27 14:00:00</td>\n      <td>251948.4</td>\n      <td>0.395</td>\n      <td>4.610</td>\n      <td>89.98409</td>\n      <td>115.1504</td>\n      <td>1.6838</td>\n      <td>1.624954</td>\n      <td>1.484144</td>\n      <td>1.130307</td>\n      <td>...</td>\n      <td>251949.6</td>\n      <td>0.978440</td>\n      <td>86.638763</td>\n      <td>52.160187</td>\n      <td>2023</td>\n      <td>2</td>\n      <td>27</td>\n      <td>14.0</td>\n      <td>2023-02-27</td>\n      <td>0</td>\n    </tr>\n    <tr>\n      <th>62751</th>\n      <td>2023-02-27 15:00:00</td>\n      <td>251951.9</td>\n      <td>0.406</td>\n      <td>4.620</td>\n      <td>89.98263</td>\n      <td>115.1695</td>\n      <td>1.6840</td>\n      <td>1.624989</td>\n      <td>1.483573</td>\n      <td>1.130721</td>\n      <td>...</td>\n      <td>251953.1</td>\n      <td>0.978938</td>\n      <td>86.644956</td>\n      <td>52.137410</td>\n      <td>2023</td>\n      <td>2</td>\n      <td>27</td>\n      <td>15.0</td>\n      <td>2023-02-27</td>\n      <td>0</td>\n    </tr>\n    <tr>\n      <th>62752</th>\n      <td>2023-02-27 16:00:00</td>\n      <td>251955.5</td>\n      <td>0.412</td>\n      <td>4.625</td>\n      <td>89.98118</td>\n      <td>115.1886</td>\n      <td>1.6843</td>\n      <td>1.625025</td>\n      <td>1.483002</td>\n      <td>1.131136</td>\n      <td>...</td>\n      <td>251956.7</td>\n      <td>0.979435</td>\n      <td>86.651155</td>\n      <td>52.114648</td>\n      <td>2023</td>\n      <td>2</td>\n      <td>27</td>\n      <td>16.0</td>\n      <td>2023-02-27</td>\n      <td>0</td>\n    </tr>\n    <tr>\n      <th>62753</th>\n      <td>2023-02-27 17:00:00</td>\n      <td>251959.1</td>\n      <td>0.416</td>\n      <td>4.628</td>\n      <td>89.97973</td>\n      <td>115.2077</td>\n      <td>1.6846</td>\n      <td>1.625061</td>\n      <td>1.482431</td>\n      <td>1.131550</td>\n      <td>...</td>\n      <td>252000.3</td>\n      <td>0.979932</td>\n      <td>86.657360</td>\n      <td>52.091902</td>\n      <td>2023</td>\n      <td>2</td>\n      <td>27</td>\n      <td>17.0</td>\n      <td>2023-02-27</td>\n      <td>0</td>\n    </tr>\n  </tbody>\n</table>\n<p>16803 rows × 28 columns</p>\n</div>"
     },
     "execution_count": 81,
     "metadata": {},
     "output_type": "execute_result"
    }
   ],
   "source": [
    "work_hour_df"
   ],
   "metadata": {
    "collapsed": false
   }
  },
  {
   "cell_type": "code",
   "execution_count": null,
   "outputs": [],
   "source": [],
   "metadata": {
    "collapsed": false
   }
  }
 ],
 "metadata": {
  "kernelspec": {
   "display_name": "Python 3",
   "language": "python",
   "name": "python3"
  },
  "language_info": {
   "codemirror_mode": {
    "name": "ipython",
    "version": 2
   },
   "file_extension": ".py",
   "mimetype": "text/x-python",
   "name": "python",
   "nbconvert_exporter": "python",
   "pygments_lexer": "ipython2",
   "version": "2.7.6"
  }
 },
 "nbformat": 4,
 "nbformat_minor": 0
}
