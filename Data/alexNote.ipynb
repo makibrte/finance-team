{
 "cells": [
  {
   "cell_type": "code",
   "execution_count": 1,
   "outputs": [],
   "source": [
    "import pandas as pd"
   ],
   "metadata": {
    "collapsed": false
   }
  },
  {
   "cell_type": "code",
   "execution_count": 16,
   "outputs": [],
   "source": [
    "def read_file_and_export(f: str, export: str):\n",
    "    count = 0\n",
    "    import csv\n",
    "    file = open(f, 'r')\n",
    "    file2 = open(export, 'x')\n",
    "    writer = csv.writer(file2)\n",
    "    columns = ['Date__(UT)__HR:MN', 'R.A._(ICRF)', 'DEC__(ICRF)', 'APmag',\n",
    "    'S-brt', 'Illu%', 'hEcl-Lon', 'hEcl-Lat', 'r', 'rdot', 'delta', 'deldot',\n",
    "    'S-O-T', '/r', 'S-T-O', 'GlxLon', 'GlxLat', 'L_Ap_SOL_Time', 'RA_3sigma', 'DEC_3sigma',\n",
    "    'SMAA_3sig', 'SMIA_3sig', 'Theta', 'Area_3sig', 'POS_3sigma', 'RNG_3sigma',\n",
    "    'RNGRT_3sig', 'DOP_S_3sig', 'DOP_X_3sig', 'RT_delay_3sig', 'App_Lon_Sun',\n",
    "    'RA_(ICRF-a-app)', 'DEC_(ICRF-a-app)', 'Sky_motion', 'Sky_mot_PA', 'RelVel-ANG',\n",
    "    'Lun_Sky_Brt', 'sky_SNR']\n",
    "    writer.writerow(columns)\n",
    "    while True:\n",
    "        line = file.readline()\n",
    "\n",
    "        if not line:\n",
    "            break\n",
    "        else:\n",
    "            #print('yes')\n",
    "            if '$$SOE' in line:\n",
    "\n",
    "                count += 1\n",
    "            elif '$$EOE' in line:\n",
    "                count += 1\n",
    "            if count == 1 and '$$SOE' not in line:\n",
    "                line = line.replace(' ', '')\n",
    "                line = line.split(',')\n",
    "                line.remove('')\n",
    "                line.remove('')\n",
    "\n",
    "                writer.writerow(line)\n",
    "    file.close()\n",
    "    file2.close()\n"
   ],
   "metadata": {
    "collapsed": false
   }
  },
  {
   "cell_type": "code",
   "execution_count": 17,
   "outputs": [
    {
     "ename": "NameError",
     "evalue": "name 'file3' is not defined",
     "output_type": "error",
     "traceback": [
      "\u001B[1;31m---------------------------------------------------------------------------\u001B[0m",
      "\u001B[1;31mNameError\u001B[0m                                 Traceback (most recent call last)",
      "Cell \u001B[1;32mIn[17], line 3\u001B[0m\n\u001B[0;32m      1\u001B[0m file \u001B[38;5;241m=\u001B[39m \u001B[38;5;124m'\u001B[39m\u001B[38;5;124mplanets.txt\u001B[39m\u001B[38;5;124m'\u001B[39m\n\u001B[0;32m      2\u001B[0m export \u001B[38;5;241m=\u001B[39m \u001B[38;5;124m'\u001B[39m\u001B[38;5;124mplanets2.csv\u001B[39m\u001B[38;5;124m'\u001B[39m\n\u001B[1;32m----> 3\u001B[0m \u001B[43mread_file_and_export\u001B[49m\u001B[43m(\u001B[49m\u001B[43mfile\u001B[49m\u001B[43m,\u001B[49m\u001B[43m \u001B[49m\u001B[43mexport\u001B[49m\u001B[43m)\u001B[49m\n",
      "Cell \u001B[1;32mIn[16], line 36\u001B[0m, in \u001B[0;36mread_file_and_export\u001B[1;34m(f, export)\u001B[0m\n\u001B[0;32m     34\u001B[0m file\u001B[38;5;241m.\u001B[39mclose()\n\u001B[0;32m     35\u001B[0m file2\u001B[38;5;241m.\u001B[39mclose()\n\u001B[1;32m---> 36\u001B[0m \u001B[43mfile3\u001B[49m\u001B[38;5;241m.\u001B[39mclose()\n",
      "\u001B[1;31mNameError\u001B[0m: name 'file3' is not defined"
     ]
    }
   ],
   "source": [
    "file = 'planets.txt'\n",
    "export = 'planets2.csv'\n",
    "read_file_and_export(file, export)"
   ],
   "metadata": {
    "collapsed": false
   }
  },
  {
   "cell_type": "code",
   "execution_count": 60,
   "metadata": {
    "collapsed": true
   },
   "outputs": [],
   "source": [
    "df = pd.read_csv(export, na_values='n.a.')"
   ]
  },
  {
   "cell_type": "code",
   "execution_count": 61,
   "outputs": [
    {
     "data": {
      "text/plain": "  Date__(UT)__HR:MN  R.A._(ICRF)  DEC__(ICRF)  APmag  S-brt     Illu%  \\\n0  2016-Jan-0100:00    134727.62     -92852.8  1.197  4.562  91.34442   \n1  2016-Jan-0101:00    134732.88     -92922.3  1.174  4.539  91.34207   \n2  2016-Jan-0102:00    134738.15     -92951.8  1.156  4.522  91.33973   \n3  2016-Jan-0103:00    134743.42     -93021.3  1.156  4.522  91.33738   \n4  2016-Jan-0104:00    134748.68     -93050.8  1.169  4.536  91.33503   \n\n   hEcl-Lon  hEcl-Lat         r      rdot  ...  DOP_X_3sig  RT_delay_3sig  \\\n0  174.1073    1.5217  1.657735 -0.697666  ...         NaN            NaN   \n1  174.1257    1.5213  1.657718 -0.698355  ...         NaN            NaN   \n2  174.1441    1.5210  1.657701 -0.699045  ...         NaN            NaN   \n3  174.1624    1.5207  1.657684 -0.699734  ...         NaN            NaN   \n4  174.1808    1.5203  1.657668 -0.700423  ...         NaN            NaN   \n\n   App_Lon_Sun RA_(ICRF-a-app)  DEC_(ICRF-a-app)  Sky_motion  Sky_mot_PA  \\\n0    89.065096       134727.18          -92850.9    1.388775   110.70964   \n1    89.083464       134732.45          -92920.4    1.388634   110.70567   \n2    89.101832       134737.72          -92950.0    1.388492   110.70170   \n3    89.120200       134742.98          -93019.5    1.388351   110.69773   \n4    89.138569       134748.25          -93049.0    1.388209   110.69375   \n\n   RelVel-ANG   Lun_Sky_Brt  sky_SNR  \n0   -30.82387  n.a.n.a.\\r\\n      NaN  \n1   -30.83569  n.a.n.a.\\r\\n      NaN  \n2   -30.84751  n.a.n.a.\\r\\n      NaN  \n3   -30.85934  n.a.n.a.\\r\\n      NaN  \n4   -30.87117  n.a.n.a.\\r\\n      NaN  \n\n[5 rows x 38 columns]",
      "text/html": "<div>\n<style scoped>\n    .dataframe tbody tr th:only-of-type {\n        vertical-align: middle;\n    }\n\n    .dataframe tbody tr th {\n        vertical-align: top;\n    }\n\n    .dataframe thead th {\n        text-align: right;\n    }\n</style>\n<table border=\"1\" class=\"dataframe\">\n  <thead>\n    <tr style=\"text-align: right;\">\n      <th></th>\n      <th>Date__(UT)__HR:MN</th>\n      <th>R.A._(ICRF)</th>\n      <th>DEC__(ICRF)</th>\n      <th>APmag</th>\n      <th>S-brt</th>\n      <th>Illu%</th>\n      <th>hEcl-Lon</th>\n      <th>hEcl-Lat</th>\n      <th>r</th>\n      <th>rdot</th>\n      <th>...</th>\n      <th>DOP_X_3sig</th>\n      <th>RT_delay_3sig</th>\n      <th>App_Lon_Sun</th>\n      <th>RA_(ICRF-a-app)</th>\n      <th>DEC_(ICRF-a-app)</th>\n      <th>Sky_motion</th>\n      <th>Sky_mot_PA</th>\n      <th>RelVel-ANG</th>\n      <th>Lun_Sky_Brt</th>\n      <th>sky_SNR</th>\n    </tr>\n  </thead>\n  <tbody>\n    <tr>\n      <th>0</th>\n      <td>2016-Jan-0100:00</td>\n      <td>134727.62</td>\n      <td>-92852.8</td>\n      <td>1.197</td>\n      <td>4.562</td>\n      <td>91.34442</td>\n      <td>174.1073</td>\n      <td>1.5217</td>\n      <td>1.657735</td>\n      <td>-0.697666</td>\n      <td>...</td>\n      <td>NaN</td>\n      <td>NaN</td>\n      <td>89.065096</td>\n      <td>134727.18</td>\n      <td>-92850.9</td>\n      <td>1.388775</td>\n      <td>110.70964</td>\n      <td>-30.82387</td>\n      <td>n.a.n.a.\\r\\n</td>\n      <td>NaN</td>\n    </tr>\n    <tr>\n      <th>1</th>\n      <td>2016-Jan-0101:00</td>\n      <td>134732.88</td>\n      <td>-92922.3</td>\n      <td>1.174</td>\n      <td>4.539</td>\n      <td>91.34207</td>\n      <td>174.1257</td>\n      <td>1.5213</td>\n      <td>1.657718</td>\n      <td>-0.698355</td>\n      <td>...</td>\n      <td>NaN</td>\n      <td>NaN</td>\n      <td>89.083464</td>\n      <td>134732.45</td>\n      <td>-92920.4</td>\n      <td>1.388634</td>\n      <td>110.70567</td>\n      <td>-30.83569</td>\n      <td>n.a.n.a.\\r\\n</td>\n      <td>NaN</td>\n    </tr>\n    <tr>\n      <th>2</th>\n      <td>2016-Jan-0102:00</td>\n      <td>134738.15</td>\n      <td>-92951.8</td>\n      <td>1.156</td>\n      <td>4.522</td>\n      <td>91.33973</td>\n      <td>174.1441</td>\n      <td>1.5210</td>\n      <td>1.657701</td>\n      <td>-0.699045</td>\n      <td>...</td>\n      <td>NaN</td>\n      <td>NaN</td>\n      <td>89.101832</td>\n      <td>134737.72</td>\n      <td>-92950.0</td>\n      <td>1.388492</td>\n      <td>110.70170</td>\n      <td>-30.84751</td>\n      <td>n.a.n.a.\\r\\n</td>\n      <td>NaN</td>\n    </tr>\n    <tr>\n      <th>3</th>\n      <td>2016-Jan-0103:00</td>\n      <td>134743.42</td>\n      <td>-93021.3</td>\n      <td>1.156</td>\n      <td>4.522</td>\n      <td>91.33738</td>\n      <td>174.1624</td>\n      <td>1.5207</td>\n      <td>1.657684</td>\n      <td>-0.699734</td>\n      <td>...</td>\n      <td>NaN</td>\n      <td>NaN</td>\n      <td>89.120200</td>\n      <td>134742.98</td>\n      <td>-93019.5</td>\n      <td>1.388351</td>\n      <td>110.69773</td>\n      <td>-30.85934</td>\n      <td>n.a.n.a.\\r\\n</td>\n      <td>NaN</td>\n    </tr>\n    <tr>\n      <th>4</th>\n      <td>2016-Jan-0104:00</td>\n      <td>134748.68</td>\n      <td>-93050.8</td>\n      <td>1.169</td>\n      <td>4.536</td>\n      <td>91.33503</td>\n      <td>174.1808</td>\n      <td>1.5203</td>\n      <td>1.657668</td>\n      <td>-0.700423</td>\n      <td>...</td>\n      <td>NaN</td>\n      <td>NaN</td>\n      <td>89.138569</td>\n      <td>134748.25</td>\n      <td>-93049.0</td>\n      <td>1.388209</td>\n      <td>110.69375</td>\n      <td>-30.87117</td>\n      <td>n.a.n.a.\\r\\n</td>\n      <td>NaN</td>\n    </tr>\n  </tbody>\n</table>\n<p>5 rows × 38 columns</p>\n</div>"
     },
     "execution_count": 61,
     "metadata": {},
     "output_type": "execute_result"
    }
   ],
   "source": [
    "df.head()"
   ],
   "metadata": {
    "collapsed": false
   }
  },
  {
   "cell_type": "code",
   "execution_count": 141,
   "outputs": [
    {
     "data": {
      "text/plain": "Date__(UT)__HR:MN        0\nR.A._(ICRF)              0\nDEC__(ICRF)              0\nAPmag                    0\nS-brt                    0\nIllu%                    0\nhEcl-Lon                 0\nhEcl-Lat                 0\nr                        0\nrdot                     0\ndelta                    0\ndeldot                   0\nS-O-T                    0\n/r                       0\nS-T-O                    0\nGlxLon                   0\nGlxLat                   0\nL_Ap_SOL_Time        62761\nRA_3sigma            62761\nDEC_3sigma           62761\nSMAA_3sig            62761\nSMIA_3sig            62761\nTheta                62761\nArea_3sig            62761\nPOS_3sigma           62761\nRNG_3sigma           62761\nRNGRT_3sig           62761\nDOP_S_3sig           62761\nDOP_X_3sig           62761\nRT_delay_3sig        62761\nApp_Lon_Sun              0\nRA_(ICRF-a-app)          0\nDEC_(ICRF-a-app)         0\nSky_motion               0\nSky_mot_PA               0\nRelVel-ANG               0\nLun_Sky_Brt              0\nsky_SNR              62761\ndtype: int64"
     },
     "execution_count": 141,
     "metadata": {},
     "output_type": "execute_result"
    }
   ],
   "source": [
    "df.isna().sum()"
   ],
   "metadata": {
    "collapsed": false
   }
  },
  {
   "cell_type": "code",
   "execution_count": 142,
   "outputs": [
    {
     "data": {
      "text/plain": "(62761, 38)"
     },
     "execution_count": 142,
     "metadata": {},
     "output_type": "execute_result"
    }
   ],
   "source": [
    "df.shape"
   ],
   "metadata": {
    "collapsed": false
   }
  },
  {
   "cell_type": "code",
   "execution_count": 156,
   "outputs": [],
   "source": [
    "planets_copy = df.copy()\n",
    "planets_copy.dropna(inplace=True, axis=1)"
   ],
   "metadata": {
    "collapsed": false
   }
  },
  {
   "cell_type": "code",
   "execution_count": 157,
   "outputs": [
    {
     "data": {
      "text/plain": "(62761, 24)"
     },
     "execution_count": 157,
     "metadata": {},
     "output_type": "execute_result"
    }
   ],
   "source": [
    "planets_copy.shape"
   ],
   "metadata": {
    "collapsed": false
   }
  },
  {
   "cell_type": "code",
   "execution_count": 158,
   "outputs": [
    {
     "data": {
      "text/plain": "array(['n.a.n.a.\\r\\n'], dtype=object)"
     },
     "execution_count": 158,
     "metadata": {},
     "output_type": "execute_result"
    }
   ],
   "source": [
    "planets_copy.Lun_Sky_Brt.unique()"
   ],
   "metadata": {
    "collapsed": false
   }
  },
  {
   "cell_type": "code",
   "execution_count": 159,
   "outputs": [],
   "source": [
    "# drop Lun_Sky_Brt column\n",
    "planets_copy.drop('Lun_Sky_Brt', axis=1, inplace=True)"
   ],
   "metadata": {
    "collapsed": false
   }
  },
  {
   "cell_type": "code",
   "execution_count": 160,
   "outputs": [
    {
     "data": {
      "text/plain": "      Date__(UT)__HR:MN  R.A._(ICRF)  DEC__(ICRF)  APmag  S-brt     Illu%  \\\n0      2016-Jan-0100:00    134727.62     -92852.8  1.197  4.562  91.34442   \n1      2016-Jan-0101:00    134732.88     -92922.3  1.174  4.539  91.34207   \n2      2016-Jan-0102:00    134738.15     -92951.8  1.156  4.522  91.33973   \n3      2016-Jan-0103:00    134743.42     -93021.3  1.156  4.522  91.33738   \n4      2016-Jan-0104:00    134748.68     -93050.8  1.169  4.536  91.33503   \n...                 ...          ...          ...    ...    ...       ...   \n62756  2023-Feb-2720:00     50818.08     252009.8  0.376  4.586  89.97540   \n62757  2023-Feb-2721:00     50822.42     252013.3  0.362  4.571  89.97397   \n62758  2023-Feb-2722:00     50826.76     252016.9  0.342  4.551  89.97254   \n62759  2023-Feb-2723:00     50831.10     252020.4  0.329  4.536  89.97112   \n62760  2023-Feb-2800:00     50835.44     252024.0  0.321  4.528  89.96970   \n\n       hEcl-Lon  hEcl-Lat         r      rdot  ...  /r    S-T-O      GlxLon  \\\n0      174.1073    1.5217  1.657735 -0.697666  ...  /L  34.2177  325.196670   \n1      174.1257    1.5213  1.657718 -0.698355  ...  /L  34.2225  325.224501   \n2      174.1441    1.5210  1.657701 -0.699045  ...  /L  34.2273  325.252311   \n3      174.1624    1.5207  1.657684 -0.699734  ...  /L  34.2321  325.280100   \n4      174.1808    1.5203  1.657668 -0.700423  ...  /L  34.2369  325.307869   \n...         ...       ...       ...       ...  ...  ..      ...         ...   \n62756  115.2651    1.6853  1.625168  1.480717  ...  /T  36.9158  178.394642   \n62757  115.2842    1.6856  1.625203  1.480146  ...  /T  36.9185  178.403496   \n62758  115.3033    1.6858  1.625239  1.479574  ...  /T  36.9213  178.412353   \n62759  115.3224    1.6861  1.625275  1.479002  ...  /T  36.9240  178.421214   \n62760  115.3415    1.6863  1.625310  1.478430  ...  /T  36.9267  178.430079   \n\n          GlxLat  App_Lon_Sun  RA_(ICRF-a-app)  DEC_(ICRF-a-app)  Sky_motion  \\\n0      50.953393    89.065096        134727.18          -92850.9    1.388775   \n1      50.938281    89.083464        134732.45          -92920.4    1.388634   \n2      50.923165    89.101832        134737.72          -92950.0    1.388492   \n3      50.908043    89.120200        134742.98          -93019.5    1.388351   \n4      50.892917    89.138569        134748.25          -93049.0    1.388209   \n...          ...          ...              ...               ...         ...   \n62756  -8.902120    30.262223         50818.35          252011.0    0.981419   \n62757  -8.888298    30.281330         50822.69          252014.5    0.981914   \n62758  -8.874468    30.300437         50827.03          252018.1    0.982408   \n62759  -8.860631    30.319543         50831.37          252021.6    0.982901   \n62760  -8.846787    30.338648         50835.71          252025.1    0.983394   \n\n       Sky_mot_PA  RelVel-ANG  \n0      110.709640  -30.823870  \n1      110.705670  -30.835690  \n2      110.701700  -30.847510  \n3      110.697730  -30.859340  \n4      110.693750  -30.871170  \n...           ...         ...  \n62756   86.676005   52.023759  \n62757   86.682231   52.001076  \n62758   86.688463   51.978409  \n62759   86.694700   51.955757  \n62760   86.700942   51.933121  \n\n[62761 rows x 23 columns]",
      "text/html": "<div>\n<style scoped>\n    .dataframe tbody tr th:only-of-type {\n        vertical-align: middle;\n    }\n\n    .dataframe tbody tr th {\n        vertical-align: top;\n    }\n\n    .dataframe thead th {\n        text-align: right;\n    }\n</style>\n<table border=\"1\" class=\"dataframe\">\n  <thead>\n    <tr style=\"text-align: right;\">\n      <th></th>\n      <th>Date__(UT)__HR:MN</th>\n      <th>R.A._(ICRF)</th>\n      <th>DEC__(ICRF)</th>\n      <th>APmag</th>\n      <th>S-brt</th>\n      <th>Illu%</th>\n      <th>hEcl-Lon</th>\n      <th>hEcl-Lat</th>\n      <th>r</th>\n      <th>rdot</th>\n      <th>...</th>\n      <th>/r</th>\n      <th>S-T-O</th>\n      <th>GlxLon</th>\n      <th>GlxLat</th>\n      <th>App_Lon_Sun</th>\n      <th>RA_(ICRF-a-app)</th>\n      <th>DEC_(ICRF-a-app)</th>\n      <th>Sky_motion</th>\n      <th>Sky_mot_PA</th>\n      <th>RelVel-ANG</th>\n    </tr>\n  </thead>\n  <tbody>\n    <tr>\n      <th>0</th>\n      <td>2016-Jan-0100:00</td>\n      <td>134727.62</td>\n      <td>-92852.8</td>\n      <td>1.197</td>\n      <td>4.562</td>\n      <td>91.34442</td>\n      <td>174.1073</td>\n      <td>1.5217</td>\n      <td>1.657735</td>\n      <td>-0.697666</td>\n      <td>...</td>\n      <td>/L</td>\n      <td>34.2177</td>\n      <td>325.196670</td>\n      <td>50.953393</td>\n      <td>89.065096</td>\n      <td>134727.18</td>\n      <td>-92850.9</td>\n      <td>1.388775</td>\n      <td>110.709640</td>\n      <td>-30.823870</td>\n    </tr>\n    <tr>\n      <th>1</th>\n      <td>2016-Jan-0101:00</td>\n      <td>134732.88</td>\n      <td>-92922.3</td>\n      <td>1.174</td>\n      <td>4.539</td>\n      <td>91.34207</td>\n      <td>174.1257</td>\n      <td>1.5213</td>\n      <td>1.657718</td>\n      <td>-0.698355</td>\n      <td>...</td>\n      <td>/L</td>\n      <td>34.2225</td>\n      <td>325.224501</td>\n      <td>50.938281</td>\n      <td>89.083464</td>\n      <td>134732.45</td>\n      <td>-92920.4</td>\n      <td>1.388634</td>\n      <td>110.705670</td>\n      <td>-30.835690</td>\n    </tr>\n    <tr>\n      <th>2</th>\n      <td>2016-Jan-0102:00</td>\n      <td>134738.15</td>\n      <td>-92951.8</td>\n      <td>1.156</td>\n      <td>4.522</td>\n      <td>91.33973</td>\n      <td>174.1441</td>\n      <td>1.5210</td>\n      <td>1.657701</td>\n      <td>-0.699045</td>\n      <td>...</td>\n      <td>/L</td>\n      <td>34.2273</td>\n      <td>325.252311</td>\n      <td>50.923165</td>\n      <td>89.101832</td>\n      <td>134737.72</td>\n      <td>-92950.0</td>\n      <td>1.388492</td>\n      <td>110.701700</td>\n      <td>-30.847510</td>\n    </tr>\n    <tr>\n      <th>3</th>\n      <td>2016-Jan-0103:00</td>\n      <td>134743.42</td>\n      <td>-93021.3</td>\n      <td>1.156</td>\n      <td>4.522</td>\n      <td>91.33738</td>\n      <td>174.1624</td>\n      <td>1.5207</td>\n      <td>1.657684</td>\n      <td>-0.699734</td>\n      <td>...</td>\n      <td>/L</td>\n      <td>34.2321</td>\n      <td>325.280100</td>\n      <td>50.908043</td>\n      <td>89.120200</td>\n      <td>134742.98</td>\n      <td>-93019.5</td>\n      <td>1.388351</td>\n      <td>110.697730</td>\n      <td>-30.859340</td>\n    </tr>\n    <tr>\n      <th>4</th>\n      <td>2016-Jan-0104:00</td>\n      <td>134748.68</td>\n      <td>-93050.8</td>\n      <td>1.169</td>\n      <td>4.536</td>\n      <td>91.33503</td>\n      <td>174.1808</td>\n      <td>1.5203</td>\n      <td>1.657668</td>\n      <td>-0.700423</td>\n      <td>...</td>\n      <td>/L</td>\n      <td>34.2369</td>\n      <td>325.307869</td>\n      <td>50.892917</td>\n      <td>89.138569</td>\n      <td>134748.25</td>\n      <td>-93049.0</td>\n      <td>1.388209</td>\n      <td>110.693750</td>\n      <td>-30.871170</td>\n    </tr>\n    <tr>\n      <th>...</th>\n      <td>...</td>\n      <td>...</td>\n      <td>...</td>\n      <td>...</td>\n      <td>...</td>\n      <td>...</td>\n      <td>...</td>\n      <td>...</td>\n      <td>...</td>\n      <td>...</td>\n      <td>...</td>\n      <td>...</td>\n      <td>...</td>\n      <td>...</td>\n      <td>...</td>\n      <td>...</td>\n      <td>...</td>\n      <td>...</td>\n      <td>...</td>\n      <td>...</td>\n      <td>...</td>\n    </tr>\n    <tr>\n      <th>62756</th>\n      <td>2023-Feb-2720:00</td>\n      <td>50818.08</td>\n      <td>252009.8</td>\n      <td>0.376</td>\n      <td>4.586</td>\n      <td>89.97540</td>\n      <td>115.2651</td>\n      <td>1.6853</td>\n      <td>1.625168</td>\n      <td>1.480717</td>\n      <td>...</td>\n      <td>/T</td>\n      <td>36.9158</td>\n      <td>178.394642</td>\n      <td>-8.902120</td>\n      <td>30.262223</td>\n      <td>50818.35</td>\n      <td>252011.0</td>\n      <td>0.981419</td>\n      <td>86.676005</td>\n      <td>52.023759</td>\n    </tr>\n    <tr>\n      <th>62757</th>\n      <td>2023-Feb-2721:00</td>\n      <td>50822.42</td>\n      <td>252013.3</td>\n      <td>0.362</td>\n      <td>4.571</td>\n      <td>89.97397</td>\n      <td>115.2842</td>\n      <td>1.6856</td>\n      <td>1.625203</td>\n      <td>1.480146</td>\n      <td>...</td>\n      <td>/T</td>\n      <td>36.9185</td>\n      <td>178.403496</td>\n      <td>-8.888298</td>\n      <td>30.281330</td>\n      <td>50822.69</td>\n      <td>252014.5</td>\n      <td>0.981914</td>\n      <td>86.682231</td>\n      <td>52.001076</td>\n    </tr>\n    <tr>\n      <th>62758</th>\n      <td>2023-Feb-2722:00</td>\n      <td>50826.76</td>\n      <td>252016.9</td>\n      <td>0.342</td>\n      <td>4.551</td>\n      <td>89.97254</td>\n      <td>115.3033</td>\n      <td>1.6858</td>\n      <td>1.625239</td>\n      <td>1.479574</td>\n      <td>...</td>\n      <td>/T</td>\n      <td>36.9213</td>\n      <td>178.412353</td>\n      <td>-8.874468</td>\n      <td>30.300437</td>\n      <td>50827.03</td>\n      <td>252018.1</td>\n      <td>0.982408</td>\n      <td>86.688463</td>\n      <td>51.978409</td>\n    </tr>\n    <tr>\n      <th>62759</th>\n      <td>2023-Feb-2723:00</td>\n      <td>50831.10</td>\n      <td>252020.4</td>\n      <td>0.329</td>\n      <td>4.536</td>\n      <td>89.97112</td>\n      <td>115.3224</td>\n      <td>1.6861</td>\n      <td>1.625275</td>\n      <td>1.479002</td>\n      <td>...</td>\n      <td>/T</td>\n      <td>36.9240</td>\n      <td>178.421214</td>\n      <td>-8.860631</td>\n      <td>30.319543</td>\n      <td>50831.37</td>\n      <td>252021.6</td>\n      <td>0.982901</td>\n      <td>86.694700</td>\n      <td>51.955757</td>\n    </tr>\n    <tr>\n      <th>62760</th>\n      <td>2023-Feb-2800:00</td>\n      <td>50835.44</td>\n      <td>252024.0</td>\n      <td>0.321</td>\n      <td>4.528</td>\n      <td>89.96970</td>\n      <td>115.3415</td>\n      <td>1.6863</td>\n      <td>1.625310</td>\n      <td>1.478430</td>\n      <td>...</td>\n      <td>/T</td>\n      <td>36.9267</td>\n      <td>178.430079</td>\n      <td>-8.846787</td>\n      <td>30.338648</td>\n      <td>50835.71</td>\n      <td>252025.1</td>\n      <td>0.983394</td>\n      <td>86.700942</td>\n      <td>51.933121</td>\n    </tr>\n  </tbody>\n</table>\n<p>62761 rows × 23 columns</p>\n</div>"
     },
     "execution_count": 160,
     "metadata": {},
     "output_type": "execute_result"
    }
   ],
   "source": [
    "planets_copy"
   ],
   "metadata": {
    "collapsed": false
   }
  },
  {
   "cell_type": "code",
   "execution_count": 161,
   "outputs": [
    {
     "data": {
      "text/plain": "array(['/L', '/T'], dtype=object)"
     },
     "execution_count": 161,
     "metadata": {},
     "output_type": "execute_result"
    }
   ],
   "source": [
    "planets_copy['/r'].unique()"
   ],
   "metadata": {
    "collapsed": false
   }
  },
  {
   "cell_type": "code",
   "execution_count": 162,
   "outputs": [],
   "source": [
    "planets_copy['Date__(UT)__HR:MN'] = pd.to_datetime(planets_copy['Date__(UT)__HR:MN'], format='%Y-%b-%d%H%M:00')"
   ],
   "metadata": {
    "collapsed": false
   }
  },
  {
   "cell_type": "code",
   "execution_count": 163,
   "outputs": [
    {
     "data": {
      "text/plain": "        Date__(UT)__HR:MN  R.A._(ICRF)  DEC__(ICRF)  APmag  S-brt     Illu%  \\\n0     2016-01-01 00:00:00    134727.62     -92852.8  1.197  4.562  91.34442   \n1     2016-01-01 00:01:00    134732.88     -92922.3  1.174  4.539  91.34207   \n2     2016-01-01 00:02:00    134738.15     -92951.8  1.156  4.522  91.33973   \n3     2016-01-01 00:03:00    134743.42     -93021.3  1.156  4.522  91.33738   \n4     2016-01-01 00:04:00    134748.68     -93050.8  1.169  4.536  91.33503   \n...                   ...          ...          ...    ...    ...       ...   \n62756 2023-02-27 02:00:00     50818.08     252009.8  0.376  4.586  89.97540   \n62757 2023-02-27 02:01:00     50822.42     252013.3  0.362  4.571  89.97397   \n62758 2023-02-27 02:02:00     50826.76     252016.9  0.342  4.551  89.97254   \n62759 2023-02-27 02:03:00     50831.10     252020.4  0.329  4.536  89.97112   \n62760 2023-02-28 00:00:00     50835.44     252024.0  0.321  4.528  89.96970   \n\n       hEcl-Lon  hEcl-Lat         r      rdot  ...  /r    S-T-O      GlxLon  \\\n0      174.1073    1.5217  1.657735 -0.697666  ...  /L  34.2177  325.196670   \n1      174.1257    1.5213  1.657718 -0.698355  ...  /L  34.2225  325.224501   \n2      174.1441    1.5210  1.657701 -0.699045  ...  /L  34.2273  325.252311   \n3      174.1624    1.5207  1.657684 -0.699734  ...  /L  34.2321  325.280100   \n4      174.1808    1.5203  1.657668 -0.700423  ...  /L  34.2369  325.307869   \n...         ...       ...       ...       ...  ...  ..      ...         ...   \n62756  115.2651    1.6853  1.625168  1.480717  ...  /T  36.9158  178.394642   \n62757  115.2842    1.6856  1.625203  1.480146  ...  /T  36.9185  178.403496   \n62758  115.3033    1.6858  1.625239  1.479574  ...  /T  36.9213  178.412353   \n62759  115.3224    1.6861  1.625275  1.479002  ...  /T  36.9240  178.421214   \n62760  115.3415    1.6863  1.625310  1.478430  ...  /T  36.9267  178.430079   \n\n          GlxLat  App_Lon_Sun  RA_(ICRF-a-app)  DEC_(ICRF-a-app)  Sky_motion  \\\n0      50.953393    89.065096        134727.18          -92850.9    1.388775   \n1      50.938281    89.083464        134732.45          -92920.4    1.388634   \n2      50.923165    89.101832        134737.72          -92950.0    1.388492   \n3      50.908043    89.120200        134742.98          -93019.5    1.388351   \n4      50.892917    89.138569        134748.25          -93049.0    1.388209   \n...          ...          ...              ...               ...         ...   \n62756  -8.902120    30.262223         50818.35          252011.0    0.981419   \n62757  -8.888298    30.281330         50822.69          252014.5    0.981914   \n62758  -8.874468    30.300437         50827.03          252018.1    0.982408   \n62759  -8.860631    30.319543         50831.37          252021.6    0.982901   \n62760  -8.846787    30.338648         50835.71          252025.1    0.983394   \n\n       Sky_mot_PA  RelVel-ANG  \n0      110.709640  -30.823870  \n1      110.705670  -30.835690  \n2      110.701700  -30.847510  \n3      110.697730  -30.859340  \n4      110.693750  -30.871170  \n...           ...         ...  \n62756   86.676005   52.023759  \n62757   86.682231   52.001076  \n62758   86.688463   51.978409  \n62759   86.694700   51.955757  \n62760   86.700942   51.933121  \n\n[62761 rows x 23 columns]",
      "text/html": "<div>\n<style scoped>\n    .dataframe tbody tr th:only-of-type {\n        vertical-align: middle;\n    }\n\n    .dataframe tbody tr th {\n        vertical-align: top;\n    }\n\n    .dataframe thead th {\n        text-align: right;\n    }\n</style>\n<table border=\"1\" class=\"dataframe\">\n  <thead>\n    <tr style=\"text-align: right;\">\n      <th></th>\n      <th>Date__(UT)__HR:MN</th>\n      <th>R.A._(ICRF)</th>\n      <th>DEC__(ICRF)</th>\n      <th>APmag</th>\n      <th>S-brt</th>\n      <th>Illu%</th>\n      <th>hEcl-Lon</th>\n      <th>hEcl-Lat</th>\n      <th>r</th>\n      <th>rdot</th>\n      <th>...</th>\n      <th>/r</th>\n      <th>S-T-O</th>\n      <th>GlxLon</th>\n      <th>GlxLat</th>\n      <th>App_Lon_Sun</th>\n      <th>RA_(ICRF-a-app)</th>\n      <th>DEC_(ICRF-a-app)</th>\n      <th>Sky_motion</th>\n      <th>Sky_mot_PA</th>\n      <th>RelVel-ANG</th>\n    </tr>\n  </thead>\n  <tbody>\n    <tr>\n      <th>0</th>\n      <td>2016-01-01 00:00:00</td>\n      <td>134727.62</td>\n      <td>-92852.8</td>\n      <td>1.197</td>\n      <td>4.562</td>\n      <td>91.34442</td>\n      <td>174.1073</td>\n      <td>1.5217</td>\n      <td>1.657735</td>\n      <td>-0.697666</td>\n      <td>...</td>\n      <td>/L</td>\n      <td>34.2177</td>\n      <td>325.196670</td>\n      <td>50.953393</td>\n      <td>89.065096</td>\n      <td>134727.18</td>\n      <td>-92850.9</td>\n      <td>1.388775</td>\n      <td>110.709640</td>\n      <td>-30.823870</td>\n    </tr>\n    <tr>\n      <th>1</th>\n      <td>2016-01-01 00:01:00</td>\n      <td>134732.88</td>\n      <td>-92922.3</td>\n      <td>1.174</td>\n      <td>4.539</td>\n      <td>91.34207</td>\n      <td>174.1257</td>\n      <td>1.5213</td>\n      <td>1.657718</td>\n      <td>-0.698355</td>\n      <td>...</td>\n      <td>/L</td>\n      <td>34.2225</td>\n      <td>325.224501</td>\n      <td>50.938281</td>\n      <td>89.083464</td>\n      <td>134732.45</td>\n      <td>-92920.4</td>\n      <td>1.388634</td>\n      <td>110.705670</td>\n      <td>-30.835690</td>\n    </tr>\n    <tr>\n      <th>2</th>\n      <td>2016-01-01 00:02:00</td>\n      <td>134738.15</td>\n      <td>-92951.8</td>\n      <td>1.156</td>\n      <td>4.522</td>\n      <td>91.33973</td>\n      <td>174.1441</td>\n      <td>1.5210</td>\n      <td>1.657701</td>\n      <td>-0.699045</td>\n      <td>...</td>\n      <td>/L</td>\n      <td>34.2273</td>\n      <td>325.252311</td>\n      <td>50.923165</td>\n      <td>89.101832</td>\n      <td>134737.72</td>\n      <td>-92950.0</td>\n      <td>1.388492</td>\n      <td>110.701700</td>\n      <td>-30.847510</td>\n    </tr>\n    <tr>\n      <th>3</th>\n      <td>2016-01-01 00:03:00</td>\n      <td>134743.42</td>\n      <td>-93021.3</td>\n      <td>1.156</td>\n      <td>4.522</td>\n      <td>91.33738</td>\n      <td>174.1624</td>\n      <td>1.5207</td>\n      <td>1.657684</td>\n      <td>-0.699734</td>\n      <td>...</td>\n      <td>/L</td>\n      <td>34.2321</td>\n      <td>325.280100</td>\n      <td>50.908043</td>\n      <td>89.120200</td>\n      <td>134742.98</td>\n      <td>-93019.5</td>\n      <td>1.388351</td>\n      <td>110.697730</td>\n      <td>-30.859340</td>\n    </tr>\n    <tr>\n      <th>4</th>\n      <td>2016-01-01 00:04:00</td>\n      <td>134748.68</td>\n      <td>-93050.8</td>\n      <td>1.169</td>\n      <td>4.536</td>\n      <td>91.33503</td>\n      <td>174.1808</td>\n      <td>1.5203</td>\n      <td>1.657668</td>\n      <td>-0.700423</td>\n      <td>...</td>\n      <td>/L</td>\n      <td>34.2369</td>\n      <td>325.307869</td>\n      <td>50.892917</td>\n      <td>89.138569</td>\n      <td>134748.25</td>\n      <td>-93049.0</td>\n      <td>1.388209</td>\n      <td>110.693750</td>\n      <td>-30.871170</td>\n    </tr>\n    <tr>\n      <th>...</th>\n      <td>...</td>\n      <td>...</td>\n      <td>...</td>\n      <td>...</td>\n      <td>...</td>\n      <td>...</td>\n      <td>...</td>\n      <td>...</td>\n      <td>...</td>\n      <td>...</td>\n      <td>...</td>\n      <td>...</td>\n      <td>...</td>\n      <td>...</td>\n      <td>...</td>\n      <td>...</td>\n      <td>...</td>\n      <td>...</td>\n      <td>...</td>\n      <td>...</td>\n      <td>...</td>\n    </tr>\n    <tr>\n      <th>62756</th>\n      <td>2023-02-27 02:00:00</td>\n      <td>50818.08</td>\n      <td>252009.8</td>\n      <td>0.376</td>\n      <td>4.586</td>\n      <td>89.97540</td>\n      <td>115.2651</td>\n      <td>1.6853</td>\n      <td>1.625168</td>\n      <td>1.480717</td>\n      <td>...</td>\n      <td>/T</td>\n      <td>36.9158</td>\n      <td>178.394642</td>\n      <td>-8.902120</td>\n      <td>30.262223</td>\n      <td>50818.35</td>\n      <td>252011.0</td>\n      <td>0.981419</td>\n      <td>86.676005</td>\n      <td>52.023759</td>\n    </tr>\n    <tr>\n      <th>62757</th>\n      <td>2023-02-27 02:01:00</td>\n      <td>50822.42</td>\n      <td>252013.3</td>\n      <td>0.362</td>\n      <td>4.571</td>\n      <td>89.97397</td>\n      <td>115.2842</td>\n      <td>1.6856</td>\n      <td>1.625203</td>\n      <td>1.480146</td>\n      <td>...</td>\n      <td>/T</td>\n      <td>36.9185</td>\n      <td>178.403496</td>\n      <td>-8.888298</td>\n      <td>30.281330</td>\n      <td>50822.69</td>\n      <td>252014.5</td>\n      <td>0.981914</td>\n      <td>86.682231</td>\n      <td>52.001076</td>\n    </tr>\n    <tr>\n      <th>62758</th>\n      <td>2023-02-27 02:02:00</td>\n      <td>50826.76</td>\n      <td>252016.9</td>\n      <td>0.342</td>\n      <td>4.551</td>\n      <td>89.97254</td>\n      <td>115.3033</td>\n      <td>1.6858</td>\n      <td>1.625239</td>\n      <td>1.479574</td>\n      <td>...</td>\n      <td>/T</td>\n      <td>36.9213</td>\n      <td>178.412353</td>\n      <td>-8.874468</td>\n      <td>30.300437</td>\n      <td>50827.03</td>\n      <td>252018.1</td>\n      <td>0.982408</td>\n      <td>86.688463</td>\n      <td>51.978409</td>\n    </tr>\n    <tr>\n      <th>62759</th>\n      <td>2023-02-27 02:03:00</td>\n      <td>50831.10</td>\n      <td>252020.4</td>\n      <td>0.329</td>\n      <td>4.536</td>\n      <td>89.97112</td>\n      <td>115.3224</td>\n      <td>1.6861</td>\n      <td>1.625275</td>\n      <td>1.479002</td>\n      <td>...</td>\n      <td>/T</td>\n      <td>36.9240</td>\n      <td>178.421214</td>\n      <td>-8.860631</td>\n      <td>30.319543</td>\n      <td>50831.37</td>\n      <td>252021.6</td>\n      <td>0.982901</td>\n      <td>86.694700</td>\n      <td>51.955757</td>\n    </tr>\n    <tr>\n      <th>62760</th>\n      <td>2023-02-28 00:00:00</td>\n      <td>50835.44</td>\n      <td>252024.0</td>\n      <td>0.321</td>\n      <td>4.528</td>\n      <td>89.96970</td>\n      <td>115.3415</td>\n      <td>1.6863</td>\n      <td>1.625310</td>\n      <td>1.478430</td>\n      <td>...</td>\n      <td>/T</td>\n      <td>36.9267</td>\n      <td>178.430079</td>\n      <td>-8.846787</td>\n      <td>30.338648</td>\n      <td>50835.71</td>\n      <td>252025.1</td>\n      <td>0.983394</td>\n      <td>86.700942</td>\n      <td>51.933121</td>\n    </tr>\n  </tbody>\n</table>\n<p>62761 rows × 23 columns</p>\n</div>"
     },
     "execution_count": 163,
     "metadata": {},
     "output_type": "execute_result"
    }
   ],
   "source": [
    "planets_copy"
   ],
   "metadata": {
    "collapsed": false
   }
  },
  {
   "cell_type": "code",
   "execution_count": 164,
   "outputs": [],
   "source": [
    "planets_copy['year'] = planets_copy['Date__(UT)__HR:MN'].dt.year\n",
    "planets_copy['month'] = planets_copy['Date__(UT)__HR:MN'].dt.month\n",
    "planets_copy['day'] = planets_copy['Date__(UT)__HR:MN'].dt.day\n",
    "planets_copy['hour'] = planets_copy['Date__(UT)__HR:MN'].dt.hour\n",
    "planets_copy['minute'] = planets_copy['Date__(UT)__HR:MN'].dt.minute"
   ],
   "metadata": {
    "collapsed": false
   }
  },
  {
   "cell_type": "code",
   "execution_count": 165,
   "outputs": [],
   "source": [
    "planets_copy.head()\n",
    "planets_copy['R.A._(ICRF)'] = pd.to_datetime(planets_copy['R.A._(ICRF)'], unit='s')\n",
    "planets_copy['R.A._(ICRF)'] = planets_copy['R.A._(ICRF)'].dt.strftime('%H:%M:%S.%f')"
   ],
   "metadata": {
    "collapsed": false
   }
  },
  {
   "cell_type": "code",
   "execution_count": 166,
   "outputs": [
    {
     "data": {
      "text/plain": "        Date__(UT)__HR:MN      R.A._(ICRF)  DEC__(ICRF)  APmag  S-brt  \\\n0     2016-01-01 00:00:00  13:25:27.620000     -92852.8  1.197  4.562   \n1     2016-01-01 00:01:00  13:25:32.880000     -92922.3  1.174  4.539   \n2     2016-01-01 00:02:00  13:25:38.150000     -92951.8  1.156  4.522   \n3     2016-01-01 00:03:00  13:25:43.420000     -93021.3  1.156  4.522   \n4     2016-01-01 00:04:00  13:25:48.680000     -93050.8  1.169  4.536   \n...                   ...              ...          ...    ...    ...   \n62756 2023-02-27 02:00:00  14:06:58.080000     252009.8  0.376  4.586   \n62757 2023-02-27 02:01:00  14:07:02.420000     252013.3  0.362  4.571   \n62758 2023-02-27 02:02:00  14:07:06.760000     252016.9  0.342  4.551   \n62759 2023-02-27 02:03:00  14:07:11.100000     252020.4  0.329  4.536   \n62760 2023-02-28 00:00:00  14:07:15.440000     252024.0  0.321  4.528   \n\n          Illu%  hEcl-Lon  hEcl-Lat         r      rdot  ...  RA_(ICRF-a-app)  \\\n0      91.34442  174.1073    1.5217  1.657735 -0.697666  ...        134727.18   \n1      91.34207  174.1257    1.5213  1.657718 -0.698355  ...        134732.45   \n2      91.33973  174.1441    1.5210  1.657701 -0.699045  ...        134737.72   \n3      91.33738  174.1624    1.5207  1.657684 -0.699734  ...        134742.98   \n4      91.33503  174.1808    1.5203  1.657668 -0.700423  ...        134748.25   \n...         ...       ...       ...       ...       ...  ...              ...   \n62756  89.97540  115.2651    1.6853  1.625168  1.480717  ...         50818.35   \n62757  89.97397  115.2842    1.6856  1.625203  1.480146  ...         50822.69   \n62758  89.97254  115.3033    1.6858  1.625239  1.479574  ...         50827.03   \n62759  89.97112  115.3224    1.6861  1.625275  1.479002  ...         50831.37   \n62760  89.96970  115.3415    1.6863  1.625310  1.478430  ...         50835.71   \n\n       DEC_(ICRF-a-app)  Sky_motion  Sky_mot_PA  RelVel-ANG  year  month  day  \\\n0              -92850.9    1.388775  110.709640  -30.823870  2016      1    1   \n1              -92920.4    1.388634  110.705670  -30.835690  2016      1    1   \n2              -92950.0    1.388492  110.701700  -30.847510  2016      1    1   \n3              -93019.5    1.388351  110.697730  -30.859340  2016      1    1   \n4              -93049.0    1.388209  110.693750  -30.871170  2016      1    1   \n...                 ...         ...         ...         ...   ...    ...  ...   \n62756          252011.0    0.981419   86.676005   52.023759  2023      2   27   \n62757          252014.5    0.981914   86.682231   52.001076  2023      2   27   \n62758          252018.1    0.982408   86.688463   51.978409  2023      2   27   \n62759          252021.6    0.982901   86.694700   51.955757  2023      2   27   \n62760          252025.1    0.983394   86.700942   51.933121  2023      2   28   \n\n       hour  minute  \n0         0       0  \n1         0       1  \n2         0       2  \n3         0       3  \n4         0       4  \n...     ...     ...  \n62756     2       0  \n62757     2       1  \n62758     2       2  \n62759     2       3  \n62760     0       0  \n\n[62761 rows x 28 columns]",
      "text/html": "<div>\n<style scoped>\n    .dataframe tbody tr th:only-of-type {\n        vertical-align: middle;\n    }\n\n    .dataframe tbody tr th {\n        vertical-align: top;\n    }\n\n    .dataframe thead th {\n        text-align: right;\n    }\n</style>\n<table border=\"1\" class=\"dataframe\">\n  <thead>\n    <tr style=\"text-align: right;\">\n      <th></th>\n      <th>Date__(UT)__HR:MN</th>\n      <th>R.A._(ICRF)</th>\n      <th>DEC__(ICRF)</th>\n      <th>APmag</th>\n      <th>S-brt</th>\n      <th>Illu%</th>\n      <th>hEcl-Lon</th>\n      <th>hEcl-Lat</th>\n      <th>r</th>\n      <th>rdot</th>\n      <th>...</th>\n      <th>RA_(ICRF-a-app)</th>\n      <th>DEC_(ICRF-a-app)</th>\n      <th>Sky_motion</th>\n      <th>Sky_mot_PA</th>\n      <th>RelVel-ANG</th>\n      <th>year</th>\n      <th>month</th>\n      <th>day</th>\n      <th>hour</th>\n      <th>minute</th>\n    </tr>\n  </thead>\n  <tbody>\n    <tr>\n      <th>0</th>\n      <td>2016-01-01 00:00:00</td>\n      <td>13:25:27.620000</td>\n      <td>-92852.8</td>\n      <td>1.197</td>\n      <td>4.562</td>\n      <td>91.34442</td>\n      <td>174.1073</td>\n      <td>1.5217</td>\n      <td>1.657735</td>\n      <td>-0.697666</td>\n      <td>...</td>\n      <td>134727.18</td>\n      <td>-92850.9</td>\n      <td>1.388775</td>\n      <td>110.709640</td>\n      <td>-30.823870</td>\n      <td>2016</td>\n      <td>1</td>\n      <td>1</td>\n      <td>0</td>\n      <td>0</td>\n    </tr>\n    <tr>\n      <th>1</th>\n      <td>2016-01-01 00:01:00</td>\n      <td>13:25:32.880000</td>\n      <td>-92922.3</td>\n      <td>1.174</td>\n      <td>4.539</td>\n      <td>91.34207</td>\n      <td>174.1257</td>\n      <td>1.5213</td>\n      <td>1.657718</td>\n      <td>-0.698355</td>\n      <td>...</td>\n      <td>134732.45</td>\n      <td>-92920.4</td>\n      <td>1.388634</td>\n      <td>110.705670</td>\n      <td>-30.835690</td>\n      <td>2016</td>\n      <td>1</td>\n      <td>1</td>\n      <td>0</td>\n      <td>1</td>\n    </tr>\n    <tr>\n      <th>2</th>\n      <td>2016-01-01 00:02:00</td>\n      <td>13:25:38.150000</td>\n      <td>-92951.8</td>\n      <td>1.156</td>\n      <td>4.522</td>\n      <td>91.33973</td>\n      <td>174.1441</td>\n      <td>1.5210</td>\n      <td>1.657701</td>\n      <td>-0.699045</td>\n      <td>...</td>\n      <td>134737.72</td>\n      <td>-92950.0</td>\n      <td>1.388492</td>\n      <td>110.701700</td>\n      <td>-30.847510</td>\n      <td>2016</td>\n      <td>1</td>\n      <td>1</td>\n      <td>0</td>\n      <td>2</td>\n    </tr>\n    <tr>\n      <th>3</th>\n      <td>2016-01-01 00:03:00</td>\n      <td>13:25:43.420000</td>\n      <td>-93021.3</td>\n      <td>1.156</td>\n      <td>4.522</td>\n      <td>91.33738</td>\n      <td>174.1624</td>\n      <td>1.5207</td>\n      <td>1.657684</td>\n      <td>-0.699734</td>\n      <td>...</td>\n      <td>134742.98</td>\n      <td>-93019.5</td>\n      <td>1.388351</td>\n      <td>110.697730</td>\n      <td>-30.859340</td>\n      <td>2016</td>\n      <td>1</td>\n      <td>1</td>\n      <td>0</td>\n      <td>3</td>\n    </tr>\n    <tr>\n      <th>4</th>\n      <td>2016-01-01 00:04:00</td>\n      <td>13:25:48.680000</td>\n      <td>-93050.8</td>\n      <td>1.169</td>\n      <td>4.536</td>\n      <td>91.33503</td>\n      <td>174.1808</td>\n      <td>1.5203</td>\n      <td>1.657668</td>\n      <td>-0.700423</td>\n      <td>...</td>\n      <td>134748.25</td>\n      <td>-93049.0</td>\n      <td>1.388209</td>\n      <td>110.693750</td>\n      <td>-30.871170</td>\n      <td>2016</td>\n      <td>1</td>\n      <td>1</td>\n      <td>0</td>\n      <td>4</td>\n    </tr>\n    <tr>\n      <th>...</th>\n      <td>...</td>\n      <td>...</td>\n      <td>...</td>\n      <td>...</td>\n      <td>...</td>\n      <td>...</td>\n      <td>...</td>\n      <td>...</td>\n      <td>...</td>\n      <td>...</td>\n      <td>...</td>\n      <td>...</td>\n      <td>...</td>\n      <td>...</td>\n      <td>...</td>\n      <td>...</td>\n      <td>...</td>\n      <td>...</td>\n      <td>...</td>\n      <td>...</td>\n      <td>...</td>\n    </tr>\n    <tr>\n      <th>62756</th>\n      <td>2023-02-27 02:00:00</td>\n      <td>14:06:58.080000</td>\n      <td>252009.8</td>\n      <td>0.376</td>\n      <td>4.586</td>\n      <td>89.97540</td>\n      <td>115.2651</td>\n      <td>1.6853</td>\n      <td>1.625168</td>\n      <td>1.480717</td>\n      <td>...</td>\n      <td>50818.35</td>\n      <td>252011.0</td>\n      <td>0.981419</td>\n      <td>86.676005</td>\n      <td>52.023759</td>\n      <td>2023</td>\n      <td>2</td>\n      <td>27</td>\n      <td>2</td>\n      <td>0</td>\n    </tr>\n    <tr>\n      <th>62757</th>\n      <td>2023-02-27 02:01:00</td>\n      <td>14:07:02.420000</td>\n      <td>252013.3</td>\n      <td>0.362</td>\n      <td>4.571</td>\n      <td>89.97397</td>\n      <td>115.2842</td>\n      <td>1.6856</td>\n      <td>1.625203</td>\n      <td>1.480146</td>\n      <td>...</td>\n      <td>50822.69</td>\n      <td>252014.5</td>\n      <td>0.981914</td>\n      <td>86.682231</td>\n      <td>52.001076</td>\n      <td>2023</td>\n      <td>2</td>\n      <td>27</td>\n      <td>2</td>\n      <td>1</td>\n    </tr>\n    <tr>\n      <th>62758</th>\n      <td>2023-02-27 02:02:00</td>\n      <td>14:07:06.760000</td>\n      <td>252016.9</td>\n      <td>0.342</td>\n      <td>4.551</td>\n      <td>89.97254</td>\n      <td>115.3033</td>\n      <td>1.6858</td>\n      <td>1.625239</td>\n      <td>1.479574</td>\n      <td>...</td>\n      <td>50827.03</td>\n      <td>252018.1</td>\n      <td>0.982408</td>\n      <td>86.688463</td>\n      <td>51.978409</td>\n      <td>2023</td>\n      <td>2</td>\n      <td>27</td>\n      <td>2</td>\n      <td>2</td>\n    </tr>\n    <tr>\n      <th>62759</th>\n      <td>2023-02-27 02:03:00</td>\n      <td>14:07:11.100000</td>\n      <td>252020.4</td>\n      <td>0.329</td>\n      <td>4.536</td>\n      <td>89.97112</td>\n      <td>115.3224</td>\n      <td>1.6861</td>\n      <td>1.625275</td>\n      <td>1.479002</td>\n      <td>...</td>\n      <td>50831.37</td>\n      <td>252021.6</td>\n      <td>0.982901</td>\n      <td>86.694700</td>\n      <td>51.955757</td>\n      <td>2023</td>\n      <td>2</td>\n      <td>27</td>\n      <td>2</td>\n      <td>3</td>\n    </tr>\n    <tr>\n      <th>62760</th>\n      <td>2023-02-28 00:00:00</td>\n      <td>14:07:15.440000</td>\n      <td>252024.0</td>\n      <td>0.321</td>\n      <td>4.528</td>\n      <td>89.96970</td>\n      <td>115.3415</td>\n      <td>1.6863</td>\n      <td>1.625310</td>\n      <td>1.478430</td>\n      <td>...</td>\n      <td>50835.71</td>\n      <td>252025.1</td>\n      <td>0.983394</td>\n      <td>86.700942</td>\n      <td>51.933121</td>\n      <td>2023</td>\n      <td>2</td>\n      <td>28</td>\n      <td>0</td>\n      <td>0</td>\n    </tr>\n  </tbody>\n</table>\n<p>62761 rows × 28 columns</p>\n</div>"
     },
     "execution_count": 166,
     "metadata": {},
     "output_type": "execute_result"
    }
   ],
   "source": [
    "planets_copy"
   ],
   "metadata": {
    "collapsed": false
   }
  },
  {
   "cell_type": "code",
   "execution_count": 167,
   "outputs": [],
   "source": [
    "degress, minutes_raw = divmod(planets_copy['DEC__(ICRF)'], 1)\n",
    "minutes, seconds = divmod(minutes_raw * 60, 1)\n",
    "seconds = seconds * 60\n",
    "planets_copy['DEC__(ICRF)'] = degress.astype(str) + ':' + minutes.astype(str) + ':' + seconds.astype(str)\n",
    "\n",
    "\n",
    "planets_copy['degrees'] = degress\n",
    "planets_copy['minutes'] = minutes\n",
    "planets_copy['seconds'] = seconds"
   ],
   "metadata": {
    "collapsed": false
   }
  },
  {
   "cell_type": "code",
   "execution_count": 168,
   "outputs": [
    {
     "data": {
      "text/plain": "        Date__(UT)__HR:MN      R.A._(ICRF)                       DEC__(ICRF)  \\\n0     2016-01-01 00:00:00  13:25:27.620000   -92853.0:11.0:59.99999998952262   \n1     2016-01-01 00:01:00  13:25:32.880000   -92923.0:41.0:59.99999998952262   \n2     2016-01-01 00:02:00  13:25:38.150000   -92952.0:11.0:59.99999998952262   \n3     2016-01-01 00:03:00  13:25:43.420000   -93022.0:41.0:59.99999998952262   \n4     2016-01-01 00:04:00  13:25:48.680000   -93051.0:11.0:59.99999998952262   \n...                   ...              ...                               ...   \n62756 2023-02-27 02:00:00  14:06:58.080000  252009.0:47.0:59.999999958090484   \n62757 2023-02-27 02:01:00  14:07:02.420000  252013.0:17.0:59.999999958090484   \n62758 2023-02-27 02:02:00  14:07:06.760000   252016.0:53.0:59.99999997904524   \n62759 2023-02-27 02:03:00  14:07:11.100000   252020.0:23.0:59.99999997904524   \n62760 2023-02-28 00:00:00  14:07:15.440000                  252024.0:0.0:0.0   \n\n       APmag  S-brt     Illu%  hEcl-Lon  hEcl-Lat         r      rdot  ...  \\\n0      1.197  4.562  91.34442  174.1073    1.5217  1.657735 -0.697666  ...   \n1      1.174  4.539  91.34207  174.1257    1.5213  1.657718 -0.698355  ...   \n2      1.156  4.522  91.33973  174.1441    1.5210  1.657701 -0.699045  ...   \n3      1.156  4.522  91.33738  174.1624    1.5207  1.657684 -0.699734  ...   \n4      1.169  4.536  91.33503  174.1808    1.5203  1.657668 -0.700423  ...   \n...      ...    ...       ...       ...       ...       ...       ...  ...   \n62756  0.376  4.586  89.97540  115.2651    1.6853  1.625168  1.480717  ...   \n62757  0.362  4.571  89.97397  115.2842    1.6856  1.625203  1.480146  ...   \n62758  0.342  4.551  89.97254  115.3033    1.6858  1.625239  1.479574  ...   \n62759  0.329  4.536  89.97112  115.3224    1.6861  1.625275  1.479002  ...   \n62760  0.321  4.528  89.96970  115.3415    1.6863  1.625310  1.478430  ...   \n\n       Sky_mot_PA  RelVel-ANG  year month  day  hour  minute   degrees  \\\n0      110.709640  -30.823870  2016     1    1     0       0  -92853.0   \n1      110.705670  -30.835690  2016     1    1     0       1  -92923.0   \n2      110.701700  -30.847510  2016     1    1     0       2  -92952.0   \n3      110.697730  -30.859340  2016     1    1     0       3  -93022.0   \n4      110.693750  -30.871170  2016     1    1     0       4  -93051.0   \n...           ...         ...   ...   ...  ...   ...     ...       ...   \n62756   86.676005   52.023759  2023     2   27     2       0  252009.0   \n62757   86.682231   52.001076  2023     2   27     2       1  252013.0   \n62758   86.688463   51.978409  2023     2   27     2       2  252016.0   \n62759   86.694700   51.955757  2023     2   27     2       3  252020.0   \n62760   86.700942   51.933121  2023     2   28     0       0  252024.0   \n\n       minutes  seconds  \n0         11.0     60.0  \n1         41.0     60.0  \n2         11.0     60.0  \n3         41.0     60.0  \n4         11.0     60.0  \n...        ...      ...  \n62756     47.0     60.0  \n62757     17.0     60.0  \n62758     53.0     60.0  \n62759     23.0     60.0  \n62760      0.0      0.0  \n\n[62761 rows x 31 columns]",
      "text/html": "<div>\n<style scoped>\n    .dataframe tbody tr th:only-of-type {\n        vertical-align: middle;\n    }\n\n    .dataframe tbody tr th {\n        vertical-align: top;\n    }\n\n    .dataframe thead th {\n        text-align: right;\n    }\n</style>\n<table border=\"1\" class=\"dataframe\">\n  <thead>\n    <tr style=\"text-align: right;\">\n      <th></th>\n      <th>Date__(UT)__HR:MN</th>\n      <th>R.A._(ICRF)</th>\n      <th>DEC__(ICRF)</th>\n      <th>APmag</th>\n      <th>S-brt</th>\n      <th>Illu%</th>\n      <th>hEcl-Lon</th>\n      <th>hEcl-Lat</th>\n      <th>r</th>\n      <th>rdot</th>\n      <th>...</th>\n      <th>Sky_mot_PA</th>\n      <th>RelVel-ANG</th>\n      <th>year</th>\n      <th>month</th>\n      <th>day</th>\n      <th>hour</th>\n      <th>minute</th>\n      <th>degrees</th>\n      <th>minutes</th>\n      <th>seconds</th>\n    </tr>\n  </thead>\n  <tbody>\n    <tr>\n      <th>0</th>\n      <td>2016-01-01 00:00:00</td>\n      <td>13:25:27.620000</td>\n      <td>-92853.0:11.0:59.99999998952262</td>\n      <td>1.197</td>\n      <td>4.562</td>\n      <td>91.34442</td>\n      <td>174.1073</td>\n      <td>1.5217</td>\n      <td>1.657735</td>\n      <td>-0.697666</td>\n      <td>...</td>\n      <td>110.709640</td>\n      <td>-30.823870</td>\n      <td>2016</td>\n      <td>1</td>\n      <td>1</td>\n      <td>0</td>\n      <td>0</td>\n      <td>-92853.0</td>\n      <td>11.0</td>\n      <td>60.0</td>\n    </tr>\n    <tr>\n      <th>1</th>\n      <td>2016-01-01 00:01:00</td>\n      <td>13:25:32.880000</td>\n      <td>-92923.0:41.0:59.99999998952262</td>\n      <td>1.174</td>\n      <td>4.539</td>\n      <td>91.34207</td>\n      <td>174.1257</td>\n      <td>1.5213</td>\n      <td>1.657718</td>\n      <td>-0.698355</td>\n      <td>...</td>\n      <td>110.705670</td>\n      <td>-30.835690</td>\n      <td>2016</td>\n      <td>1</td>\n      <td>1</td>\n      <td>0</td>\n      <td>1</td>\n      <td>-92923.0</td>\n      <td>41.0</td>\n      <td>60.0</td>\n    </tr>\n    <tr>\n      <th>2</th>\n      <td>2016-01-01 00:02:00</td>\n      <td>13:25:38.150000</td>\n      <td>-92952.0:11.0:59.99999998952262</td>\n      <td>1.156</td>\n      <td>4.522</td>\n      <td>91.33973</td>\n      <td>174.1441</td>\n      <td>1.5210</td>\n      <td>1.657701</td>\n      <td>-0.699045</td>\n      <td>...</td>\n      <td>110.701700</td>\n      <td>-30.847510</td>\n      <td>2016</td>\n      <td>1</td>\n      <td>1</td>\n      <td>0</td>\n      <td>2</td>\n      <td>-92952.0</td>\n      <td>11.0</td>\n      <td>60.0</td>\n    </tr>\n    <tr>\n      <th>3</th>\n      <td>2016-01-01 00:03:00</td>\n      <td>13:25:43.420000</td>\n      <td>-93022.0:41.0:59.99999998952262</td>\n      <td>1.156</td>\n      <td>4.522</td>\n      <td>91.33738</td>\n      <td>174.1624</td>\n      <td>1.5207</td>\n      <td>1.657684</td>\n      <td>-0.699734</td>\n      <td>...</td>\n      <td>110.697730</td>\n      <td>-30.859340</td>\n      <td>2016</td>\n      <td>1</td>\n      <td>1</td>\n      <td>0</td>\n      <td>3</td>\n      <td>-93022.0</td>\n      <td>41.0</td>\n      <td>60.0</td>\n    </tr>\n    <tr>\n      <th>4</th>\n      <td>2016-01-01 00:04:00</td>\n      <td>13:25:48.680000</td>\n      <td>-93051.0:11.0:59.99999998952262</td>\n      <td>1.169</td>\n      <td>4.536</td>\n      <td>91.33503</td>\n      <td>174.1808</td>\n      <td>1.5203</td>\n      <td>1.657668</td>\n      <td>-0.700423</td>\n      <td>...</td>\n      <td>110.693750</td>\n      <td>-30.871170</td>\n      <td>2016</td>\n      <td>1</td>\n      <td>1</td>\n      <td>0</td>\n      <td>4</td>\n      <td>-93051.0</td>\n      <td>11.0</td>\n      <td>60.0</td>\n    </tr>\n    <tr>\n      <th>...</th>\n      <td>...</td>\n      <td>...</td>\n      <td>...</td>\n      <td>...</td>\n      <td>...</td>\n      <td>...</td>\n      <td>...</td>\n      <td>...</td>\n      <td>...</td>\n      <td>...</td>\n      <td>...</td>\n      <td>...</td>\n      <td>...</td>\n      <td>...</td>\n      <td>...</td>\n      <td>...</td>\n      <td>...</td>\n      <td>...</td>\n      <td>...</td>\n      <td>...</td>\n      <td>...</td>\n    </tr>\n    <tr>\n      <th>62756</th>\n      <td>2023-02-27 02:00:00</td>\n      <td>14:06:58.080000</td>\n      <td>252009.0:47.0:59.999999958090484</td>\n      <td>0.376</td>\n      <td>4.586</td>\n      <td>89.97540</td>\n      <td>115.2651</td>\n      <td>1.6853</td>\n      <td>1.625168</td>\n      <td>1.480717</td>\n      <td>...</td>\n      <td>86.676005</td>\n      <td>52.023759</td>\n      <td>2023</td>\n      <td>2</td>\n      <td>27</td>\n      <td>2</td>\n      <td>0</td>\n      <td>252009.0</td>\n      <td>47.0</td>\n      <td>60.0</td>\n    </tr>\n    <tr>\n      <th>62757</th>\n      <td>2023-02-27 02:01:00</td>\n      <td>14:07:02.420000</td>\n      <td>252013.0:17.0:59.999999958090484</td>\n      <td>0.362</td>\n      <td>4.571</td>\n      <td>89.97397</td>\n      <td>115.2842</td>\n      <td>1.6856</td>\n      <td>1.625203</td>\n      <td>1.480146</td>\n      <td>...</td>\n      <td>86.682231</td>\n      <td>52.001076</td>\n      <td>2023</td>\n      <td>2</td>\n      <td>27</td>\n      <td>2</td>\n      <td>1</td>\n      <td>252013.0</td>\n      <td>17.0</td>\n      <td>60.0</td>\n    </tr>\n    <tr>\n      <th>62758</th>\n      <td>2023-02-27 02:02:00</td>\n      <td>14:07:06.760000</td>\n      <td>252016.0:53.0:59.99999997904524</td>\n      <td>0.342</td>\n      <td>4.551</td>\n      <td>89.97254</td>\n      <td>115.3033</td>\n      <td>1.6858</td>\n      <td>1.625239</td>\n      <td>1.479574</td>\n      <td>...</td>\n      <td>86.688463</td>\n      <td>51.978409</td>\n      <td>2023</td>\n      <td>2</td>\n      <td>27</td>\n      <td>2</td>\n      <td>2</td>\n      <td>252016.0</td>\n      <td>53.0</td>\n      <td>60.0</td>\n    </tr>\n    <tr>\n      <th>62759</th>\n      <td>2023-02-27 02:03:00</td>\n      <td>14:07:11.100000</td>\n      <td>252020.0:23.0:59.99999997904524</td>\n      <td>0.329</td>\n      <td>4.536</td>\n      <td>89.97112</td>\n      <td>115.3224</td>\n      <td>1.6861</td>\n      <td>1.625275</td>\n      <td>1.479002</td>\n      <td>...</td>\n      <td>86.694700</td>\n      <td>51.955757</td>\n      <td>2023</td>\n      <td>2</td>\n      <td>27</td>\n      <td>2</td>\n      <td>3</td>\n      <td>252020.0</td>\n      <td>23.0</td>\n      <td>60.0</td>\n    </tr>\n    <tr>\n      <th>62760</th>\n      <td>2023-02-28 00:00:00</td>\n      <td>14:07:15.440000</td>\n      <td>252024.0:0.0:0.0</td>\n      <td>0.321</td>\n      <td>4.528</td>\n      <td>89.96970</td>\n      <td>115.3415</td>\n      <td>1.6863</td>\n      <td>1.625310</td>\n      <td>1.478430</td>\n      <td>...</td>\n      <td>86.700942</td>\n      <td>51.933121</td>\n      <td>2023</td>\n      <td>2</td>\n      <td>28</td>\n      <td>0</td>\n      <td>0</td>\n      <td>252024.0</td>\n      <td>0.0</td>\n      <td>0.0</td>\n    </tr>\n  </tbody>\n</table>\n<p>62761 rows × 31 columns</p>\n</div>"
     },
     "execution_count": 168,
     "metadata": {},
     "output_type": "execute_result"
    }
   ],
   "source": [
    "planets_copy"
   ],
   "metadata": {
    "collapsed": false
   }
  },
  {
   "cell_type": "code",
   "execution_count": 139,
   "outputs": [
    {
     "data": {
      "text/plain": "        Date__(UT)__HR:MN      R.A._(ICRF)                       DEC__(ICRF)  \\\n0     2016-01-01 00:00:00  13:25:27.620000   -92853.0 11.0 59.99999998952262   \n1     2016-01-01 00:01:00  13:25:32.880000   -92923.0 41.0 59.99999998952262   \n2     2016-01-01 00:02:00  13:25:38.150000   -92952.0 11.0 59.99999998952262   \n3     2016-01-01 00:03:00  13:25:43.420000   -93022.0 41.0 59.99999998952262   \n4     2016-01-01 00:04:00  13:25:48.680000   -93051.0 11.0 59.99999998952262   \n...                   ...              ...                               ...   \n62756 2023-02-27 02:00:00  14:06:58.080000  252009.0 47.0 59.999999958090484   \n62757 2023-02-27 02:01:00  14:07:02.420000  252013.0 17.0 59.999999958090484   \n62758 2023-02-27 02:02:00  14:07:06.760000   252016.0 53.0 59.99999997904524   \n62759 2023-02-27 02:03:00  14:07:11.100000   252020.0 23.0 59.99999997904524   \n62760 2023-02-28 00:00:00  14:07:15.440000                  252024.0 0.0 0.0   \n\n       APmag  S-brt     Illu%  hEcl-Lon  hEcl-Lat         r      rdot  ...  \\\n0      1.197  4.562  91.34442  174.1073    1.5217  1.657735 -0.697666  ...   \n1      1.174  4.539  91.34207  174.1257    1.5213  1.657718 -0.698355  ...   \n2      1.156  4.522  91.33973  174.1441    1.5210  1.657701 -0.699045  ...   \n3      1.156  4.522  91.33738  174.1624    1.5207  1.657684 -0.699734  ...   \n4      1.169  4.536  91.33503  174.1808    1.5203  1.657668 -0.700423  ...   \n...      ...    ...       ...       ...       ...       ...       ...  ...   \n62756  0.376  4.586  89.97540  115.2651    1.6853  1.625168  1.480717  ...   \n62757  0.362  4.571  89.97397  115.2842    1.6856  1.625203  1.480146  ...   \n62758  0.342  4.551  89.97254  115.3033    1.6858  1.625239  1.479574  ...   \n62759  0.329  4.536  89.97112  115.3224    1.6861  1.625275  1.479002  ...   \n62760  0.321  4.528  89.96970  115.3415    1.6863  1.625310  1.478430  ...   \n\n       RA_(ICRF-a-app)  DEC_(ICRF-a-app)  Sky_motion  Sky_mot_PA  RelVel-ANG  \\\n0            134727.18          -92850.9    1.388775  110.709640  -30.823870   \n1            134732.45          -92920.4    1.388634  110.705670  -30.835690   \n2            134737.72          -92950.0    1.388492  110.701700  -30.847510   \n3            134742.98          -93019.5    1.388351  110.697730  -30.859340   \n4            134748.25          -93049.0    1.388209  110.693750  -30.871170   \n...                ...               ...         ...         ...         ...   \n62756         50818.35          252011.0    0.981419   86.676005   52.023759   \n62757         50822.69          252014.5    0.981914   86.682231   52.001076   \n62758         50827.03          252018.1    0.982408   86.688463   51.978409   \n62759         50831.37          252021.6    0.982901   86.694700   51.955757   \n62760         50835.71          252025.1    0.983394   86.700942   51.933121   \n\n       year  month  day  hour  minute  \n0      2016      1    1     0       0  \n1      2016      1    1     0       1  \n2      2016      1    1     0       2  \n3      2016      1    1     0       3  \n4      2016      1    1     0       4  \n...     ...    ...  ...   ...     ...  \n62756  2023      2   27     2       0  \n62757  2023      2   27     2       1  \n62758  2023      2   27     2       2  \n62759  2023      2   27     2       3  \n62760  2023      2   28     0       0  \n\n[62761 rows x 28 columns]",
      "text/html": "<div>\n<style scoped>\n    .dataframe tbody tr th:only-of-type {\n        vertical-align: middle;\n    }\n\n    .dataframe tbody tr th {\n        vertical-align: top;\n    }\n\n    .dataframe thead th {\n        text-align: right;\n    }\n</style>\n<table border=\"1\" class=\"dataframe\">\n  <thead>\n    <tr style=\"text-align: right;\">\n      <th></th>\n      <th>Date__(UT)__HR:MN</th>\n      <th>R.A._(ICRF)</th>\n      <th>DEC__(ICRF)</th>\n      <th>APmag</th>\n      <th>S-brt</th>\n      <th>Illu%</th>\n      <th>hEcl-Lon</th>\n      <th>hEcl-Lat</th>\n      <th>r</th>\n      <th>rdot</th>\n      <th>...</th>\n      <th>RA_(ICRF-a-app)</th>\n      <th>DEC_(ICRF-a-app)</th>\n      <th>Sky_motion</th>\n      <th>Sky_mot_PA</th>\n      <th>RelVel-ANG</th>\n      <th>year</th>\n      <th>month</th>\n      <th>day</th>\n      <th>hour</th>\n      <th>minute</th>\n    </tr>\n  </thead>\n  <tbody>\n    <tr>\n      <th>0</th>\n      <td>2016-01-01 00:00:00</td>\n      <td>13:25:27.620000</td>\n      <td>-92853.0 11.0 59.99999998952262</td>\n      <td>1.197</td>\n      <td>4.562</td>\n      <td>91.34442</td>\n      <td>174.1073</td>\n      <td>1.5217</td>\n      <td>1.657735</td>\n      <td>-0.697666</td>\n      <td>...</td>\n      <td>134727.18</td>\n      <td>-92850.9</td>\n      <td>1.388775</td>\n      <td>110.709640</td>\n      <td>-30.823870</td>\n      <td>2016</td>\n      <td>1</td>\n      <td>1</td>\n      <td>0</td>\n      <td>0</td>\n    </tr>\n    <tr>\n      <th>1</th>\n      <td>2016-01-01 00:01:00</td>\n      <td>13:25:32.880000</td>\n      <td>-92923.0 41.0 59.99999998952262</td>\n      <td>1.174</td>\n      <td>4.539</td>\n      <td>91.34207</td>\n      <td>174.1257</td>\n      <td>1.5213</td>\n      <td>1.657718</td>\n      <td>-0.698355</td>\n      <td>...</td>\n      <td>134732.45</td>\n      <td>-92920.4</td>\n      <td>1.388634</td>\n      <td>110.705670</td>\n      <td>-30.835690</td>\n      <td>2016</td>\n      <td>1</td>\n      <td>1</td>\n      <td>0</td>\n      <td>1</td>\n    </tr>\n    <tr>\n      <th>2</th>\n      <td>2016-01-01 00:02:00</td>\n      <td>13:25:38.150000</td>\n      <td>-92952.0 11.0 59.99999998952262</td>\n      <td>1.156</td>\n      <td>4.522</td>\n      <td>91.33973</td>\n      <td>174.1441</td>\n      <td>1.5210</td>\n      <td>1.657701</td>\n      <td>-0.699045</td>\n      <td>...</td>\n      <td>134737.72</td>\n      <td>-92950.0</td>\n      <td>1.388492</td>\n      <td>110.701700</td>\n      <td>-30.847510</td>\n      <td>2016</td>\n      <td>1</td>\n      <td>1</td>\n      <td>0</td>\n      <td>2</td>\n    </tr>\n    <tr>\n      <th>3</th>\n      <td>2016-01-01 00:03:00</td>\n      <td>13:25:43.420000</td>\n      <td>-93022.0 41.0 59.99999998952262</td>\n      <td>1.156</td>\n      <td>4.522</td>\n      <td>91.33738</td>\n      <td>174.1624</td>\n      <td>1.5207</td>\n      <td>1.657684</td>\n      <td>-0.699734</td>\n      <td>...</td>\n      <td>134742.98</td>\n      <td>-93019.5</td>\n      <td>1.388351</td>\n      <td>110.697730</td>\n      <td>-30.859340</td>\n      <td>2016</td>\n      <td>1</td>\n      <td>1</td>\n      <td>0</td>\n      <td>3</td>\n    </tr>\n    <tr>\n      <th>4</th>\n      <td>2016-01-01 00:04:00</td>\n      <td>13:25:48.680000</td>\n      <td>-93051.0 11.0 59.99999998952262</td>\n      <td>1.169</td>\n      <td>4.536</td>\n      <td>91.33503</td>\n      <td>174.1808</td>\n      <td>1.5203</td>\n      <td>1.657668</td>\n      <td>-0.700423</td>\n      <td>...</td>\n      <td>134748.25</td>\n      <td>-93049.0</td>\n      <td>1.388209</td>\n      <td>110.693750</td>\n      <td>-30.871170</td>\n      <td>2016</td>\n      <td>1</td>\n      <td>1</td>\n      <td>0</td>\n      <td>4</td>\n    </tr>\n    <tr>\n      <th>...</th>\n      <td>...</td>\n      <td>...</td>\n      <td>...</td>\n      <td>...</td>\n      <td>...</td>\n      <td>...</td>\n      <td>...</td>\n      <td>...</td>\n      <td>...</td>\n      <td>...</td>\n      <td>...</td>\n      <td>...</td>\n      <td>...</td>\n      <td>...</td>\n      <td>...</td>\n      <td>...</td>\n      <td>...</td>\n      <td>...</td>\n      <td>...</td>\n      <td>...</td>\n      <td>...</td>\n    </tr>\n    <tr>\n      <th>62756</th>\n      <td>2023-02-27 02:00:00</td>\n      <td>14:06:58.080000</td>\n      <td>252009.0 47.0 59.999999958090484</td>\n      <td>0.376</td>\n      <td>4.586</td>\n      <td>89.97540</td>\n      <td>115.2651</td>\n      <td>1.6853</td>\n      <td>1.625168</td>\n      <td>1.480717</td>\n      <td>...</td>\n      <td>50818.35</td>\n      <td>252011.0</td>\n      <td>0.981419</td>\n      <td>86.676005</td>\n      <td>52.023759</td>\n      <td>2023</td>\n      <td>2</td>\n      <td>27</td>\n      <td>2</td>\n      <td>0</td>\n    </tr>\n    <tr>\n      <th>62757</th>\n      <td>2023-02-27 02:01:00</td>\n      <td>14:07:02.420000</td>\n      <td>252013.0 17.0 59.999999958090484</td>\n      <td>0.362</td>\n      <td>4.571</td>\n      <td>89.97397</td>\n      <td>115.2842</td>\n      <td>1.6856</td>\n      <td>1.625203</td>\n      <td>1.480146</td>\n      <td>...</td>\n      <td>50822.69</td>\n      <td>252014.5</td>\n      <td>0.981914</td>\n      <td>86.682231</td>\n      <td>52.001076</td>\n      <td>2023</td>\n      <td>2</td>\n      <td>27</td>\n      <td>2</td>\n      <td>1</td>\n    </tr>\n    <tr>\n      <th>62758</th>\n      <td>2023-02-27 02:02:00</td>\n      <td>14:07:06.760000</td>\n      <td>252016.0 53.0 59.99999997904524</td>\n      <td>0.342</td>\n      <td>4.551</td>\n      <td>89.97254</td>\n      <td>115.3033</td>\n      <td>1.6858</td>\n      <td>1.625239</td>\n      <td>1.479574</td>\n      <td>...</td>\n      <td>50827.03</td>\n      <td>252018.1</td>\n      <td>0.982408</td>\n      <td>86.688463</td>\n      <td>51.978409</td>\n      <td>2023</td>\n      <td>2</td>\n      <td>27</td>\n      <td>2</td>\n      <td>2</td>\n    </tr>\n    <tr>\n      <th>62759</th>\n      <td>2023-02-27 02:03:00</td>\n      <td>14:07:11.100000</td>\n      <td>252020.0 23.0 59.99999997904524</td>\n      <td>0.329</td>\n      <td>4.536</td>\n      <td>89.97112</td>\n      <td>115.3224</td>\n      <td>1.6861</td>\n      <td>1.625275</td>\n      <td>1.479002</td>\n      <td>...</td>\n      <td>50831.37</td>\n      <td>252021.6</td>\n      <td>0.982901</td>\n      <td>86.694700</td>\n      <td>51.955757</td>\n      <td>2023</td>\n      <td>2</td>\n      <td>27</td>\n      <td>2</td>\n      <td>3</td>\n    </tr>\n    <tr>\n      <th>62760</th>\n      <td>2023-02-28 00:00:00</td>\n      <td>14:07:15.440000</td>\n      <td>252024.0 0.0 0.0</td>\n      <td>0.321</td>\n      <td>4.528</td>\n      <td>89.96970</td>\n      <td>115.3415</td>\n      <td>1.6863</td>\n      <td>1.625310</td>\n      <td>1.478430</td>\n      <td>...</td>\n      <td>50835.71</td>\n      <td>252025.1</td>\n      <td>0.983394</td>\n      <td>86.700942</td>\n      <td>51.933121</td>\n      <td>2023</td>\n      <td>2</td>\n      <td>28</td>\n      <td>0</td>\n      <td>0</td>\n    </tr>\n  </tbody>\n</table>\n<p>62761 rows × 28 columns</p>\n</div>"
     },
     "execution_count": 139,
     "metadata": {},
     "output_type": "execute_result"
    }
   ],
   "source": [],
   "metadata": {
    "collapsed": false
   }
  },
  {
   "cell_type": "code",
   "execution_count": null,
   "outputs": [],
   "source": [],
   "metadata": {
    "collapsed": false
   }
  }
 ],
 "metadata": {
  "kernelspec": {
   "display_name": "Python 3",
   "language": "python",
   "name": "python3"
  },
  "language_info": {
   "codemirror_mode": {
    "name": "ipython",
    "version": 2
   },
   "file_extension": ".py",
   "mimetype": "text/x-python",
   "name": "python",
   "nbconvert_exporter": "python",
   "pygments_lexer": "ipython2",
   "version": "2.7.6"
  }
 },
 "nbformat": 4,
 "nbformat_minor": 0
}
