{
 "cells": [
  {
   "cell_type": "code",
   "execution_count": 1,
   "outputs": [],
   "source": [
    "import pandas as pd"
   ],
   "metadata": {
    "collapsed": false
   }
  },
  {
   "cell_type": "code",
   "execution_count": 2,
   "outputs": [],
   "source": [
    "def read_file_and_export(f: str, export: str):\n",
    "    count = 0\n",
    "    import csv\n",
    "    file = open(f, 'r')\n",
    "    file2 = open(export, 'x')\n",
    "    writer = csv.writer(file2)\n",
    "    columns = ['Date__(UT)__HR:MN', 'R.A._(ICRF)', 'DEC__(ICRF)', 'APmag',\n",
    "    'S-brt', 'Illu%', 'hEcl-Lon', 'hEcl-Lat', 'r', 'rdot', 'delta', 'deldot',\n",
    "    'S-O-T', '/r', 'S-T-O', 'GlxLon', 'GlxLat', 'L_Ap_SOL_Time', 'RA_3sigma', 'DEC_3sigma',\n",
    "    'SMAA_3sig', 'SMIA_3sig', 'Theta', 'Area_3sig', 'POS_3sigma', 'RNG_3sigma',\n",
    "    'RNGRT_3sig', 'DOP_S_3sig', 'DOP_X_3sig', 'RT_delay_3sig', 'App_Lon_Sun',\n",
    "    'RA_(ICRF-a-app)', 'DEC_(ICRF-a-app)', 'Sky_motion', 'Sky_mot_PA', 'RelVel-ANG',\n",
    "    'Lun_Sky_Brt', 'sky_SNR']\n",
    "    writer.writerow(columns)\n",
    "    while True:\n",
    "        line = file.readline()\n",
    "\n",
    "        if not line:\n",
    "            break\n",
    "        else:\n",
    "            #print('yes')\n",
    "            if '$$SOE' in line:\n",
    "\n",
    "                count += 1\n",
    "            elif '$$EOE' in line:\n",
    "                count += 1\n",
    "            if count == 1 and '$$SOE' not in line:\n",
    "                line = line.replace(' ', '')\n",
    "                line = line.split(',')\n",
    "                line.remove('')\n",
    "                line.remove('')\n",
    "\n",
    "                writer.writerow(line)\n",
    "    file.close()\n",
    "    file2.close()\n"
   ],
   "metadata": {
    "collapsed": false
   }
  },
  {
   "cell_type": "code",
   "execution_count": 26,
   "outputs": [],
   "source": [
    "file = 'planets.txt'\n",
    "export = 'planets2.csv'\n",
    "read_file_and_export(file, export)"
   ],
   "metadata": {
    "collapsed": false
   }
  },
  {
   "cell_type": "code",
   "execution_count": 76,
   "metadata": {
    "collapsed": true
   },
   "outputs": [],
   "source": [
    "df = pd.read_csv(export, na_values='n.a.')"
   ]
  },
  {
   "cell_type": "code",
   "execution_count": 77,
   "outputs": [
    {
     "data": {
      "text/plain": "      Date__(UT)__HR:MN  R.A._(ICRF)  DEC__(ICRF)  APmag  S-brt     Illu%  \\\n0      2016-Jan-0100:00    134727.62     -92852.8  1.197  4.562  91.34442   \n1      2016-Jan-0101:00    134732.88     -92922.3  1.174  4.539  91.34207   \n2      2016-Jan-0102:00    134738.15     -92951.8  1.156  4.522  91.33973   \n3      2016-Jan-0103:00    134743.42     -93021.3  1.156  4.522  91.33738   \n4      2016-Jan-0104:00    134748.68     -93050.8  1.169  4.536  91.33503   \n...                 ...          ...          ...    ...    ...       ...   \n62756  2023-Feb-2720:00     50818.08     252009.8  0.376  4.586  89.97540   \n62757  2023-Feb-2721:00     50822.42     252013.3  0.362  4.571  89.97397   \n62758  2023-Feb-2722:00     50826.76     252016.9  0.342  4.551  89.97254   \n62759  2023-Feb-2723:00     50831.10     252020.4  0.329  4.536  89.97112   \n62760  2023-Feb-2800:00     50835.44     252024.0  0.321  4.528  89.96970   \n\n       hEcl-Lon  hEcl-Lat         r      rdot  ...  DOP_X_3sig  RT_delay_3sig  \\\n0      174.1073    1.5217  1.657735 -0.697666  ...         NaN            NaN   \n1      174.1257    1.5213  1.657718 -0.698355  ...         NaN            NaN   \n2      174.1441    1.5210  1.657701 -0.699045  ...         NaN            NaN   \n3      174.1624    1.5207  1.657684 -0.699734  ...         NaN            NaN   \n4      174.1808    1.5203  1.657668 -0.700423  ...         NaN            NaN   \n...         ...       ...       ...       ...  ...         ...            ...   \n62756  115.2651    1.6853  1.625168  1.480717  ...         NaN            NaN   \n62757  115.2842    1.6856  1.625203  1.480146  ...         NaN            NaN   \n62758  115.3033    1.6858  1.625239  1.479574  ...         NaN            NaN   \n62759  115.3224    1.6861  1.625275  1.479002  ...         NaN            NaN   \n62760  115.3415    1.6863  1.625310  1.478430  ...         NaN            NaN   \n\n       App_Lon_Sun RA_(ICRF-a-app)  DEC_(ICRF-a-app)  Sky_motion  Sky_mot_PA  \\\n0        89.065096       134727.18          -92850.9    1.388775  110.709640   \n1        89.083464       134732.45          -92920.4    1.388634  110.705670   \n2        89.101832       134737.72          -92950.0    1.388492  110.701700   \n3        89.120200       134742.98          -93019.5    1.388351  110.697730   \n4        89.138569       134748.25          -93049.0    1.388209  110.693750   \n...            ...             ...               ...         ...         ...   \n62756    30.262223        50818.35          252011.0    0.981419   86.676005   \n62757    30.281330        50822.69          252014.5    0.981914   86.682231   \n62758    30.300437        50827.03          252018.1    0.982408   86.688463   \n62759    30.319543        50831.37          252021.6    0.982901   86.694700   \n62760    30.338648        50835.71          252025.1    0.983394   86.700942   \n\n       RelVel-ANG   Lun_Sky_Brt  sky_SNR  \n0      -30.823870  n.a.n.a.\\r\\n      NaN  \n1      -30.835690  n.a.n.a.\\r\\n      NaN  \n2      -30.847510  n.a.n.a.\\r\\n      NaN  \n3      -30.859340  n.a.n.a.\\r\\n      NaN  \n4      -30.871170  n.a.n.a.\\r\\n      NaN  \n...           ...           ...      ...  \n62756   52.023759  n.a.n.a.\\r\\n      NaN  \n62757   52.001076  n.a.n.a.\\r\\n      NaN  \n62758   51.978409  n.a.n.a.\\r\\n      NaN  \n62759   51.955757  n.a.n.a.\\r\\n      NaN  \n62760   51.933121  n.a.n.a.\\r\\n      NaN  \n\n[62761 rows x 38 columns]",
      "text/html": "<div>\n<style scoped>\n    .dataframe tbody tr th:only-of-type {\n        vertical-align: middle;\n    }\n\n    .dataframe tbody tr th {\n        vertical-align: top;\n    }\n\n    .dataframe thead th {\n        text-align: right;\n    }\n</style>\n<table border=\"1\" class=\"dataframe\">\n  <thead>\n    <tr style=\"text-align: right;\">\n      <th></th>\n      <th>Date__(UT)__HR:MN</th>\n      <th>R.A._(ICRF)</th>\n      <th>DEC__(ICRF)</th>\n      <th>APmag</th>\n      <th>S-brt</th>\n      <th>Illu%</th>\n      <th>hEcl-Lon</th>\n      <th>hEcl-Lat</th>\n      <th>r</th>\n      <th>rdot</th>\n      <th>...</th>\n      <th>DOP_X_3sig</th>\n      <th>RT_delay_3sig</th>\n      <th>App_Lon_Sun</th>\n      <th>RA_(ICRF-a-app)</th>\n      <th>DEC_(ICRF-a-app)</th>\n      <th>Sky_motion</th>\n      <th>Sky_mot_PA</th>\n      <th>RelVel-ANG</th>\n      <th>Lun_Sky_Brt</th>\n      <th>sky_SNR</th>\n    </tr>\n  </thead>\n  <tbody>\n    <tr>\n      <th>0</th>\n      <td>2016-Jan-0100:00</td>\n      <td>134727.62</td>\n      <td>-92852.8</td>\n      <td>1.197</td>\n      <td>4.562</td>\n      <td>91.34442</td>\n      <td>174.1073</td>\n      <td>1.5217</td>\n      <td>1.657735</td>\n      <td>-0.697666</td>\n      <td>...</td>\n      <td>NaN</td>\n      <td>NaN</td>\n      <td>89.065096</td>\n      <td>134727.18</td>\n      <td>-92850.9</td>\n      <td>1.388775</td>\n      <td>110.709640</td>\n      <td>-30.823870</td>\n      <td>n.a.n.a.\\r\\n</td>\n      <td>NaN</td>\n    </tr>\n    <tr>\n      <th>1</th>\n      <td>2016-Jan-0101:00</td>\n      <td>134732.88</td>\n      <td>-92922.3</td>\n      <td>1.174</td>\n      <td>4.539</td>\n      <td>91.34207</td>\n      <td>174.1257</td>\n      <td>1.5213</td>\n      <td>1.657718</td>\n      <td>-0.698355</td>\n      <td>...</td>\n      <td>NaN</td>\n      <td>NaN</td>\n      <td>89.083464</td>\n      <td>134732.45</td>\n      <td>-92920.4</td>\n      <td>1.388634</td>\n      <td>110.705670</td>\n      <td>-30.835690</td>\n      <td>n.a.n.a.\\r\\n</td>\n      <td>NaN</td>\n    </tr>\n    <tr>\n      <th>2</th>\n      <td>2016-Jan-0102:00</td>\n      <td>134738.15</td>\n      <td>-92951.8</td>\n      <td>1.156</td>\n      <td>4.522</td>\n      <td>91.33973</td>\n      <td>174.1441</td>\n      <td>1.5210</td>\n      <td>1.657701</td>\n      <td>-0.699045</td>\n      <td>...</td>\n      <td>NaN</td>\n      <td>NaN</td>\n      <td>89.101832</td>\n      <td>134737.72</td>\n      <td>-92950.0</td>\n      <td>1.388492</td>\n      <td>110.701700</td>\n      <td>-30.847510</td>\n      <td>n.a.n.a.\\r\\n</td>\n      <td>NaN</td>\n    </tr>\n    <tr>\n      <th>3</th>\n      <td>2016-Jan-0103:00</td>\n      <td>134743.42</td>\n      <td>-93021.3</td>\n      <td>1.156</td>\n      <td>4.522</td>\n      <td>91.33738</td>\n      <td>174.1624</td>\n      <td>1.5207</td>\n      <td>1.657684</td>\n      <td>-0.699734</td>\n      <td>...</td>\n      <td>NaN</td>\n      <td>NaN</td>\n      <td>89.120200</td>\n      <td>134742.98</td>\n      <td>-93019.5</td>\n      <td>1.388351</td>\n      <td>110.697730</td>\n      <td>-30.859340</td>\n      <td>n.a.n.a.\\r\\n</td>\n      <td>NaN</td>\n    </tr>\n    <tr>\n      <th>4</th>\n      <td>2016-Jan-0104:00</td>\n      <td>134748.68</td>\n      <td>-93050.8</td>\n      <td>1.169</td>\n      <td>4.536</td>\n      <td>91.33503</td>\n      <td>174.1808</td>\n      <td>1.5203</td>\n      <td>1.657668</td>\n      <td>-0.700423</td>\n      <td>...</td>\n      <td>NaN</td>\n      <td>NaN</td>\n      <td>89.138569</td>\n      <td>134748.25</td>\n      <td>-93049.0</td>\n      <td>1.388209</td>\n      <td>110.693750</td>\n      <td>-30.871170</td>\n      <td>n.a.n.a.\\r\\n</td>\n      <td>NaN</td>\n    </tr>\n    <tr>\n      <th>...</th>\n      <td>...</td>\n      <td>...</td>\n      <td>...</td>\n      <td>...</td>\n      <td>...</td>\n      <td>...</td>\n      <td>...</td>\n      <td>...</td>\n      <td>...</td>\n      <td>...</td>\n      <td>...</td>\n      <td>...</td>\n      <td>...</td>\n      <td>...</td>\n      <td>...</td>\n      <td>...</td>\n      <td>...</td>\n      <td>...</td>\n      <td>...</td>\n      <td>...</td>\n      <td>...</td>\n    </tr>\n    <tr>\n      <th>62756</th>\n      <td>2023-Feb-2720:00</td>\n      <td>50818.08</td>\n      <td>252009.8</td>\n      <td>0.376</td>\n      <td>4.586</td>\n      <td>89.97540</td>\n      <td>115.2651</td>\n      <td>1.6853</td>\n      <td>1.625168</td>\n      <td>1.480717</td>\n      <td>...</td>\n      <td>NaN</td>\n      <td>NaN</td>\n      <td>30.262223</td>\n      <td>50818.35</td>\n      <td>252011.0</td>\n      <td>0.981419</td>\n      <td>86.676005</td>\n      <td>52.023759</td>\n      <td>n.a.n.a.\\r\\n</td>\n      <td>NaN</td>\n    </tr>\n    <tr>\n      <th>62757</th>\n      <td>2023-Feb-2721:00</td>\n      <td>50822.42</td>\n      <td>252013.3</td>\n      <td>0.362</td>\n      <td>4.571</td>\n      <td>89.97397</td>\n      <td>115.2842</td>\n      <td>1.6856</td>\n      <td>1.625203</td>\n      <td>1.480146</td>\n      <td>...</td>\n      <td>NaN</td>\n      <td>NaN</td>\n      <td>30.281330</td>\n      <td>50822.69</td>\n      <td>252014.5</td>\n      <td>0.981914</td>\n      <td>86.682231</td>\n      <td>52.001076</td>\n      <td>n.a.n.a.\\r\\n</td>\n      <td>NaN</td>\n    </tr>\n    <tr>\n      <th>62758</th>\n      <td>2023-Feb-2722:00</td>\n      <td>50826.76</td>\n      <td>252016.9</td>\n      <td>0.342</td>\n      <td>4.551</td>\n      <td>89.97254</td>\n      <td>115.3033</td>\n      <td>1.6858</td>\n      <td>1.625239</td>\n      <td>1.479574</td>\n      <td>...</td>\n      <td>NaN</td>\n      <td>NaN</td>\n      <td>30.300437</td>\n      <td>50827.03</td>\n      <td>252018.1</td>\n      <td>0.982408</td>\n      <td>86.688463</td>\n      <td>51.978409</td>\n      <td>n.a.n.a.\\r\\n</td>\n      <td>NaN</td>\n    </tr>\n    <tr>\n      <th>62759</th>\n      <td>2023-Feb-2723:00</td>\n      <td>50831.10</td>\n      <td>252020.4</td>\n      <td>0.329</td>\n      <td>4.536</td>\n      <td>89.97112</td>\n      <td>115.3224</td>\n      <td>1.6861</td>\n      <td>1.625275</td>\n      <td>1.479002</td>\n      <td>...</td>\n      <td>NaN</td>\n      <td>NaN</td>\n      <td>30.319543</td>\n      <td>50831.37</td>\n      <td>252021.6</td>\n      <td>0.982901</td>\n      <td>86.694700</td>\n      <td>51.955757</td>\n      <td>n.a.n.a.\\r\\n</td>\n      <td>NaN</td>\n    </tr>\n    <tr>\n      <th>62760</th>\n      <td>2023-Feb-2800:00</td>\n      <td>50835.44</td>\n      <td>252024.0</td>\n      <td>0.321</td>\n      <td>4.528</td>\n      <td>89.96970</td>\n      <td>115.3415</td>\n      <td>1.6863</td>\n      <td>1.625310</td>\n      <td>1.478430</td>\n      <td>...</td>\n      <td>NaN</td>\n      <td>NaN</td>\n      <td>30.338648</td>\n      <td>50835.71</td>\n      <td>252025.1</td>\n      <td>0.983394</td>\n      <td>86.700942</td>\n      <td>51.933121</td>\n      <td>n.a.n.a.\\r\\n</td>\n      <td>NaN</td>\n    </tr>\n  </tbody>\n</table>\n<p>62761 rows × 38 columns</p>\n</div>"
     },
     "execution_count": 77,
     "metadata": {},
     "output_type": "execute_result"
    }
   ],
   "source": [
    "df"
   ],
   "metadata": {
    "collapsed": false
   }
  },
  {
   "cell_type": "code",
   "execution_count": 78,
   "outputs": [
    {
     "data": {
      "text/plain": "Date__(UT)__HR:MN        0\nR.A._(ICRF)              0\nDEC__(ICRF)              0\nAPmag                    0\nS-brt                    0\nIllu%                    0\nhEcl-Lon                 0\nhEcl-Lat                 0\nr                        0\nrdot                     0\ndelta                    0\ndeldot                   0\nS-O-T                    0\n/r                       0\nS-T-O                    0\nGlxLon                   0\nGlxLat                   0\nL_Ap_SOL_Time        62761\nRA_3sigma            62761\nDEC_3sigma           62761\nSMAA_3sig            62761\nSMIA_3sig            62761\nTheta                62761\nArea_3sig            62761\nPOS_3sigma           62761\nRNG_3sigma           62761\nRNGRT_3sig           62761\nDOP_S_3sig           62761\nDOP_X_3sig           62761\nRT_delay_3sig        62761\nApp_Lon_Sun              0\nRA_(ICRF-a-app)          0\nDEC_(ICRF-a-app)         0\nSky_motion               0\nSky_mot_PA               0\nRelVel-ANG               0\nLun_Sky_Brt              0\nsky_SNR              62761\ndtype: int64"
     },
     "execution_count": 78,
     "metadata": {},
     "output_type": "execute_result"
    }
   ],
   "source": [
    "df.isna().sum()"
   ],
   "metadata": {
    "collapsed": false
   }
  },
  {
   "cell_type": "code",
   "execution_count": 79,
   "outputs": [
    {
     "data": {
      "text/plain": "(62761, 38)"
     },
     "execution_count": 79,
     "metadata": {},
     "output_type": "execute_result"
    }
   ],
   "source": [
    "df.shape"
   ],
   "metadata": {
    "collapsed": false
   }
  },
  {
   "cell_type": "code",
   "execution_count": 80,
   "outputs": [],
   "source": [
    "planets_copy = df.copy()\n",
    "planets_copy.dropna(inplace=True, axis=1)"
   ],
   "metadata": {
    "collapsed": false
   }
  },
  {
   "cell_type": "code",
   "execution_count": 81,
   "outputs": [
    {
     "data": {
      "text/plain": "(62761, 24)"
     },
     "execution_count": 81,
     "metadata": {},
     "output_type": "execute_result"
    }
   ],
   "source": [
    "planets_copy.shape"
   ],
   "metadata": {
    "collapsed": false
   }
  },
  {
   "cell_type": "code",
   "execution_count": 82,
   "outputs": [
    {
     "data": {
      "text/plain": "array(['n.a.n.a.\\r\\n'], dtype=object)"
     },
     "execution_count": 82,
     "metadata": {},
     "output_type": "execute_result"
    }
   ],
   "source": [
    "planets_copy.Lun_Sky_Brt.unique()"
   ],
   "metadata": {
    "collapsed": false
   }
  },
  {
   "cell_type": "code",
   "execution_count": 83,
   "outputs": [],
   "source": [
    "# drop Lun_Sky_Brt column\n",
    "planets_copy.drop('Lun_Sky_Brt', axis=1, inplace=True)"
   ],
   "metadata": {
    "collapsed": false
   }
  },
  {
   "cell_type": "code",
   "execution_count": 84,
   "outputs": [
    {
     "data": {
      "text/plain": "      Date__(UT)__HR:MN  R.A._(ICRF)  DEC__(ICRF)  APmag  S-brt     Illu%  \\\n0      2016-Jan-0100:00    134727.62     -92852.8  1.197  4.562  91.34442   \n1      2016-Jan-0101:00    134732.88     -92922.3  1.174  4.539  91.34207   \n2      2016-Jan-0102:00    134738.15     -92951.8  1.156  4.522  91.33973   \n3      2016-Jan-0103:00    134743.42     -93021.3  1.156  4.522  91.33738   \n4      2016-Jan-0104:00    134748.68     -93050.8  1.169  4.536  91.33503   \n...                 ...          ...          ...    ...    ...       ...   \n62756  2023-Feb-2720:00     50818.08     252009.8  0.376  4.586  89.97540   \n62757  2023-Feb-2721:00     50822.42     252013.3  0.362  4.571  89.97397   \n62758  2023-Feb-2722:00     50826.76     252016.9  0.342  4.551  89.97254   \n62759  2023-Feb-2723:00     50831.10     252020.4  0.329  4.536  89.97112   \n62760  2023-Feb-2800:00     50835.44     252024.0  0.321  4.528  89.96970   \n\n       hEcl-Lon  hEcl-Lat         r      rdot  ...  /r    S-T-O      GlxLon  \\\n0      174.1073    1.5217  1.657735 -0.697666  ...  /L  34.2177  325.196670   \n1      174.1257    1.5213  1.657718 -0.698355  ...  /L  34.2225  325.224501   \n2      174.1441    1.5210  1.657701 -0.699045  ...  /L  34.2273  325.252311   \n3      174.1624    1.5207  1.657684 -0.699734  ...  /L  34.2321  325.280100   \n4      174.1808    1.5203  1.657668 -0.700423  ...  /L  34.2369  325.307869   \n...         ...       ...       ...       ...  ...  ..      ...         ...   \n62756  115.2651    1.6853  1.625168  1.480717  ...  /T  36.9158  178.394642   \n62757  115.2842    1.6856  1.625203  1.480146  ...  /T  36.9185  178.403496   \n62758  115.3033    1.6858  1.625239  1.479574  ...  /T  36.9213  178.412353   \n62759  115.3224    1.6861  1.625275  1.479002  ...  /T  36.9240  178.421214   \n62760  115.3415    1.6863  1.625310  1.478430  ...  /T  36.9267  178.430079   \n\n          GlxLat  App_Lon_Sun  RA_(ICRF-a-app)  DEC_(ICRF-a-app)  Sky_motion  \\\n0      50.953393    89.065096        134727.18          -92850.9    1.388775   \n1      50.938281    89.083464        134732.45          -92920.4    1.388634   \n2      50.923165    89.101832        134737.72          -92950.0    1.388492   \n3      50.908043    89.120200        134742.98          -93019.5    1.388351   \n4      50.892917    89.138569        134748.25          -93049.0    1.388209   \n...          ...          ...              ...               ...         ...   \n62756  -8.902120    30.262223         50818.35          252011.0    0.981419   \n62757  -8.888298    30.281330         50822.69          252014.5    0.981914   \n62758  -8.874468    30.300437         50827.03          252018.1    0.982408   \n62759  -8.860631    30.319543         50831.37          252021.6    0.982901   \n62760  -8.846787    30.338648         50835.71          252025.1    0.983394   \n\n       Sky_mot_PA  RelVel-ANG  \n0      110.709640  -30.823870  \n1      110.705670  -30.835690  \n2      110.701700  -30.847510  \n3      110.697730  -30.859340  \n4      110.693750  -30.871170  \n...           ...         ...  \n62756   86.676005   52.023759  \n62757   86.682231   52.001076  \n62758   86.688463   51.978409  \n62759   86.694700   51.955757  \n62760   86.700942   51.933121  \n\n[62761 rows x 23 columns]",
      "text/html": "<div>\n<style scoped>\n    .dataframe tbody tr th:only-of-type {\n        vertical-align: middle;\n    }\n\n    .dataframe tbody tr th {\n        vertical-align: top;\n    }\n\n    .dataframe thead th {\n        text-align: right;\n    }\n</style>\n<table border=\"1\" class=\"dataframe\">\n  <thead>\n    <tr style=\"text-align: right;\">\n      <th></th>\n      <th>Date__(UT)__HR:MN</th>\n      <th>R.A._(ICRF)</th>\n      <th>DEC__(ICRF)</th>\n      <th>APmag</th>\n      <th>S-brt</th>\n      <th>Illu%</th>\n      <th>hEcl-Lon</th>\n      <th>hEcl-Lat</th>\n      <th>r</th>\n      <th>rdot</th>\n      <th>...</th>\n      <th>/r</th>\n      <th>S-T-O</th>\n      <th>GlxLon</th>\n      <th>GlxLat</th>\n      <th>App_Lon_Sun</th>\n      <th>RA_(ICRF-a-app)</th>\n      <th>DEC_(ICRF-a-app)</th>\n      <th>Sky_motion</th>\n      <th>Sky_mot_PA</th>\n      <th>RelVel-ANG</th>\n    </tr>\n  </thead>\n  <tbody>\n    <tr>\n      <th>0</th>\n      <td>2016-Jan-0100:00</td>\n      <td>134727.62</td>\n      <td>-92852.8</td>\n      <td>1.197</td>\n      <td>4.562</td>\n      <td>91.34442</td>\n      <td>174.1073</td>\n      <td>1.5217</td>\n      <td>1.657735</td>\n      <td>-0.697666</td>\n      <td>...</td>\n      <td>/L</td>\n      <td>34.2177</td>\n      <td>325.196670</td>\n      <td>50.953393</td>\n      <td>89.065096</td>\n      <td>134727.18</td>\n      <td>-92850.9</td>\n      <td>1.388775</td>\n      <td>110.709640</td>\n      <td>-30.823870</td>\n    </tr>\n    <tr>\n      <th>1</th>\n      <td>2016-Jan-0101:00</td>\n      <td>134732.88</td>\n      <td>-92922.3</td>\n      <td>1.174</td>\n      <td>4.539</td>\n      <td>91.34207</td>\n      <td>174.1257</td>\n      <td>1.5213</td>\n      <td>1.657718</td>\n      <td>-0.698355</td>\n      <td>...</td>\n      <td>/L</td>\n      <td>34.2225</td>\n      <td>325.224501</td>\n      <td>50.938281</td>\n      <td>89.083464</td>\n      <td>134732.45</td>\n      <td>-92920.4</td>\n      <td>1.388634</td>\n      <td>110.705670</td>\n      <td>-30.835690</td>\n    </tr>\n    <tr>\n      <th>2</th>\n      <td>2016-Jan-0102:00</td>\n      <td>134738.15</td>\n      <td>-92951.8</td>\n      <td>1.156</td>\n      <td>4.522</td>\n      <td>91.33973</td>\n      <td>174.1441</td>\n      <td>1.5210</td>\n      <td>1.657701</td>\n      <td>-0.699045</td>\n      <td>...</td>\n      <td>/L</td>\n      <td>34.2273</td>\n      <td>325.252311</td>\n      <td>50.923165</td>\n      <td>89.101832</td>\n      <td>134737.72</td>\n      <td>-92950.0</td>\n      <td>1.388492</td>\n      <td>110.701700</td>\n      <td>-30.847510</td>\n    </tr>\n    <tr>\n      <th>3</th>\n      <td>2016-Jan-0103:00</td>\n      <td>134743.42</td>\n      <td>-93021.3</td>\n      <td>1.156</td>\n      <td>4.522</td>\n      <td>91.33738</td>\n      <td>174.1624</td>\n      <td>1.5207</td>\n      <td>1.657684</td>\n      <td>-0.699734</td>\n      <td>...</td>\n      <td>/L</td>\n      <td>34.2321</td>\n      <td>325.280100</td>\n      <td>50.908043</td>\n      <td>89.120200</td>\n      <td>134742.98</td>\n      <td>-93019.5</td>\n      <td>1.388351</td>\n      <td>110.697730</td>\n      <td>-30.859340</td>\n    </tr>\n    <tr>\n      <th>4</th>\n      <td>2016-Jan-0104:00</td>\n      <td>134748.68</td>\n      <td>-93050.8</td>\n      <td>1.169</td>\n      <td>4.536</td>\n      <td>91.33503</td>\n      <td>174.1808</td>\n      <td>1.5203</td>\n      <td>1.657668</td>\n      <td>-0.700423</td>\n      <td>...</td>\n      <td>/L</td>\n      <td>34.2369</td>\n      <td>325.307869</td>\n      <td>50.892917</td>\n      <td>89.138569</td>\n      <td>134748.25</td>\n      <td>-93049.0</td>\n      <td>1.388209</td>\n      <td>110.693750</td>\n      <td>-30.871170</td>\n    </tr>\n    <tr>\n      <th>...</th>\n      <td>...</td>\n      <td>...</td>\n      <td>...</td>\n      <td>...</td>\n      <td>...</td>\n      <td>...</td>\n      <td>...</td>\n      <td>...</td>\n      <td>...</td>\n      <td>...</td>\n      <td>...</td>\n      <td>...</td>\n      <td>...</td>\n      <td>...</td>\n      <td>...</td>\n      <td>...</td>\n      <td>...</td>\n      <td>...</td>\n      <td>...</td>\n      <td>...</td>\n      <td>...</td>\n    </tr>\n    <tr>\n      <th>62756</th>\n      <td>2023-Feb-2720:00</td>\n      <td>50818.08</td>\n      <td>252009.8</td>\n      <td>0.376</td>\n      <td>4.586</td>\n      <td>89.97540</td>\n      <td>115.2651</td>\n      <td>1.6853</td>\n      <td>1.625168</td>\n      <td>1.480717</td>\n      <td>...</td>\n      <td>/T</td>\n      <td>36.9158</td>\n      <td>178.394642</td>\n      <td>-8.902120</td>\n      <td>30.262223</td>\n      <td>50818.35</td>\n      <td>252011.0</td>\n      <td>0.981419</td>\n      <td>86.676005</td>\n      <td>52.023759</td>\n    </tr>\n    <tr>\n      <th>62757</th>\n      <td>2023-Feb-2721:00</td>\n      <td>50822.42</td>\n      <td>252013.3</td>\n      <td>0.362</td>\n      <td>4.571</td>\n      <td>89.97397</td>\n      <td>115.2842</td>\n      <td>1.6856</td>\n      <td>1.625203</td>\n      <td>1.480146</td>\n      <td>...</td>\n      <td>/T</td>\n      <td>36.9185</td>\n      <td>178.403496</td>\n      <td>-8.888298</td>\n      <td>30.281330</td>\n      <td>50822.69</td>\n      <td>252014.5</td>\n      <td>0.981914</td>\n      <td>86.682231</td>\n      <td>52.001076</td>\n    </tr>\n    <tr>\n      <th>62758</th>\n      <td>2023-Feb-2722:00</td>\n      <td>50826.76</td>\n      <td>252016.9</td>\n      <td>0.342</td>\n      <td>4.551</td>\n      <td>89.97254</td>\n      <td>115.3033</td>\n      <td>1.6858</td>\n      <td>1.625239</td>\n      <td>1.479574</td>\n      <td>...</td>\n      <td>/T</td>\n      <td>36.9213</td>\n      <td>178.412353</td>\n      <td>-8.874468</td>\n      <td>30.300437</td>\n      <td>50827.03</td>\n      <td>252018.1</td>\n      <td>0.982408</td>\n      <td>86.688463</td>\n      <td>51.978409</td>\n    </tr>\n    <tr>\n      <th>62759</th>\n      <td>2023-Feb-2723:00</td>\n      <td>50831.10</td>\n      <td>252020.4</td>\n      <td>0.329</td>\n      <td>4.536</td>\n      <td>89.97112</td>\n      <td>115.3224</td>\n      <td>1.6861</td>\n      <td>1.625275</td>\n      <td>1.479002</td>\n      <td>...</td>\n      <td>/T</td>\n      <td>36.9240</td>\n      <td>178.421214</td>\n      <td>-8.860631</td>\n      <td>30.319543</td>\n      <td>50831.37</td>\n      <td>252021.6</td>\n      <td>0.982901</td>\n      <td>86.694700</td>\n      <td>51.955757</td>\n    </tr>\n    <tr>\n      <th>62760</th>\n      <td>2023-Feb-2800:00</td>\n      <td>50835.44</td>\n      <td>252024.0</td>\n      <td>0.321</td>\n      <td>4.528</td>\n      <td>89.96970</td>\n      <td>115.3415</td>\n      <td>1.6863</td>\n      <td>1.625310</td>\n      <td>1.478430</td>\n      <td>...</td>\n      <td>/T</td>\n      <td>36.9267</td>\n      <td>178.430079</td>\n      <td>-8.846787</td>\n      <td>30.338648</td>\n      <td>50835.71</td>\n      <td>252025.1</td>\n      <td>0.983394</td>\n      <td>86.700942</td>\n      <td>51.933121</td>\n    </tr>\n  </tbody>\n</table>\n<p>62761 rows × 23 columns</p>\n</div>"
     },
     "execution_count": 84,
     "metadata": {},
     "output_type": "execute_result"
    }
   ],
   "source": [
    "planets_copy"
   ],
   "metadata": {
    "collapsed": false
   }
  },
  {
   "cell_type": "code",
   "execution_count": 85,
   "outputs": [
    {
     "data": {
      "text/plain": "array(['/L', '/T'], dtype=object)"
     },
     "execution_count": 85,
     "metadata": {},
     "output_type": "execute_result"
    }
   ],
   "source": [
    "planets_copy['/r'].unique()"
   ],
   "metadata": {
    "collapsed": false
   }
  },
  {
   "cell_type": "code",
   "execution_count": 86,
   "outputs": [],
   "source": [
    "planets_copy['Date__(UT)__HR:MN'] = pd.to_datetime(planets_copy['Date__(UT)__HR:MN'], format='%Y-%b-%d%H:%M')"
   ],
   "metadata": {
    "collapsed": false
   }
  },
  {
   "cell_type": "code",
   "execution_count": 87,
   "outputs": [
    {
     "data": {
      "text/plain": "        Date__(UT)__HR:MN  R.A._(ICRF)  DEC__(ICRF)  APmag  S-brt     Illu%  \\\n0     2016-01-01 00:00:00    134727.62     -92852.8  1.197  4.562  91.34442   \n1     2016-01-01 01:00:00    134732.88     -92922.3  1.174  4.539  91.34207   \n2     2016-01-01 02:00:00    134738.15     -92951.8  1.156  4.522  91.33973   \n3     2016-01-01 03:00:00    134743.42     -93021.3  1.156  4.522  91.33738   \n4     2016-01-01 04:00:00    134748.68     -93050.8  1.169  4.536  91.33503   \n...                   ...          ...          ...    ...    ...       ...   \n62756 2023-02-27 20:00:00     50818.08     252009.8  0.376  4.586  89.97540   \n62757 2023-02-27 21:00:00     50822.42     252013.3  0.362  4.571  89.97397   \n62758 2023-02-27 22:00:00     50826.76     252016.9  0.342  4.551  89.97254   \n62759 2023-02-27 23:00:00     50831.10     252020.4  0.329  4.536  89.97112   \n62760 2023-02-28 00:00:00     50835.44     252024.0  0.321  4.528  89.96970   \n\n       hEcl-Lon  hEcl-Lat         r      rdot  ...  /r    S-T-O      GlxLon  \\\n0      174.1073    1.5217  1.657735 -0.697666  ...  /L  34.2177  325.196670   \n1      174.1257    1.5213  1.657718 -0.698355  ...  /L  34.2225  325.224501   \n2      174.1441    1.5210  1.657701 -0.699045  ...  /L  34.2273  325.252311   \n3      174.1624    1.5207  1.657684 -0.699734  ...  /L  34.2321  325.280100   \n4      174.1808    1.5203  1.657668 -0.700423  ...  /L  34.2369  325.307869   \n...         ...       ...       ...       ...  ...  ..      ...         ...   \n62756  115.2651    1.6853  1.625168  1.480717  ...  /T  36.9158  178.394642   \n62757  115.2842    1.6856  1.625203  1.480146  ...  /T  36.9185  178.403496   \n62758  115.3033    1.6858  1.625239  1.479574  ...  /T  36.9213  178.412353   \n62759  115.3224    1.6861  1.625275  1.479002  ...  /T  36.9240  178.421214   \n62760  115.3415    1.6863  1.625310  1.478430  ...  /T  36.9267  178.430079   \n\n          GlxLat  App_Lon_Sun  RA_(ICRF-a-app)  DEC_(ICRF-a-app)  Sky_motion  \\\n0      50.953393    89.065096        134727.18          -92850.9    1.388775   \n1      50.938281    89.083464        134732.45          -92920.4    1.388634   \n2      50.923165    89.101832        134737.72          -92950.0    1.388492   \n3      50.908043    89.120200        134742.98          -93019.5    1.388351   \n4      50.892917    89.138569        134748.25          -93049.0    1.388209   \n...          ...          ...              ...               ...         ...   \n62756  -8.902120    30.262223         50818.35          252011.0    0.981419   \n62757  -8.888298    30.281330         50822.69          252014.5    0.981914   \n62758  -8.874468    30.300437         50827.03          252018.1    0.982408   \n62759  -8.860631    30.319543         50831.37          252021.6    0.982901   \n62760  -8.846787    30.338648         50835.71          252025.1    0.983394   \n\n       Sky_mot_PA  RelVel-ANG  \n0      110.709640  -30.823870  \n1      110.705670  -30.835690  \n2      110.701700  -30.847510  \n3      110.697730  -30.859340  \n4      110.693750  -30.871170  \n...           ...         ...  \n62756   86.676005   52.023759  \n62757   86.682231   52.001076  \n62758   86.688463   51.978409  \n62759   86.694700   51.955757  \n62760   86.700942   51.933121  \n\n[62761 rows x 23 columns]",
      "text/html": "<div>\n<style scoped>\n    .dataframe tbody tr th:only-of-type {\n        vertical-align: middle;\n    }\n\n    .dataframe tbody tr th {\n        vertical-align: top;\n    }\n\n    .dataframe thead th {\n        text-align: right;\n    }\n</style>\n<table border=\"1\" class=\"dataframe\">\n  <thead>\n    <tr style=\"text-align: right;\">\n      <th></th>\n      <th>Date__(UT)__HR:MN</th>\n      <th>R.A._(ICRF)</th>\n      <th>DEC__(ICRF)</th>\n      <th>APmag</th>\n      <th>S-brt</th>\n      <th>Illu%</th>\n      <th>hEcl-Lon</th>\n      <th>hEcl-Lat</th>\n      <th>r</th>\n      <th>rdot</th>\n      <th>...</th>\n      <th>/r</th>\n      <th>S-T-O</th>\n      <th>GlxLon</th>\n      <th>GlxLat</th>\n      <th>App_Lon_Sun</th>\n      <th>RA_(ICRF-a-app)</th>\n      <th>DEC_(ICRF-a-app)</th>\n      <th>Sky_motion</th>\n      <th>Sky_mot_PA</th>\n      <th>RelVel-ANG</th>\n    </tr>\n  </thead>\n  <tbody>\n    <tr>\n      <th>0</th>\n      <td>2016-01-01 00:00:00</td>\n      <td>134727.62</td>\n      <td>-92852.8</td>\n      <td>1.197</td>\n      <td>4.562</td>\n      <td>91.34442</td>\n      <td>174.1073</td>\n      <td>1.5217</td>\n      <td>1.657735</td>\n      <td>-0.697666</td>\n      <td>...</td>\n      <td>/L</td>\n      <td>34.2177</td>\n      <td>325.196670</td>\n      <td>50.953393</td>\n      <td>89.065096</td>\n      <td>134727.18</td>\n      <td>-92850.9</td>\n      <td>1.388775</td>\n      <td>110.709640</td>\n      <td>-30.823870</td>\n    </tr>\n    <tr>\n      <th>1</th>\n      <td>2016-01-01 01:00:00</td>\n      <td>134732.88</td>\n      <td>-92922.3</td>\n      <td>1.174</td>\n      <td>4.539</td>\n      <td>91.34207</td>\n      <td>174.1257</td>\n      <td>1.5213</td>\n      <td>1.657718</td>\n      <td>-0.698355</td>\n      <td>...</td>\n      <td>/L</td>\n      <td>34.2225</td>\n      <td>325.224501</td>\n      <td>50.938281</td>\n      <td>89.083464</td>\n      <td>134732.45</td>\n      <td>-92920.4</td>\n      <td>1.388634</td>\n      <td>110.705670</td>\n      <td>-30.835690</td>\n    </tr>\n    <tr>\n      <th>2</th>\n      <td>2016-01-01 02:00:00</td>\n      <td>134738.15</td>\n      <td>-92951.8</td>\n      <td>1.156</td>\n      <td>4.522</td>\n      <td>91.33973</td>\n      <td>174.1441</td>\n      <td>1.5210</td>\n      <td>1.657701</td>\n      <td>-0.699045</td>\n      <td>...</td>\n      <td>/L</td>\n      <td>34.2273</td>\n      <td>325.252311</td>\n      <td>50.923165</td>\n      <td>89.101832</td>\n      <td>134737.72</td>\n      <td>-92950.0</td>\n      <td>1.388492</td>\n      <td>110.701700</td>\n      <td>-30.847510</td>\n    </tr>\n    <tr>\n      <th>3</th>\n      <td>2016-01-01 03:00:00</td>\n      <td>134743.42</td>\n      <td>-93021.3</td>\n      <td>1.156</td>\n      <td>4.522</td>\n      <td>91.33738</td>\n      <td>174.1624</td>\n      <td>1.5207</td>\n      <td>1.657684</td>\n      <td>-0.699734</td>\n      <td>...</td>\n      <td>/L</td>\n      <td>34.2321</td>\n      <td>325.280100</td>\n      <td>50.908043</td>\n      <td>89.120200</td>\n      <td>134742.98</td>\n      <td>-93019.5</td>\n      <td>1.388351</td>\n      <td>110.697730</td>\n      <td>-30.859340</td>\n    </tr>\n    <tr>\n      <th>4</th>\n      <td>2016-01-01 04:00:00</td>\n      <td>134748.68</td>\n      <td>-93050.8</td>\n      <td>1.169</td>\n      <td>4.536</td>\n      <td>91.33503</td>\n      <td>174.1808</td>\n      <td>1.5203</td>\n      <td>1.657668</td>\n      <td>-0.700423</td>\n      <td>...</td>\n      <td>/L</td>\n      <td>34.2369</td>\n      <td>325.307869</td>\n      <td>50.892917</td>\n      <td>89.138569</td>\n      <td>134748.25</td>\n      <td>-93049.0</td>\n      <td>1.388209</td>\n      <td>110.693750</td>\n      <td>-30.871170</td>\n    </tr>\n    <tr>\n      <th>...</th>\n      <td>...</td>\n      <td>...</td>\n      <td>...</td>\n      <td>...</td>\n      <td>...</td>\n      <td>...</td>\n      <td>...</td>\n      <td>...</td>\n      <td>...</td>\n      <td>...</td>\n      <td>...</td>\n      <td>...</td>\n      <td>...</td>\n      <td>...</td>\n      <td>...</td>\n      <td>...</td>\n      <td>...</td>\n      <td>...</td>\n      <td>...</td>\n      <td>...</td>\n      <td>...</td>\n    </tr>\n    <tr>\n      <th>62756</th>\n      <td>2023-02-27 20:00:00</td>\n      <td>50818.08</td>\n      <td>252009.8</td>\n      <td>0.376</td>\n      <td>4.586</td>\n      <td>89.97540</td>\n      <td>115.2651</td>\n      <td>1.6853</td>\n      <td>1.625168</td>\n      <td>1.480717</td>\n      <td>...</td>\n      <td>/T</td>\n      <td>36.9158</td>\n      <td>178.394642</td>\n      <td>-8.902120</td>\n      <td>30.262223</td>\n      <td>50818.35</td>\n      <td>252011.0</td>\n      <td>0.981419</td>\n      <td>86.676005</td>\n      <td>52.023759</td>\n    </tr>\n    <tr>\n      <th>62757</th>\n      <td>2023-02-27 21:00:00</td>\n      <td>50822.42</td>\n      <td>252013.3</td>\n      <td>0.362</td>\n      <td>4.571</td>\n      <td>89.97397</td>\n      <td>115.2842</td>\n      <td>1.6856</td>\n      <td>1.625203</td>\n      <td>1.480146</td>\n      <td>...</td>\n      <td>/T</td>\n      <td>36.9185</td>\n      <td>178.403496</td>\n      <td>-8.888298</td>\n      <td>30.281330</td>\n      <td>50822.69</td>\n      <td>252014.5</td>\n      <td>0.981914</td>\n      <td>86.682231</td>\n      <td>52.001076</td>\n    </tr>\n    <tr>\n      <th>62758</th>\n      <td>2023-02-27 22:00:00</td>\n      <td>50826.76</td>\n      <td>252016.9</td>\n      <td>0.342</td>\n      <td>4.551</td>\n      <td>89.97254</td>\n      <td>115.3033</td>\n      <td>1.6858</td>\n      <td>1.625239</td>\n      <td>1.479574</td>\n      <td>...</td>\n      <td>/T</td>\n      <td>36.9213</td>\n      <td>178.412353</td>\n      <td>-8.874468</td>\n      <td>30.300437</td>\n      <td>50827.03</td>\n      <td>252018.1</td>\n      <td>0.982408</td>\n      <td>86.688463</td>\n      <td>51.978409</td>\n    </tr>\n    <tr>\n      <th>62759</th>\n      <td>2023-02-27 23:00:00</td>\n      <td>50831.10</td>\n      <td>252020.4</td>\n      <td>0.329</td>\n      <td>4.536</td>\n      <td>89.97112</td>\n      <td>115.3224</td>\n      <td>1.6861</td>\n      <td>1.625275</td>\n      <td>1.479002</td>\n      <td>...</td>\n      <td>/T</td>\n      <td>36.9240</td>\n      <td>178.421214</td>\n      <td>-8.860631</td>\n      <td>30.319543</td>\n      <td>50831.37</td>\n      <td>252021.6</td>\n      <td>0.982901</td>\n      <td>86.694700</td>\n      <td>51.955757</td>\n    </tr>\n    <tr>\n      <th>62760</th>\n      <td>2023-02-28 00:00:00</td>\n      <td>50835.44</td>\n      <td>252024.0</td>\n      <td>0.321</td>\n      <td>4.528</td>\n      <td>89.96970</td>\n      <td>115.3415</td>\n      <td>1.6863</td>\n      <td>1.625310</td>\n      <td>1.478430</td>\n      <td>...</td>\n      <td>/T</td>\n      <td>36.9267</td>\n      <td>178.430079</td>\n      <td>-8.846787</td>\n      <td>30.338648</td>\n      <td>50835.71</td>\n      <td>252025.1</td>\n      <td>0.983394</td>\n      <td>86.700942</td>\n      <td>51.933121</td>\n    </tr>\n  </tbody>\n</table>\n<p>62761 rows × 23 columns</p>\n</div>"
     },
     "execution_count": 87,
     "metadata": {},
     "output_type": "execute_result"
    }
   ],
   "source": [
    "planets_copy"
   ],
   "metadata": {
    "collapsed": false
   }
  },
  {
   "cell_type": "code",
   "execution_count": 103,
   "outputs": [
    {
     "name": "stderr",
     "output_type": "stream",
     "text": [
      "C:\\Users\\alexg\\AppData\\Local\\Temp\\ipykernel_8312\\2951888417.py:1: SettingWithCopyWarning: \n",
      "A value is trying to be set on a copy of a slice from a DataFrame.\n",
      "Try using .loc[row_indexer,col_indexer] = value instead\n",
      "\n",
      "See the caveats in the documentation: https://pandas.pydata.org/pandas-docs/stable/user_guide/indexing.html#returning-a-view-versus-a-copy\n",
      "  planets_copy['year'] = planets_copy['Date__(UT)__HR:MN'].dt.year\n",
      "C:\\Users\\alexg\\AppData\\Local\\Temp\\ipykernel_8312\\2951888417.py:2: SettingWithCopyWarning: \n",
      "A value is trying to be set on a copy of a slice from a DataFrame.\n",
      "Try using .loc[row_indexer,col_indexer] = value instead\n",
      "\n",
      "See the caveats in the documentation: https://pandas.pydata.org/pandas-docs/stable/user_guide/indexing.html#returning-a-view-versus-a-copy\n",
      "  planets_copy['month'] = planets_copy['Date__(UT)__HR:MN'].dt.month\n",
      "C:\\Users\\alexg\\AppData\\Local\\Temp\\ipykernel_8312\\2951888417.py:3: SettingWithCopyWarning: \n",
      "A value is trying to be set on a copy of a slice from a DataFrame.\n",
      "Try using .loc[row_indexer,col_indexer] = value instead\n",
      "\n",
      "See the caveats in the documentation: https://pandas.pydata.org/pandas-docs/stable/user_guide/indexing.html#returning-a-view-versus-a-copy\n",
      "  planets_copy['day'] = planets_copy['Date__(UT)__HR:MN'].dt.day\n",
      "C:\\Users\\alexg\\AppData\\Local\\Temp\\ipykernel_8312\\2951888417.py:4: SettingWithCopyWarning: \n",
      "A value is trying to be set on a copy of a slice from a DataFrame.\n",
      "Try using .loc[row_indexer,col_indexer] = value instead\n",
      "\n",
      "See the caveats in the documentation: https://pandas.pydata.org/pandas-docs/stable/user_guide/indexing.html#returning-a-view-versus-a-copy\n",
      "  planets_copy['time'] = planets_copy['Date__(UT)__HR:MN'].dt.hour + planets_copy['Date__(UT)__HR:MN'].dt.minute / 60\n",
      "C:\\Users\\alexg\\AppData\\Local\\Temp\\ipykernel_8312\\2951888417.py:5: SettingWithCopyWarning: \n",
      "A value is trying to be set on a copy of a slice from a DataFrame.\n",
      "Try using .loc[row_indexer,col_indexer] = value instead\n",
      "\n",
      "See the caveats in the documentation: https://pandas.pydata.org/pandas-docs/stable/user_guide/indexing.html#returning-a-view-versus-a-copy\n",
      "  planets_copy['date'] = planets_copy['Date__(UT)__HR:MN'].dt.date\n"
     ]
    }
   ],
   "source": [
    "planets_copy['year'] = planets_copy['Date__(UT)__HR:MN'].dt.year\n",
    "planets_copy['month'] = planets_copy['Date__(UT)__HR:MN'].dt.month\n",
    "planets_copy['day'] = planets_copy['Date__(UT)__HR:MN'].dt.day\n",
    "planets_copy['time'] = planets_copy['Date__(UT)__HR:MN'].dt.hour + planets_copy['Date__(UT)__HR:MN'].dt.minute / 60\n",
    "planets_copy['date'] = planets_copy['Date__(UT)__HR:MN'].dt.date"
   ],
   "metadata": {
    "collapsed": false
   }
  },
  {
   "cell_type": "code",
   "execution_count": 104,
   "outputs": [
    {
     "ename": "ValueError",
     "evalue": "non convertible value 13:26:55.010000 with the unit 's'",
     "output_type": "error",
     "traceback": [
      "\u001B[1;31m---------------------------------------------------------------------------\u001B[0m",
      "\u001B[1;31mValueError\u001B[0m                                Traceback (most recent call last)",
      "File \u001B[1;32m~\\anaconda3\\envs\\finance-team\\lib\\site-packages\\pandas\\_libs\\tslib.pyx:361\u001B[0m, in \u001B[0;36mpandas._libs.tslib.array_with_unit_to_datetime\u001B[1;34m()\u001B[0m\n",
      "\u001B[1;31mValueError\u001B[0m: could not convert string to float: '13:26:55.010000'",
      "\nDuring handling of the above exception, another exception occurred:\n",
      "\u001B[1;31mValueError\u001B[0m                                Traceback (most recent call last)",
      "Cell \u001B[1;32mIn[104], line 2\u001B[0m\n\u001B[0;32m      1\u001B[0m planets_copy\u001B[38;5;241m.\u001B[39mhead()\n\u001B[1;32m----> 2\u001B[0m planets_copy[\u001B[38;5;124m'\u001B[39m\u001B[38;5;124mR.A._(ICRF)\u001B[39m\u001B[38;5;124m'\u001B[39m] \u001B[38;5;241m=\u001B[39m \u001B[43mpd\u001B[49m\u001B[38;5;241;43m.\u001B[39;49m\u001B[43mto_datetime\u001B[49m\u001B[43m(\u001B[49m\u001B[43mplanets_copy\u001B[49m\u001B[43m[\u001B[49m\u001B[38;5;124;43m'\u001B[39;49m\u001B[38;5;124;43mR.A._(ICRF)\u001B[39;49m\u001B[38;5;124;43m'\u001B[39;49m\u001B[43m]\u001B[49m\u001B[43m,\u001B[49m\u001B[43m \u001B[49m\u001B[43munit\u001B[49m\u001B[38;5;241;43m=\u001B[39;49m\u001B[38;5;124;43m'\u001B[39;49m\u001B[38;5;124;43ms\u001B[39;49m\u001B[38;5;124;43m'\u001B[39;49m\u001B[43m)\u001B[49m\n\u001B[0;32m      3\u001B[0m planets_copy[\u001B[38;5;124m'\u001B[39m\u001B[38;5;124mR.A._(ICRF)\u001B[39m\u001B[38;5;124m'\u001B[39m] \u001B[38;5;241m=\u001B[39m planets_copy[\u001B[38;5;124m'\u001B[39m\u001B[38;5;124mR.A._(ICRF)\u001B[39m\u001B[38;5;124m'\u001B[39m]\u001B[38;5;241m.\u001B[39mdt\u001B[38;5;241m.\u001B[39mstrftime(\u001B[38;5;124m'\u001B[39m\u001B[38;5;124m%\u001B[39m\u001B[38;5;124mH:\u001B[39m\u001B[38;5;124m%\u001B[39m\u001B[38;5;124mM:\u001B[39m\u001B[38;5;124m%\u001B[39m\u001B[38;5;124mS.\u001B[39m\u001B[38;5;132;01m%f\u001B[39;00m\u001B[38;5;124m'\u001B[39m)\n",
      "File \u001B[1;32m~\\anaconda3\\envs\\finance-team\\lib\\site-packages\\pandas\\core\\tools\\datetimes.py:1068\u001B[0m, in \u001B[0;36mto_datetime\u001B[1;34m(arg, errors, dayfirst, yearfirst, utc, format, exact, unit, infer_datetime_format, origin, cache)\u001B[0m\n\u001B[0;32m   1066\u001B[0m         result \u001B[38;5;241m=\u001B[39m arg\u001B[38;5;241m.\u001B[39mmap(cache_array)\n\u001B[0;32m   1067\u001B[0m     \u001B[38;5;28;01melse\u001B[39;00m:\n\u001B[1;32m-> 1068\u001B[0m         values \u001B[38;5;241m=\u001B[39m \u001B[43mconvert_listlike\u001B[49m\u001B[43m(\u001B[49m\u001B[43marg\u001B[49m\u001B[38;5;241;43m.\u001B[39;49m\u001B[43m_values\u001B[49m\u001B[43m,\u001B[49m\u001B[43m \u001B[49m\u001B[38;5;28;43mformat\u001B[39;49m\u001B[43m)\u001B[49m\n\u001B[0;32m   1069\u001B[0m         result \u001B[38;5;241m=\u001B[39m arg\u001B[38;5;241m.\u001B[39m_constructor(values, index\u001B[38;5;241m=\u001B[39marg\u001B[38;5;241m.\u001B[39mindex, name\u001B[38;5;241m=\u001B[39marg\u001B[38;5;241m.\u001B[39mname)\n\u001B[0;32m   1070\u001B[0m \u001B[38;5;28;01melif\u001B[39;00m \u001B[38;5;28misinstance\u001B[39m(arg, (ABCDataFrame, abc\u001B[38;5;241m.\u001B[39mMutableMapping)):\n",
      "File \u001B[1;32m~\\anaconda3\\envs\\finance-team\\lib\\site-packages\\pandas\\core\\tools\\datetimes.py:393\u001B[0m, in \u001B[0;36m_convert_listlike_datetimes\u001B[1;34m(arg, format, name, tz, unit, errors, infer_datetime_format, dayfirst, yearfirst, exact)\u001B[0m\n\u001B[0;32m    391\u001B[0m     \u001B[38;5;28;01mif\u001B[39;00m \u001B[38;5;28mformat\u001B[39m \u001B[38;5;129;01mis\u001B[39;00m \u001B[38;5;129;01mnot\u001B[39;00m \u001B[38;5;28;01mNone\u001B[39;00m:\n\u001B[0;32m    392\u001B[0m         \u001B[38;5;28;01mraise\u001B[39;00m \u001B[38;5;167;01mValueError\u001B[39;00m(\u001B[38;5;124m\"\u001B[39m\u001B[38;5;124mcannot specify both format and unit\u001B[39m\u001B[38;5;124m\"\u001B[39m)\n\u001B[1;32m--> 393\u001B[0m     \u001B[38;5;28;01mreturn\u001B[39;00m \u001B[43m_to_datetime_with_unit\u001B[49m\u001B[43m(\u001B[49m\u001B[43marg\u001B[49m\u001B[43m,\u001B[49m\u001B[43m \u001B[49m\u001B[43munit\u001B[49m\u001B[43m,\u001B[49m\u001B[43m \u001B[49m\u001B[43mname\u001B[49m\u001B[43m,\u001B[49m\u001B[43m \u001B[49m\u001B[43mtz\u001B[49m\u001B[43m,\u001B[49m\u001B[43m \u001B[49m\u001B[43merrors\u001B[49m\u001B[43m)\u001B[49m\n\u001B[0;32m    394\u001B[0m \u001B[38;5;28;01melif\u001B[39;00m \u001B[38;5;28mgetattr\u001B[39m(arg, \u001B[38;5;124m\"\u001B[39m\u001B[38;5;124mndim\u001B[39m\u001B[38;5;124m\"\u001B[39m, \u001B[38;5;241m1\u001B[39m) \u001B[38;5;241m>\u001B[39m \u001B[38;5;241m1\u001B[39m:\n\u001B[0;32m    395\u001B[0m     \u001B[38;5;28;01mraise\u001B[39;00m \u001B[38;5;167;01mTypeError\u001B[39;00m(\n\u001B[0;32m    396\u001B[0m         \u001B[38;5;124m\"\u001B[39m\u001B[38;5;124marg must be a string, datetime, list, tuple, 1-d array, or Series\u001B[39m\u001B[38;5;124m\"\u001B[39m\n\u001B[0;32m    397\u001B[0m     )\n",
      "File \u001B[1;32m~\\anaconda3\\envs\\finance-team\\lib\\site-packages\\pandas\\core\\tools\\datetimes.py:557\u001B[0m, in \u001B[0;36m_to_datetime_with_unit\u001B[1;34m(arg, unit, name, tz, errors)\u001B[0m\n\u001B[0;32m    555\u001B[0m \u001B[38;5;28;01melse\u001B[39;00m:\n\u001B[0;32m    556\u001B[0m     arg \u001B[38;5;241m=\u001B[39m np\u001B[38;5;241m.\u001B[39masarray(arg)\n\u001B[1;32m--> 557\u001B[0m     arr, tz_parsed \u001B[38;5;241m=\u001B[39m \u001B[43mtslib\u001B[49m\u001B[38;5;241;43m.\u001B[39;49m\u001B[43marray_with_unit_to_datetime\u001B[49m\u001B[43m(\u001B[49m\u001B[43marg\u001B[49m\u001B[43m,\u001B[49m\u001B[43m \u001B[49m\u001B[43munit\u001B[49m\u001B[43m,\u001B[49m\u001B[43m \u001B[49m\u001B[43merrors\u001B[49m\u001B[38;5;241;43m=\u001B[39;49m\u001B[43merrors\u001B[49m\u001B[43m)\u001B[49m\n\u001B[0;32m    559\u001B[0m \u001B[38;5;28;01mif\u001B[39;00m errors \u001B[38;5;241m==\u001B[39m \u001B[38;5;124m\"\u001B[39m\u001B[38;5;124mignore\u001B[39m\u001B[38;5;124m\"\u001B[39m:\n\u001B[0;32m    560\u001B[0m     \u001B[38;5;66;03m# Index constructor _may_ infer to DatetimeIndex\u001B[39;00m\n\u001B[0;32m    561\u001B[0m     result \u001B[38;5;241m=\u001B[39m Index\u001B[38;5;241m.\u001B[39m_with_infer(arr, name\u001B[38;5;241m=\u001B[39mname)\n",
      "File \u001B[1;32m~\\anaconda3\\envs\\finance-team\\lib\\site-packages\\pandas\\_libs\\tslib.pyx:364\u001B[0m, in \u001B[0;36mpandas._libs.tslib.array_with_unit_to_datetime\u001B[1;34m()\u001B[0m\n",
      "\u001B[1;31mValueError\u001B[0m: non convertible value 13:26:55.010000 with the unit 's'"
     ]
    }
   ],
   "source": [
    "planets_copy.head()\n",
    "planets_copy['R.A._(ICRF)'] = pd.to_datetime(planets_copy['R.A._(ICRF)'], unit='s')\n",
    "planets_copy['R.A._(ICRF)'] = planets_copy['R.A._(ICRF)'].dt.strftime('%H:%M:%S.%f')"
   ],
   "metadata": {
    "collapsed": false
   }
  },
  {
   "cell_type": "code",
   "execution_count": 107,
   "outputs": [
    {
     "data": {
      "text/plain": "        Date__(UT)__HR:MN      R.A._(ICRF)  \\\n9     2016-01-01 09:00:00  13:26:55.010000   \n10    2016-01-01 10:00:00  13:27:00.269999   \n11    2016-01-01 11:00:00  13:27:05.540000   \n12    2016-01-01 12:00:00  13:27:10.799999   \n13    2016-01-01 13:00:00  13:27:16.060000   \n...                   ...              ...   \n62749 2023-02-27 13:00:00  14:05:47.790000   \n62750 2023-02-27 14:00:00  14:05:52.110000   \n62751 2023-02-27 15:00:00  14:05:56.430000   \n62752 2023-02-27 16:00:00  14:06:40.760000   \n62753 2023-02-27 17:00:00  14:06:45.090000   \n\n                                DEC__(ICRF)  APmag  S-brt     Illu%  hEcl-Lon  \\\n9      -93319.0:48.0:1.0477378964424133e-08  1.203  4.573  91.32333  174.2727   \n10          -93348.0:23.0:59.99999997904524  1.214  4.584  91.32099  174.2910   \n11          -93418.0:53.0:59.99999997904524  1.228  4.598  91.31865  174.3094   \n12                        -93447.0:30.0:0.0  1.235  4.606  91.31631  174.3278   \n13      -93516.0:6.0:2.0954757928848267e-08  1.258  4.630  91.31398  174.3462   \n...                                     ...    ...    ...       ...       ...   \n62749      251944.0:47.0:59.999999958090484  0.399  4.614  89.98556  115.1313   \n62750       251948.0:23.0:59.99999997904524  0.395  4.610  89.98409  115.1504   \n62751       251951.0:53.0:59.99999997904524  0.406  4.620  89.98263  115.1695   \n62752                     251955.0:30.0:0.0  0.412  4.625  89.98118  115.1886   \n62753   251959.0:6.0:2.0954757928848267e-08  0.416  4.628  89.97973  115.2077   \n\n       hEcl-Lat         r      rdot  ...  RelVel-ANG  year  month day  time  \\\n9        1.5186  1.657583 -0.703869  ...  -30.930410  2016      1   1   9.0   \n10       1.5183  1.657566 -0.704558  ...  -30.942270  2016      1   1  10.0   \n11       1.5180  1.657549 -0.705247  ...  -30.954130  2016      1   1  11.0   \n12       1.5176  1.657532 -0.705936  ...  -30.966000  2016      1   1  12.0   \n13       1.5173  1.657515 -0.706624  ...  -30.977880  2016      1   1  13.0   \n...         ...       ...       ...  ...         ...   ...    ...  ..   ...   \n62749    1.6835  1.624918  1.484715  ...   52.182980  2023      2  27  13.0   \n62750    1.6838  1.624954  1.484144  ...   52.160187  2023      2  27  14.0   \n62751    1.6840  1.624989  1.483573  ...   52.137410  2023      2  27  15.0   \n62752    1.6843  1.625025  1.483002  ...   52.114648  2023      2  27  16.0   \n62753    1.6846  1.625061  1.482431  ...   52.091902  2023      2  27  17.0   \n\n        degrees  minutes       seconds  weekday        date  \n9      -93319.0     48.0  1.047738e-08        4  2016-01-01  \n10     -93348.0     23.0  6.000000e+01        4  2016-01-01  \n11     -93418.0     53.0  6.000000e+01        4  2016-01-01  \n12     -93447.0     30.0  0.000000e+00        4  2016-01-01  \n13     -93516.0      6.0  2.095476e-08        4  2016-01-01  \n...         ...      ...           ...      ...         ...  \n62749  251944.0     47.0  6.000000e+01        0  2023-02-27  \n62750  251948.0     23.0  6.000000e+01        0  2023-02-27  \n62751  251951.0     53.0  6.000000e+01        0  2023-02-27  \n62752  251955.0     30.0  0.000000e+00        0  2023-02-27  \n62753  251959.0      6.0  2.095476e-08        0  2023-02-27  \n\n[16803 rows x 32 columns]",
      "text/html": "<div>\n<style scoped>\n    .dataframe tbody tr th:only-of-type {\n        vertical-align: middle;\n    }\n\n    .dataframe tbody tr th {\n        vertical-align: top;\n    }\n\n    .dataframe thead th {\n        text-align: right;\n    }\n</style>\n<table border=\"1\" class=\"dataframe\">\n  <thead>\n    <tr style=\"text-align: right;\">\n      <th></th>\n      <th>Date__(UT)__HR:MN</th>\n      <th>R.A._(ICRF)</th>\n      <th>DEC__(ICRF)</th>\n      <th>APmag</th>\n      <th>S-brt</th>\n      <th>Illu%</th>\n      <th>hEcl-Lon</th>\n      <th>hEcl-Lat</th>\n      <th>r</th>\n      <th>rdot</th>\n      <th>...</th>\n      <th>RelVel-ANG</th>\n      <th>year</th>\n      <th>month</th>\n      <th>day</th>\n      <th>time</th>\n      <th>degrees</th>\n      <th>minutes</th>\n      <th>seconds</th>\n      <th>weekday</th>\n      <th>date</th>\n    </tr>\n  </thead>\n  <tbody>\n    <tr>\n      <th>9</th>\n      <td>2016-01-01 09:00:00</td>\n      <td>13:26:55.010000</td>\n      <td>-93319.0:48.0:1.0477378964424133e-08</td>\n      <td>1.203</td>\n      <td>4.573</td>\n      <td>91.32333</td>\n      <td>174.2727</td>\n      <td>1.5186</td>\n      <td>1.657583</td>\n      <td>-0.703869</td>\n      <td>...</td>\n      <td>-30.930410</td>\n      <td>2016</td>\n      <td>1</td>\n      <td>1</td>\n      <td>9.0</td>\n      <td>-93319.0</td>\n      <td>48.0</td>\n      <td>1.047738e-08</td>\n      <td>4</td>\n      <td>2016-01-01</td>\n    </tr>\n    <tr>\n      <th>10</th>\n      <td>2016-01-01 10:00:00</td>\n      <td>13:27:00.269999</td>\n      <td>-93348.0:23.0:59.99999997904524</td>\n      <td>1.214</td>\n      <td>4.584</td>\n      <td>91.32099</td>\n      <td>174.2910</td>\n      <td>1.5183</td>\n      <td>1.657566</td>\n      <td>-0.704558</td>\n      <td>...</td>\n      <td>-30.942270</td>\n      <td>2016</td>\n      <td>1</td>\n      <td>1</td>\n      <td>10.0</td>\n      <td>-93348.0</td>\n      <td>23.0</td>\n      <td>6.000000e+01</td>\n      <td>4</td>\n      <td>2016-01-01</td>\n    </tr>\n    <tr>\n      <th>11</th>\n      <td>2016-01-01 11:00:00</td>\n      <td>13:27:05.540000</td>\n      <td>-93418.0:53.0:59.99999997904524</td>\n      <td>1.228</td>\n      <td>4.598</td>\n      <td>91.31865</td>\n      <td>174.3094</td>\n      <td>1.5180</td>\n      <td>1.657549</td>\n      <td>-0.705247</td>\n      <td>...</td>\n      <td>-30.954130</td>\n      <td>2016</td>\n      <td>1</td>\n      <td>1</td>\n      <td>11.0</td>\n      <td>-93418.0</td>\n      <td>53.0</td>\n      <td>6.000000e+01</td>\n      <td>4</td>\n      <td>2016-01-01</td>\n    </tr>\n    <tr>\n      <th>12</th>\n      <td>2016-01-01 12:00:00</td>\n      <td>13:27:10.799999</td>\n      <td>-93447.0:30.0:0.0</td>\n      <td>1.235</td>\n      <td>4.606</td>\n      <td>91.31631</td>\n      <td>174.3278</td>\n      <td>1.5176</td>\n      <td>1.657532</td>\n      <td>-0.705936</td>\n      <td>...</td>\n      <td>-30.966000</td>\n      <td>2016</td>\n      <td>1</td>\n      <td>1</td>\n      <td>12.0</td>\n      <td>-93447.0</td>\n      <td>30.0</td>\n      <td>0.000000e+00</td>\n      <td>4</td>\n      <td>2016-01-01</td>\n    </tr>\n    <tr>\n      <th>13</th>\n      <td>2016-01-01 13:00:00</td>\n      <td>13:27:16.060000</td>\n      <td>-93516.0:6.0:2.0954757928848267e-08</td>\n      <td>1.258</td>\n      <td>4.630</td>\n      <td>91.31398</td>\n      <td>174.3462</td>\n      <td>1.5173</td>\n      <td>1.657515</td>\n      <td>-0.706624</td>\n      <td>...</td>\n      <td>-30.977880</td>\n      <td>2016</td>\n      <td>1</td>\n      <td>1</td>\n      <td>13.0</td>\n      <td>-93516.0</td>\n      <td>6.0</td>\n      <td>2.095476e-08</td>\n      <td>4</td>\n      <td>2016-01-01</td>\n    </tr>\n    <tr>\n      <th>...</th>\n      <td>...</td>\n      <td>...</td>\n      <td>...</td>\n      <td>...</td>\n      <td>...</td>\n      <td>...</td>\n      <td>...</td>\n      <td>...</td>\n      <td>...</td>\n      <td>...</td>\n      <td>...</td>\n      <td>...</td>\n      <td>...</td>\n      <td>...</td>\n      <td>...</td>\n      <td>...</td>\n      <td>...</td>\n      <td>...</td>\n      <td>...</td>\n      <td>...</td>\n      <td>...</td>\n    </tr>\n    <tr>\n      <th>62749</th>\n      <td>2023-02-27 13:00:00</td>\n      <td>14:05:47.790000</td>\n      <td>251944.0:47.0:59.999999958090484</td>\n      <td>0.399</td>\n      <td>4.614</td>\n      <td>89.98556</td>\n      <td>115.1313</td>\n      <td>1.6835</td>\n      <td>1.624918</td>\n      <td>1.484715</td>\n      <td>...</td>\n      <td>52.182980</td>\n      <td>2023</td>\n      <td>2</td>\n      <td>27</td>\n      <td>13.0</td>\n      <td>251944.0</td>\n      <td>47.0</td>\n      <td>6.000000e+01</td>\n      <td>0</td>\n      <td>2023-02-27</td>\n    </tr>\n    <tr>\n      <th>62750</th>\n      <td>2023-02-27 14:00:00</td>\n      <td>14:05:52.110000</td>\n      <td>251948.0:23.0:59.99999997904524</td>\n      <td>0.395</td>\n      <td>4.610</td>\n      <td>89.98409</td>\n      <td>115.1504</td>\n      <td>1.6838</td>\n      <td>1.624954</td>\n      <td>1.484144</td>\n      <td>...</td>\n      <td>52.160187</td>\n      <td>2023</td>\n      <td>2</td>\n      <td>27</td>\n      <td>14.0</td>\n      <td>251948.0</td>\n      <td>23.0</td>\n      <td>6.000000e+01</td>\n      <td>0</td>\n      <td>2023-02-27</td>\n    </tr>\n    <tr>\n      <th>62751</th>\n      <td>2023-02-27 15:00:00</td>\n      <td>14:05:56.430000</td>\n      <td>251951.0:53.0:59.99999997904524</td>\n      <td>0.406</td>\n      <td>4.620</td>\n      <td>89.98263</td>\n      <td>115.1695</td>\n      <td>1.6840</td>\n      <td>1.624989</td>\n      <td>1.483573</td>\n      <td>...</td>\n      <td>52.137410</td>\n      <td>2023</td>\n      <td>2</td>\n      <td>27</td>\n      <td>15.0</td>\n      <td>251951.0</td>\n      <td>53.0</td>\n      <td>6.000000e+01</td>\n      <td>0</td>\n      <td>2023-02-27</td>\n    </tr>\n    <tr>\n      <th>62752</th>\n      <td>2023-02-27 16:00:00</td>\n      <td>14:06:40.760000</td>\n      <td>251955.0:30.0:0.0</td>\n      <td>0.412</td>\n      <td>4.625</td>\n      <td>89.98118</td>\n      <td>115.1886</td>\n      <td>1.6843</td>\n      <td>1.625025</td>\n      <td>1.483002</td>\n      <td>...</td>\n      <td>52.114648</td>\n      <td>2023</td>\n      <td>2</td>\n      <td>27</td>\n      <td>16.0</td>\n      <td>251955.0</td>\n      <td>30.0</td>\n      <td>0.000000e+00</td>\n      <td>0</td>\n      <td>2023-02-27</td>\n    </tr>\n    <tr>\n      <th>62753</th>\n      <td>2023-02-27 17:00:00</td>\n      <td>14:06:45.090000</td>\n      <td>251959.0:6.0:2.0954757928848267e-08</td>\n      <td>0.416</td>\n      <td>4.628</td>\n      <td>89.97973</td>\n      <td>115.2077</td>\n      <td>1.6846</td>\n      <td>1.625061</td>\n      <td>1.482431</td>\n      <td>...</td>\n      <td>52.091902</td>\n      <td>2023</td>\n      <td>2</td>\n      <td>27</td>\n      <td>17.0</td>\n      <td>251959.0</td>\n      <td>6.0</td>\n      <td>2.095476e-08</td>\n      <td>0</td>\n      <td>2023-02-27</td>\n    </tr>\n  </tbody>\n</table>\n<p>16803 rows × 32 columns</p>\n</div>"
     },
     "execution_count": 107,
     "metadata": {},
     "output_type": "execute_result"
    }
   ],
   "source": [
    "planets_copy"
   ],
   "metadata": {
    "collapsed": false
   }
  },
  {
   "cell_type": "code",
   "execution_count": 111,
   "outputs": [
    {
     "ename": "TypeError",
     "evalue": "ufunc 'divmod' not supported for the input types, and the inputs could not be safely coerced to any supported types according to the casting rule ''safe''",
     "output_type": "error",
     "traceback": [
      "\u001B[1;31m---------------------------------------------------------------------------\u001B[0m",
      "\u001B[1;31mTypeError\u001B[0m                                 Traceback (most recent call last)",
      "File \u001B[1;32m~\\anaconda3\\envs\\finance-team\\lib\\site-packages\\pandas\\core\\ops\\array_ops.py:165\u001B[0m, in \u001B[0;36m_na_arithmetic_op\u001B[1;34m(left, right, op, is_cmp)\u001B[0m\n\u001B[0;32m    164\u001B[0m \u001B[38;5;28;01mtry\u001B[39;00m:\n\u001B[1;32m--> 165\u001B[0m     result \u001B[38;5;241m=\u001B[39m \u001B[43mfunc\u001B[49m\u001B[43m(\u001B[49m\u001B[43mleft\u001B[49m\u001B[43m,\u001B[49m\u001B[43m \u001B[49m\u001B[43mright\u001B[49m\u001B[43m)\u001B[49m\n\u001B[0;32m    166\u001B[0m \u001B[38;5;28;01mexcept\u001B[39;00m \u001B[38;5;167;01mTypeError\u001B[39;00m:\n",
      "File \u001B[1;32m~\\anaconda3\\envs\\finance-team\\lib\\site-packages\\pandas\\core\\computation\\expressions.py:242\u001B[0m, in \u001B[0;36mevaluate\u001B[1;34m(op, a, b, use_numexpr)\u001B[0m\n\u001B[0;32m    241\u001B[0m         \u001B[38;5;28;01mreturn\u001B[39;00m _evaluate(op, op_str, a, b)  \u001B[38;5;66;03m# type: ignore[misc]\u001B[39;00m\n\u001B[1;32m--> 242\u001B[0m \u001B[38;5;28;01mreturn\u001B[39;00m \u001B[43m_evaluate_standard\u001B[49m\u001B[43m(\u001B[49m\u001B[43mop\u001B[49m\u001B[43m,\u001B[49m\u001B[43m \u001B[49m\u001B[43mop_str\u001B[49m\u001B[43m,\u001B[49m\u001B[43m \u001B[49m\u001B[43ma\u001B[49m\u001B[43m,\u001B[49m\u001B[43m \u001B[49m\u001B[43mb\u001B[49m\u001B[43m)\u001B[49m\n",
      "File \u001B[1;32m~\\anaconda3\\envs\\finance-team\\lib\\site-packages\\pandas\\core\\computation\\expressions.py:70\u001B[0m, in \u001B[0;36m_evaluate_standard\u001B[1;34m(op, op_str, a, b)\u001B[0m\n\u001B[0;32m     69\u001B[0m     _store_test_result(\u001B[38;5;28;01mFalse\u001B[39;00m)\n\u001B[1;32m---> 70\u001B[0m \u001B[38;5;28;01mreturn\u001B[39;00m \u001B[43mop\u001B[49m\u001B[43m(\u001B[49m\u001B[43ma\u001B[49m\u001B[43m,\u001B[49m\u001B[43m \u001B[49m\u001B[43mb\u001B[49m\u001B[43m)\u001B[49m\n",
      "\u001B[1;31mTypeError\u001B[0m: ufunc 'divmod' not supported for the input types, and the inputs could not be safely coerced to any supported types according to the casting rule ''safe''",
      "\nDuring handling of the above exception, another exception occurred:\n",
      "\u001B[1;31mTypeError\u001B[0m                                 Traceback (most recent call last)",
      "Cell \u001B[1;32mIn[111], line 1\u001B[0m\n\u001B[1;32m----> 1\u001B[0m degress, minutes_raw \u001B[38;5;241m=\u001B[39m \u001B[38;5;28;43mdivmod\u001B[39;49m\u001B[43m(\u001B[49m\u001B[43mplanets_copy\u001B[49m\u001B[43m[\u001B[49m\u001B[38;5;124;43m'\u001B[39;49m\u001B[38;5;124;43mDEC__(ICRF)\u001B[39;49m\u001B[38;5;124;43m'\u001B[39;49m\u001B[43m]\u001B[49m\u001B[43m,\u001B[49m\u001B[43m \u001B[49m\u001B[38;5;241;43m1\u001B[39;49m\u001B[43m)\u001B[49m\n\u001B[0;32m      2\u001B[0m minutes, seconds \u001B[38;5;241m=\u001B[39m \u001B[38;5;28mdivmod\u001B[39m(minutes_raw \u001B[38;5;241m*\u001B[39m \u001B[38;5;241m60\u001B[39m, \u001B[38;5;241m1\u001B[39m)\n\u001B[0;32m      3\u001B[0m seconds \u001B[38;5;241m=\u001B[39m seconds \u001B[38;5;241m*\u001B[39m \u001B[38;5;241m60\u001B[39m\n",
      "File \u001B[1;32m~\\anaconda3\\envs\\finance-team\\lib\\site-packages\\pandas\\core\\ops\\common.py:72\u001B[0m, in \u001B[0;36m_unpack_zerodim_and_defer.<locals>.new_method\u001B[1;34m(self, other)\u001B[0m\n\u001B[0;32m     68\u001B[0m             \u001B[38;5;28;01mreturn\u001B[39;00m \u001B[38;5;28mNotImplemented\u001B[39m\n\u001B[0;32m     70\u001B[0m other \u001B[38;5;241m=\u001B[39m item_from_zerodim(other)\n\u001B[1;32m---> 72\u001B[0m \u001B[38;5;28;01mreturn\u001B[39;00m \u001B[43mmethod\u001B[49m\u001B[43m(\u001B[49m\u001B[38;5;28;43mself\u001B[39;49m\u001B[43m,\u001B[49m\u001B[43m \u001B[49m\u001B[43mother\u001B[49m\u001B[43m)\u001B[49m\n",
      "File \u001B[1;32m~\\anaconda3\\envs\\finance-team\\lib\\site-packages\\pandas\\core\\arraylike.py:150\u001B[0m, in \u001B[0;36mOpsMixin.__divmod__\u001B[1;34m(self, other)\u001B[0m\n\u001B[0;32m    148\u001B[0m \u001B[38;5;129m@unpack_zerodim_and_defer\u001B[39m(\u001B[38;5;124m\"\u001B[39m\u001B[38;5;124m__divmod__\u001B[39m\u001B[38;5;124m\"\u001B[39m)\n\u001B[0;32m    149\u001B[0m \u001B[38;5;28;01mdef\u001B[39;00m \u001B[38;5;21m__divmod__\u001B[39m(\u001B[38;5;28mself\u001B[39m, other):\n\u001B[1;32m--> 150\u001B[0m     \u001B[38;5;28;01mreturn\u001B[39;00m \u001B[38;5;28;43mself\u001B[39;49m\u001B[38;5;241;43m.\u001B[39;49m\u001B[43m_arith_method\u001B[49m\u001B[43m(\u001B[49m\u001B[43mother\u001B[49m\u001B[43m,\u001B[49m\u001B[43m \u001B[49m\u001B[38;5;28;43mdivmod\u001B[39;49m\u001B[43m)\u001B[49m\n",
      "File \u001B[1;32m~\\anaconda3\\envs\\finance-team\\lib\\site-packages\\pandas\\core\\series.py:6259\u001B[0m, in \u001B[0;36mSeries._arith_method\u001B[1;34m(self, other, op)\u001B[0m\n\u001B[0;32m   6257\u001B[0m \u001B[38;5;28;01mdef\u001B[39;00m \u001B[38;5;21m_arith_method\u001B[39m(\u001B[38;5;28mself\u001B[39m, other, op):\n\u001B[0;32m   6258\u001B[0m     \u001B[38;5;28mself\u001B[39m, other \u001B[38;5;241m=\u001B[39m ops\u001B[38;5;241m.\u001B[39malign_method_SERIES(\u001B[38;5;28mself\u001B[39m, other)\n\u001B[1;32m-> 6259\u001B[0m     \u001B[38;5;28;01mreturn\u001B[39;00m \u001B[43mbase\u001B[49m\u001B[38;5;241;43m.\u001B[39;49m\u001B[43mIndexOpsMixin\u001B[49m\u001B[38;5;241;43m.\u001B[39;49m\u001B[43m_arith_method\u001B[49m\u001B[43m(\u001B[49m\u001B[38;5;28;43mself\u001B[39;49m\u001B[43m,\u001B[49m\u001B[43m \u001B[49m\u001B[43mother\u001B[49m\u001B[43m,\u001B[49m\u001B[43m \u001B[49m\u001B[43mop\u001B[49m\u001B[43m)\u001B[49m\n",
      "File \u001B[1;32m~\\anaconda3\\envs\\finance-team\\lib\\site-packages\\pandas\\core\\base.py:1325\u001B[0m, in \u001B[0;36mIndexOpsMixin._arith_method\u001B[1;34m(self, other, op)\u001B[0m\n\u001B[0;32m   1322\u001B[0m rvalues \u001B[38;5;241m=\u001B[39m ensure_wrapped_if_datetimelike(rvalues)\n\u001B[0;32m   1324\u001B[0m \u001B[38;5;28;01mwith\u001B[39;00m np\u001B[38;5;241m.\u001B[39merrstate(\u001B[38;5;28mall\u001B[39m\u001B[38;5;241m=\u001B[39m\u001B[38;5;124m\"\u001B[39m\u001B[38;5;124mignore\u001B[39m\u001B[38;5;124m\"\u001B[39m):\n\u001B[1;32m-> 1325\u001B[0m     result \u001B[38;5;241m=\u001B[39m \u001B[43mops\u001B[49m\u001B[38;5;241;43m.\u001B[39;49m\u001B[43marithmetic_op\u001B[49m\u001B[43m(\u001B[49m\u001B[43mlvalues\u001B[49m\u001B[43m,\u001B[49m\u001B[43m \u001B[49m\u001B[43mrvalues\u001B[49m\u001B[43m,\u001B[49m\u001B[43m \u001B[49m\u001B[43mop\u001B[49m\u001B[43m)\u001B[49m\n\u001B[0;32m   1327\u001B[0m \u001B[38;5;28;01mreturn\u001B[39;00m \u001B[38;5;28mself\u001B[39m\u001B[38;5;241m.\u001B[39m_construct_result(result, name\u001B[38;5;241m=\u001B[39mres_name)\n",
      "File \u001B[1;32m~\\anaconda3\\envs\\finance-team\\lib\\site-packages\\pandas\\core\\ops\\array_ops.py:226\u001B[0m, in \u001B[0;36marithmetic_op\u001B[1;34m(left, right, op)\u001B[0m\n\u001B[0;32m    222\u001B[0m     _bool_arith_check(op, left, right)\n\u001B[0;32m    224\u001B[0m     \u001B[38;5;66;03m# error: Argument 1 to \"_na_arithmetic_op\" has incompatible type\u001B[39;00m\n\u001B[0;32m    225\u001B[0m     \u001B[38;5;66;03m# \"Union[ExtensionArray, ndarray[Any, Any]]\"; expected \"ndarray[Any, Any]\"\u001B[39;00m\n\u001B[1;32m--> 226\u001B[0m     res_values \u001B[38;5;241m=\u001B[39m \u001B[43m_na_arithmetic_op\u001B[49m\u001B[43m(\u001B[49m\u001B[43mleft\u001B[49m\u001B[43m,\u001B[49m\u001B[43m \u001B[49m\u001B[43mright\u001B[49m\u001B[43m,\u001B[49m\u001B[43m \u001B[49m\u001B[43mop\u001B[49m\u001B[43m)\u001B[49m  \u001B[38;5;66;03m# type: ignore[arg-type]\u001B[39;00m\n\u001B[0;32m    228\u001B[0m \u001B[38;5;28;01mreturn\u001B[39;00m res_values\n",
      "File \u001B[1;32m~\\anaconda3\\envs\\finance-team\\lib\\site-packages\\pandas\\core\\ops\\array_ops.py:172\u001B[0m, in \u001B[0;36m_na_arithmetic_op\u001B[1;34m(left, right, op, is_cmp)\u001B[0m\n\u001B[0;32m    166\u001B[0m \u001B[38;5;28;01mexcept\u001B[39;00m \u001B[38;5;167;01mTypeError\u001B[39;00m:\n\u001B[0;32m    167\u001B[0m     \u001B[38;5;28;01mif\u001B[39;00m \u001B[38;5;129;01mnot\u001B[39;00m is_cmp \u001B[38;5;129;01mand\u001B[39;00m (is_object_dtype(left\u001B[38;5;241m.\u001B[39mdtype) \u001B[38;5;129;01mor\u001B[39;00m is_object_dtype(right)):\n\u001B[0;32m    168\u001B[0m         \u001B[38;5;66;03m# For object dtype, fallback to a masked operation (only operating\u001B[39;00m\n\u001B[0;32m    169\u001B[0m         \u001B[38;5;66;03m#  on the non-missing values)\u001B[39;00m\n\u001B[0;32m    170\u001B[0m         \u001B[38;5;66;03m# Don't do this for comparisons, as that will handle complex numbers\u001B[39;00m\n\u001B[0;32m    171\u001B[0m         \u001B[38;5;66;03m#  incorrectly, see GH#32047\u001B[39;00m\n\u001B[1;32m--> 172\u001B[0m         result \u001B[38;5;241m=\u001B[39m \u001B[43m_masked_arith_op\u001B[49m\u001B[43m(\u001B[49m\u001B[43mleft\u001B[49m\u001B[43m,\u001B[49m\u001B[43m \u001B[49m\u001B[43mright\u001B[49m\u001B[43m,\u001B[49m\u001B[43m \u001B[49m\u001B[43mop\u001B[49m\u001B[43m)\u001B[49m\n\u001B[0;32m    173\u001B[0m     \u001B[38;5;28;01melse\u001B[39;00m:\n\u001B[0;32m    174\u001B[0m         \u001B[38;5;28;01mraise\u001B[39;00m\n",
      "File \u001B[1;32m~\\anaconda3\\envs\\finance-team\\lib\\site-packages\\pandas\\core\\ops\\array_ops.py:129\u001B[0m, in \u001B[0;36m_masked_arith_op\u001B[1;34m(x, y, op)\u001B[0m\n\u001B[0;32m    126\u001B[0m         mask \u001B[38;5;241m=\u001B[39m np\u001B[38;5;241m.\u001B[39mwhere(y \u001B[38;5;241m==\u001B[39m \u001B[38;5;241m1\u001B[39m, \u001B[38;5;28;01mFalse\u001B[39;00m, mask)\n\u001B[0;32m    128\u001B[0m     \u001B[38;5;28;01mif\u001B[39;00m mask\u001B[38;5;241m.\u001B[39many():\n\u001B[1;32m--> 129\u001B[0m         result[mask] \u001B[38;5;241m=\u001B[39m \u001B[43mop\u001B[49m\u001B[43m(\u001B[49m\u001B[43mxrav\u001B[49m\u001B[43m[\u001B[49m\u001B[43mmask\u001B[49m\u001B[43m]\u001B[49m\u001B[43m,\u001B[49m\u001B[43m \u001B[49m\u001B[43my\u001B[49m\u001B[43m)\u001B[49m\n\u001B[0;32m    131\u001B[0m np\u001B[38;5;241m.\u001B[39mputmask(result, \u001B[38;5;241m~\u001B[39mmask, np\u001B[38;5;241m.\u001B[39mnan)\n\u001B[0;32m    132\u001B[0m result \u001B[38;5;241m=\u001B[39m result\u001B[38;5;241m.\u001B[39mreshape(x\u001B[38;5;241m.\u001B[39mshape)  \u001B[38;5;66;03m# 2D compat\u001B[39;00m\n",
      "\u001B[1;31mTypeError\u001B[0m: ufunc 'divmod' not supported for the input types, and the inputs could not be safely coerced to any supported types according to the casting rule ''safe''"
     ]
    }
   ],
   "source": [
    "degress, minutes_raw = divmod(planets_copy['DEC__(ICRF)'], 1)\n",
    "minutes, seconds = divmod(minutes_raw * 60, 1)\n",
    "seconds = seconds * 60\n",
    "planets_copy['DEC__(ICRF)'] = degress.astype(str) + ':' + minutes.astype(str) + ':' + seconds.astype(str)\n",
    "\n",
    "\n",
    "planets_copy['degrees'] = degress\n",
    "planets_copy['minutes'] = minutes\n",
    "planets_copy['seconds'] = seconds"
   ],
   "metadata": {
    "collapsed": false
   }
  },
  {
   "cell_type": "code",
   "execution_count": 112,
   "outputs": [
    {
     "data": {
      "text/plain": "     Date__(UT)__HR:MN      R.A._(ICRF)                           DEC__(ICRF)  \\\n9  2016-01-01 09:00:00  13:26:55.010000  -93319.0:48.0:1.0477378964424133e-08   \n10 2016-01-01 10:00:00  13:27:00.269999       -93348.0:23.0:59.99999997904524   \n11 2016-01-01 11:00:00  13:27:05.540000       -93418.0:53.0:59.99999997904524   \n12 2016-01-01 12:00:00  13:27:10.799999                     -93447.0:30.0:0.0   \n13 2016-01-01 13:00:00  13:27:16.060000   -93516.0:6.0:2.0954757928848267e-08   \n\n    APmag  S-brt     Illu%  hEcl-Lon  hEcl-Lat         r      rdot  ...  \\\n9   1.203  4.573  91.32333  174.2727    1.5186  1.657583 -0.703869  ...   \n10  1.214  4.584  91.32099  174.2910    1.5183  1.657566 -0.704558  ...   \n11  1.228  4.598  91.31865  174.3094    1.5180  1.657549 -0.705247  ...   \n12  1.235  4.606  91.31631  174.3278    1.5176  1.657532 -0.705936  ...   \n13  1.258  4.630  91.31398  174.3462    1.5173  1.657515 -0.706624  ...   \n\n    RelVel-ANG  year  month day  time  degrees  minutes       seconds  \\\n9    -30.93041  2016      1   1   9.0 -93319.0     48.0  1.047738e-08   \n10   -30.94227  2016      1   1  10.0 -93348.0     23.0  6.000000e+01   \n11   -30.95413  2016      1   1  11.0 -93418.0     53.0  6.000000e+01   \n12   -30.96600  2016      1   1  12.0 -93447.0     30.0  0.000000e+00   \n13   -30.97788  2016      1   1  13.0 -93516.0      6.0  2.095476e-08   \n\n    weekday        date  \n9         4  2016-01-01  \n10        4  2016-01-01  \n11        4  2016-01-01  \n12        4  2016-01-01  \n13        4  2016-01-01  \n\n[5 rows x 32 columns]",
      "text/html": "<div>\n<style scoped>\n    .dataframe tbody tr th:only-of-type {\n        vertical-align: middle;\n    }\n\n    .dataframe tbody tr th {\n        vertical-align: top;\n    }\n\n    .dataframe thead th {\n        text-align: right;\n    }\n</style>\n<table border=\"1\" class=\"dataframe\">\n  <thead>\n    <tr style=\"text-align: right;\">\n      <th></th>\n      <th>Date__(UT)__HR:MN</th>\n      <th>R.A._(ICRF)</th>\n      <th>DEC__(ICRF)</th>\n      <th>APmag</th>\n      <th>S-brt</th>\n      <th>Illu%</th>\n      <th>hEcl-Lon</th>\n      <th>hEcl-Lat</th>\n      <th>r</th>\n      <th>rdot</th>\n      <th>...</th>\n      <th>RelVel-ANG</th>\n      <th>year</th>\n      <th>month</th>\n      <th>day</th>\n      <th>time</th>\n      <th>degrees</th>\n      <th>minutes</th>\n      <th>seconds</th>\n      <th>weekday</th>\n      <th>date</th>\n    </tr>\n  </thead>\n  <tbody>\n    <tr>\n      <th>9</th>\n      <td>2016-01-01 09:00:00</td>\n      <td>13:26:55.010000</td>\n      <td>-93319.0:48.0:1.0477378964424133e-08</td>\n      <td>1.203</td>\n      <td>4.573</td>\n      <td>91.32333</td>\n      <td>174.2727</td>\n      <td>1.5186</td>\n      <td>1.657583</td>\n      <td>-0.703869</td>\n      <td>...</td>\n      <td>-30.93041</td>\n      <td>2016</td>\n      <td>1</td>\n      <td>1</td>\n      <td>9.0</td>\n      <td>-93319.0</td>\n      <td>48.0</td>\n      <td>1.047738e-08</td>\n      <td>4</td>\n      <td>2016-01-01</td>\n    </tr>\n    <tr>\n      <th>10</th>\n      <td>2016-01-01 10:00:00</td>\n      <td>13:27:00.269999</td>\n      <td>-93348.0:23.0:59.99999997904524</td>\n      <td>1.214</td>\n      <td>4.584</td>\n      <td>91.32099</td>\n      <td>174.2910</td>\n      <td>1.5183</td>\n      <td>1.657566</td>\n      <td>-0.704558</td>\n      <td>...</td>\n      <td>-30.94227</td>\n      <td>2016</td>\n      <td>1</td>\n      <td>1</td>\n      <td>10.0</td>\n      <td>-93348.0</td>\n      <td>23.0</td>\n      <td>6.000000e+01</td>\n      <td>4</td>\n      <td>2016-01-01</td>\n    </tr>\n    <tr>\n      <th>11</th>\n      <td>2016-01-01 11:00:00</td>\n      <td>13:27:05.540000</td>\n      <td>-93418.0:53.0:59.99999997904524</td>\n      <td>1.228</td>\n      <td>4.598</td>\n      <td>91.31865</td>\n      <td>174.3094</td>\n      <td>1.5180</td>\n      <td>1.657549</td>\n      <td>-0.705247</td>\n      <td>...</td>\n      <td>-30.95413</td>\n      <td>2016</td>\n      <td>1</td>\n      <td>1</td>\n      <td>11.0</td>\n      <td>-93418.0</td>\n      <td>53.0</td>\n      <td>6.000000e+01</td>\n      <td>4</td>\n      <td>2016-01-01</td>\n    </tr>\n    <tr>\n      <th>12</th>\n      <td>2016-01-01 12:00:00</td>\n      <td>13:27:10.799999</td>\n      <td>-93447.0:30.0:0.0</td>\n      <td>1.235</td>\n      <td>4.606</td>\n      <td>91.31631</td>\n      <td>174.3278</td>\n      <td>1.5176</td>\n      <td>1.657532</td>\n      <td>-0.705936</td>\n      <td>...</td>\n      <td>-30.96600</td>\n      <td>2016</td>\n      <td>1</td>\n      <td>1</td>\n      <td>12.0</td>\n      <td>-93447.0</td>\n      <td>30.0</td>\n      <td>0.000000e+00</td>\n      <td>4</td>\n      <td>2016-01-01</td>\n    </tr>\n    <tr>\n      <th>13</th>\n      <td>2016-01-01 13:00:00</td>\n      <td>13:27:16.060000</td>\n      <td>-93516.0:6.0:2.0954757928848267e-08</td>\n      <td>1.258</td>\n      <td>4.630</td>\n      <td>91.31398</td>\n      <td>174.3462</td>\n      <td>1.5173</td>\n      <td>1.657515</td>\n      <td>-0.706624</td>\n      <td>...</td>\n      <td>-30.97788</td>\n      <td>2016</td>\n      <td>1</td>\n      <td>1</td>\n      <td>13.0</td>\n      <td>-93516.0</td>\n      <td>6.0</td>\n      <td>2.095476e-08</td>\n      <td>4</td>\n      <td>2016-01-01</td>\n    </tr>\n  </tbody>\n</table>\n<p>5 rows × 32 columns</p>\n</div>"
     },
     "execution_count": 112,
     "metadata": {},
     "output_type": "execute_result"
    }
   ],
   "source": [
    "planets_copy.head()"
   ],
   "metadata": {
    "collapsed": false
   }
  },
  {
   "cell_type": "code",
   "execution_count": 113,
   "outputs": [
    {
     "name": "stderr",
     "output_type": "stream",
     "text": [
      "C:\\Users\\alexg\\AppData\\Local\\Temp\\ipykernel_8312\\2777503501.py:2: SettingWithCopyWarning: \n",
      "A value is trying to be set on a copy of a slice from a DataFrame.\n",
      "Try using .loc[row_indexer,col_indexer] = value instead\n",
      "\n",
      "See the caveats in the documentation: https://pandas.pydata.org/pandas-docs/stable/user_guide/indexing.html#returning-a-view-versus-a-copy\n",
      "  planets_copy['weekday'] = planets_copy['Date__(UT)__HR:MN'].dt.dayofweek\n"
     ]
    },
    {
     "data": {
      "text/plain": "        Date__(UT)__HR:MN      R.A._(ICRF)  \\\n9     2016-01-01 09:00:00  13:26:55.010000   \n10    2016-01-01 10:00:00  13:27:00.269999   \n11    2016-01-01 11:00:00  13:27:05.540000   \n12    2016-01-01 12:00:00  13:27:10.799999   \n13    2016-01-01 13:00:00  13:27:16.060000   \n...                   ...              ...   \n62749 2023-02-27 13:00:00  14:05:47.790000   \n62750 2023-02-27 14:00:00  14:05:52.110000   \n62751 2023-02-27 15:00:00  14:05:56.430000   \n62752 2023-02-27 16:00:00  14:06:40.760000   \n62753 2023-02-27 17:00:00  14:06:45.090000   \n\n                                DEC__(ICRF)  APmag  S-brt     Illu%  hEcl-Lon  \\\n9      -93319.0:48.0:1.0477378964424133e-08  1.203  4.573  91.32333  174.2727   \n10          -93348.0:23.0:59.99999997904524  1.214  4.584  91.32099  174.2910   \n11          -93418.0:53.0:59.99999997904524  1.228  4.598  91.31865  174.3094   \n12                        -93447.0:30.0:0.0  1.235  4.606  91.31631  174.3278   \n13      -93516.0:6.0:2.0954757928848267e-08  1.258  4.630  91.31398  174.3462   \n...                                     ...    ...    ...       ...       ...   \n62749      251944.0:47.0:59.999999958090484  0.399  4.614  89.98556  115.1313   \n62750       251948.0:23.0:59.99999997904524  0.395  4.610  89.98409  115.1504   \n62751       251951.0:53.0:59.99999997904524  0.406  4.620  89.98263  115.1695   \n62752                     251955.0:30.0:0.0  0.412  4.625  89.98118  115.1886   \n62753   251959.0:6.0:2.0954757928848267e-08  0.416  4.628  89.97973  115.2077   \n\n       hEcl-Lat         r      rdot  ...  RelVel-ANG  year  month day  time  \\\n9        1.5186  1.657583 -0.703869  ...  -30.930410  2016      1   1   9.0   \n10       1.5183  1.657566 -0.704558  ...  -30.942270  2016      1   1  10.0   \n11       1.5180  1.657549 -0.705247  ...  -30.954130  2016      1   1  11.0   \n12       1.5176  1.657532 -0.705936  ...  -30.966000  2016      1   1  12.0   \n13       1.5173  1.657515 -0.706624  ...  -30.977880  2016      1   1  13.0   \n...         ...       ...       ...  ...         ...   ...    ...  ..   ...   \n62749    1.6835  1.624918  1.484715  ...   52.182980  2023      2  27  13.0   \n62750    1.6838  1.624954  1.484144  ...   52.160187  2023      2  27  14.0   \n62751    1.6840  1.624989  1.483573  ...   52.137410  2023      2  27  15.0   \n62752    1.6843  1.625025  1.483002  ...   52.114648  2023      2  27  16.0   \n62753    1.6846  1.625061  1.482431  ...   52.091902  2023      2  27  17.0   \n\n        degrees  minutes       seconds  weekday        date  \n9      -93319.0     48.0  1.047738e-08        4  2016-01-01  \n10     -93348.0     23.0  6.000000e+01        4  2016-01-01  \n11     -93418.0     53.0  6.000000e+01        4  2016-01-01  \n12     -93447.0     30.0  0.000000e+00        4  2016-01-01  \n13     -93516.0      6.0  2.095476e-08        4  2016-01-01  \n...         ...      ...           ...      ...         ...  \n62749  251944.0     47.0  6.000000e+01        0  2023-02-27  \n62750  251948.0     23.0  6.000000e+01        0  2023-02-27  \n62751  251951.0     53.0  6.000000e+01        0  2023-02-27  \n62752  251955.0     30.0  0.000000e+00        0  2023-02-27  \n62753  251959.0      6.0  2.095476e-08        0  2023-02-27  \n\n[16803 rows x 32 columns]",
      "text/html": "<div>\n<style scoped>\n    .dataframe tbody tr th:only-of-type {\n        vertical-align: middle;\n    }\n\n    .dataframe tbody tr th {\n        vertical-align: top;\n    }\n\n    .dataframe thead th {\n        text-align: right;\n    }\n</style>\n<table border=\"1\" class=\"dataframe\">\n  <thead>\n    <tr style=\"text-align: right;\">\n      <th></th>\n      <th>Date__(UT)__HR:MN</th>\n      <th>R.A._(ICRF)</th>\n      <th>DEC__(ICRF)</th>\n      <th>APmag</th>\n      <th>S-brt</th>\n      <th>Illu%</th>\n      <th>hEcl-Lon</th>\n      <th>hEcl-Lat</th>\n      <th>r</th>\n      <th>rdot</th>\n      <th>...</th>\n      <th>RelVel-ANG</th>\n      <th>year</th>\n      <th>month</th>\n      <th>day</th>\n      <th>time</th>\n      <th>degrees</th>\n      <th>minutes</th>\n      <th>seconds</th>\n      <th>weekday</th>\n      <th>date</th>\n    </tr>\n  </thead>\n  <tbody>\n    <tr>\n      <th>9</th>\n      <td>2016-01-01 09:00:00</td>\n      <td>13:26:55.010000</td>\n      <td>-93319.0:48.0:1.0477378964424133e-08</td>\n      <td>1.203</td>\n      <td>4.573</td>\n      <td>91.32333</td>\n      <td>174.2727</td>\n      <td>1.5186</td>\n      <td>1.657583</td>\n      <td>-0.703869</td>\n      <td>...</td>\n      <td>-30.930410</td>\n      <td>2016</td>\n      <td>1</td>\n      <td>1</td>\n      <td>9.0</td>\n      <td>-93319.0</td>\n      <td>48.0</td>\n      <td>1.047738e-08</td>\n      <td>4</td>\n      <td>2016-01-01</td>\n    </tr>\n    <tr>\n      <th>10</th>\n      <td>2016-01-01 10:00:00</td>\n      <td>13:27:00.269999</td>\n      <td>-93348.0:23.0:59.99999997904524</td>\n      <td>1.214</td>\n      <td>4.584</td>\n      <td>91.32099</td>\n      <td>174.2910</td>\n      <td>1.5183</td>\n      <td>1.657566</td>\n      <td>-0.704558</td>\n      <td>...</td>\n      <td>-30.942270</td>\n      <td>2016</td>\n      <td>1</td>\n      <td>1</td>\n      <td>10.0</td>\n      <td>-93348.0</td>\n      <td>23.0</td>\n      <td>6.000000e+01</td>\n      <td>4</td>\n      <td>2016-01-01</td>\n    </tr>\n    <tr>\n      <th>11</th>\n      <td>2016-01-01 11:00:00</td>\n      <td>13:27:05.540000</td>\n      <td>-93418.0:53.0:59.99999997904524</td>\n      <td>1.228</td>\n      <td>4.598</td>\n      <td>91.31865</td>\n      <td>174.3094</td>\n      <td>1.5180</td>\n      <td>1.657549</td>\n      <td>-0.705247</td>\n      <td>...</td>\n      <td>-30.954130</td>\n      <td>2016</td>\n      <td>1</td>\n      <td>1</td>\n      <td>11.0</td>\n      <td>-93418.0</td>\n      <td>53.0</td>\n      <td>6.000000e+01</td>\n      <td>4</td>\n      <td>2016-01-01</td>\n    </tr>\n    <tr>\n      <th>12</th>\n      <td>2016-01-01 12:00:00</td>\n      <td>13:27:10.799999</td>\n      <td>-93447.0:30.0:0.0</td>\n      <td>1.235</td>\n      <td>4.606</td>\n      <td>91.31631</td>\n      <td>174.3278</td>\n      <td>1.5176</td>\n      <td>1.657532</td>\n      <td>-0.705936</td>\n      <td>...</td>\n      <td>-30.966000</td>\n      <td>2016</td>\n      <td>1</td>\n      <td>1</td>\n      <td>12.0</td>\n      <td>-93447.0</td>\n      <td>30.0</td>\n      <td>0.000000e+00</td>\n      <td>4</td>\n      <td>2016-01-01</td>\n    </tr>\n    <tr>\n      <th>13</th>\n      <td>2016-01-01 13:00:00</td>\n      <td>13:27:16.060000</td>\n      <td>-93516.0:6.0:2.0954757928848267e-08</td>\n      <td>1.258</td>\n      <td>4.630</td>\n      <td>91.31398</td>\n      <td>174.3462</td>\n      <td>1.5173</td>\n      <td>1.657515</td>\n      <td>-0.706624</td>\n      <td>...</td>\n      <td>-30.977880</td>\n      <td>2016</td>\n      <td>1</td>\n      <td>1</td>\n      <td>13.0</td>\n      <td>-93516.0</td>\n      <td>6.0</td>\n      <td>2.095476e-08</td>\n      <td>4</td>\n      <td>2016-01-01</td>\n    </tr>\n    <tr>\n      <th>...</th>\n      <td>...</td>\n      <td>...</td>\n      <td>...</td>\n      <td>...</td>\n      <td>...</td>\n      <td>...</td>\n      <td>...</td>\n      <td>...</td>\n      <td>...</td>\n      <td>...</td>\n      <td>...</td>\n      <td>...</td>\n      <td>...</td>\n      <td>...</td>\n      <td>...</td>\n      <td>...</td>\n      <td>...</td>\n      <td>...</td>\n      <td>...</td>\n      <td>...</td>\n      <td>...</td>\n    </tr>\n    <tr>\n      <th>62749</th>\n      <td>2023-02-27 13:00:00</td>\n      <td>14:05:47.790000</td>\n      <td>251944.0:47.0:59.999999958090484</td>\n      <td>0.399</td>\n      <td>4.614</td>\n      <td>89.98556</td>\n      <td>115.1313</td>\n      <td>1.6835</td>\n      <td>1.624918</td>\n      <td>1.484715</td>\n      <td>...</td>\n      <td>52.182980</td>\n      <td>2023</td>\n      <td>2</td>\n      <td>27</td>\n      <td>13.0</td>\n      <td>251944.0</td>\n      <td>47.0</td>\n      <td>6.000000e+01</td>\n      <td>0</td>\n      <td>2023-02-27</td>\n    </tr>\n    <tr>\n      <th>62750</th>\n      <td>2023-02-27 14:00:00</td>\n      <td>14:05:52.110000</td>\n      <td>251948.0:23.0:59.99999997904524</td>\n      <td>0.395</td>\n      <td>4.610</td>\n      <td>89.98409</td>\n      <td>115.1504</td>\n      <td>1.6838</td>\n      <td>1.624954</td>\n      <td>1.484144</td>\n      <td>...</td>\n      <td>52.160187</td>\n      <td>2023</td>\n      <td>2</td>\n      <td>27</td>\n      <td>14.0</td>\n      <td>251948.0</td>\n      <td>23.0</td>\n      <td>6.000000e+01</td>\n      <td>0</td>\n      <td>2023-02-27</td>\n    </tr>\n    <tr>\n      <th>62751</th>\n      <td>2023-02-27 15:00:00</td>\n      <td>14:05:56.430000</td>\n      <td>251951.0:53.0:59.99999997904524</td>\n      <td>0.406</td>\n      <td>4.620</td>\n      <td>89.98263</td>\n      <td>115.1695</td>\n      <td>1.6840</td>\n      <td>1.624989</td>\n      <td>1.483573</td>\n      <td>...</td>\n      <td>52.137410</td>\n      <td>2023</td>\n      <td>2</td>\n      <td>27</td>\n      <td>15.0</td>\n      <td>251951.0</td>\n      <td>53.0</td>\n      <td>6.000000e+01</td>\n      <td>0</td>\n      <td>2023-02-27</td>\n    </tr>\n    <tr>\n      <th>62752</th>\n      <td>2023-02-27 16:00:00</td>\n      <td>14:06:40.760000</td>\n      <td>251955.0:30.0:0.0</td>\n      <td>0.412</td>\n      <td>4.625</td>\n      <td>89.98118</td>\n      <td>115.1886</td>\n      <td>1.6843</td>\n      <td>1.625025</td>\n      <td>1.483002</td>\n      <td>...</td>\n      <td>52.114648</td>\n      <td>2023</td>\n      <td>2</td>\n      <td>27</td>\n      <td>16.0</td>\n      <td>251955.0</td>\n      <td>30.0</td>\n      <td>0.000000e+00</td>\n      <td>0</td>\n      <td>2023-02-27</td>\n    </tr>\n    <tr>\n      <th>62753</th>\n      <td>2023-02-27 17:00:00</td>\n      <td>14:06:45.090000</td>\n      <td>251959.0:6.0:2.0954757928848267e-08</td>\n      <td>0.416</td>\n      <td>4.628</td>\n      <td>89.97973</td>\n      <td>115.2077</td>\n      <td>1.6846</td>\n      <td>1.625061</td>\n      <td>1.482431</td>\n      <td>...</td>\n      <td>52.091902</td>\n      <td>2023</td>\n      <td>2</td>\n      <td>27</td>\n      <td>17.0</td>\n      <td>251959.0</td>\n      <td>6.0</td>\n      <td>2.095476e-08</td>\n      <td>0</td>\n      <td>2023-02-27</td>\n    </tr>\n  </tbody>\n</table>\n<p>16803 rows × 32 columns</p>\n</div>"
     },
     "execution_count": 113,
     "metadata": {},
     "output_type": "execute_result"
    }
   ],
   "source": [
    "# filter weekday monday to friday\n",
    "planets_copy['weekday'] = planets_copy['Date__(UT)__HR:MN'].dt.dayofweek\n",
    "planets_copy = planets_copy[planets_copy['weekday'] < 5]\n",
    "planets_copy"
   ],
   "metadata": {
    "collapsed": false
   }
  },
  {
   "cell_type": "code",
   "execution_count": 114,
   "outputs": [
    {
     "data": {
      "text/plain": "(16803, 32)"
     },
     "execution_count": 114,
     "metadata": {},
     "output_type": "execute_result"
    }
   ],
   "source": [
    "def filter_by_time(df, start, end):\n",
    "    df.query('time >= @start and time <= @end', inplace=True)\n",
    "    return df\n",
    "work_hour_df = filter_by_time(planets_copy, 9, 17)\n",
    "work_hour_df.shape"
   ],
   "metadata": {
    "collapsed": false
   }
  },
  {
   "cell_type": "code",
   "execution_count": 115,
   "outputs": [
    {
     "data": {
      "text/plain": "DatetimeIndex(['2016-01-18', '2016-02-15', '2016-05-30', '2016-07-04',\n               '2016-09-05', '2016-10-10', '2016-11-11', '2016-11-24',\n               '2016-12-26', '2017-01-02', '2017-01-16', '2017-02-20',\n               '2017-05-29', '2017-07-04', '2017-09-04', '2017-10-09',\n               '2017-11-10', '2017-11-23', '2017-12-25', '2018-01-01',\n               '2018-01-15', '2018-02-19', '2018-05-28', '2018-07-04',\n               '2018-09-03', '2018-10-08', '2018-11-12', '2018-11-22',\n               '2018-12-25', '2019-01-01', '2019-01-21', '2019-02-18',\n               '2019-05-27', '2019-07-04', '2019-09-02', '2019-10-14',\n               '2019-11-11', '2019-11-28', '2019-12-25', '2020-01-01',\n               '2020-01-20', '2020-02-17', '2020-05-25', '2020-07-03',\n               '2020-09-07', '2020-10-12', '2020-11-11', '2020-11-26',\n               '2020-12-25', '2021-01-01', '2021-01-18', '2021-02-15',\n               '2021-05-31', '2021-06-18', '2021-07-05', '2021-09-06',\n               '2021-10-11', '2021-11-11', '2021-11-25', '2021-12-24',\n               '2021-12-31', '2022-01-17', '2022-02-21', '2022-05-30',\n               '2022-06-20', '2022-07-04', '2022-09-05', '2022-10-10',\n               '2022-11-11', '2022-11-24', '2022-12-26', '2023-01-02',\n               '2023-01-16', '2023-02-20'],\n              dtype='datetime64[ns]', freq=None)"
     },
     "execution_count": 115,
     "metadata": {},
     "output_type": "execute_result"
    }
   ],
   "source": [
    "#import holidays\n",
    "from pandas.tseries.holiday import USFederalHolidayCalendar\n",
    "\n",
    "cal = USFederalHolidayCalendar()\n",
    "\n",
    "holidays = cal.holidays(start=work_hour_df['Date__(UT)__HR:MN'].min(), end=work_hour_df['Date__(UT)__HR:MN'].max())\n",
    "holidays\n",
    "holidays = pd.to_datetime(holidays, format='%Y-%b-%d%H:%M')\n",
    "holidays"
   ],
   "metadata": {
    "collapsed": false
   }
  },
  {
   "cell_type": "code",
   "execution_count": 116,
   "outputs": [
    {
     "name": "stderr",
     "output_type": "stream",
     "text": [
      "C:\\Users\\alexg\\AppData\\Local\\Temp\\ipykernel_8312\\2483449638.py:2: FutureWarning: Comparison of Timestamp with datetime.date is deprecated in order to match the standard library behavior. In a future version these will be considered non-comparable. Use 'ts == pd.Timestamp(date)' or 'ts.date() == date' instead.\n",
      "  work_hour_df = work_hour_df[~work_hour_df['date'].isin(holidays)]\n"
     ]
    },
    {
     "data": {
      "text/plain": "(16794, 32)"
     },
     "execution_count": 116,
     "metadata": {},
     "output_type": "execute_result"
    }
   ],
   "source": [
    "# filter out holidays\n",
    "work_hour_df = work_hour_df[~work_hour_df['date'].isin(holidays)]\n",
    "work_hour_df.shape"
   ],
   "metadata": {
    "collapsed": false
   }
  },
  {
   "cell_type": "code",
   "execution_count": null,
   "outputs": [],
   "source": [],
   "metadata": {
    "collapsed": false
   }
  }
 ],
 "metadata": {
  "kernelspec": {
   "display_name": "Python 3",
   "language": "python",
   "name": "python3"
  },
  "language_info": {
   "codemirror_mode": {
    "name": "ipython",
    "version": 2
   },
   "file_extension": ".py",
   "mimetype": "text/x-python",
   "name": "python",
   "nbconvert_exporter": "python",
   "pygments_lexer": "ipython2",
   "version": "2.7.6"
  }
 },
 "nbformat": 4,
 "nbformat_minor": 0
}
