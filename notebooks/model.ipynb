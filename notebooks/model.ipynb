{
 "cells": [
  {
   "cell_type": "code",
   "execution_count": 59,
   "outputs": [],
   "source": [
    "import pandas as pd\n",
    "import numpy as np\n",
    "import matplotlib.pyplot as plt"
   ],
   "metadata": {
    "collapsed": false,
    "ExecuteTime": {
     "start_time": "2023-04-04T17:42:48.069319Z",
     "end_time": "2023-04-04T17:42:48.149784Z"
    }
   }
  },
  {
   "cell_type": "markdown",
   "source": [
    "# 1. Load the data"
   ],
   "metadata": {
    "collapsed": false
   }
  },
  {
   "cell_type": "code",
   "execution_count": 60,
   "outputs": [
    {
     "data": {
      "text/plain": "     Date__(UT)__HR:MN  DEC__(ICRF)  APmag  S-brt     Illu%  hEcl-Lon  \\\n0  2020-06-29 09:30:00    -213619.4 -2.722  5.385  99.92522  290.7919   \n1  2020-06-29 10:30:00    -213622.9 -2.722  5.385  99.92563  290.7954   \n2  2020-06-29 11:30:00    -213626.3 -2.722  5.384  99.92603  290.7989   \n3  2020-06-29 12:30:00    -213629.8 -2.722  5.384  99.92643  290.8024   \n4  2020-06-29 13:30:00    -213633.3 -2.722  5.384  99.92683  290.8059   \n\n   hEcl-Lat         r      rdot     delta  ...  open_EVRG  open_GNRC  open_IP  \\\n0   -0.2326  5.161446 -0.632042  4.176970  ...     57.540    111.730   35.350   \n1   -0.2326  5.161431 -0.631913  4.176776  ...     57.890    113.350   35.740   \n2   -0.2327  5.161415 -0.631792  4.176583  ...     58.385    117.060   36.095   \n3   -0.2328  5.161400 -0.631680  4.176390  ...     57.790    114.045   35.825   \n4   -0.2329  5.161385 -0.631580  4.176198  ...     58.760    116.190   36.200   \n\n   open_PKI   open_TMO   open_TT  open_WEC   open_WHR  open_WRK  open_ZION  \n0   119.370  541.10999  185.6525     87.50  130.37000    29.690     39.060  \n1   120.635  547.59003  187.5800     87.87  131.88000    30.100     39.660  \n2   122.425  550.74500  189.3450     88.75  134.13000    30.435     42.150  \n3   120.510  545.26001  187.5500     87.95  132.35001    30.270     40.720  \n4   122.600  553.21002  189.2000     88.87  133.91000    30.500     37.688  \n\n[5 rows x 155 columns]",
      "text/html": "<div>\n<style scoped>\n    .dataframe tbody tr th:only-of-type {\n        vertical-align: middle;\n    }\n\n    .dataframe tbody tr th {\n        vertical-align: top;\n    }\n\n    .dataframe thead th {\n        text-align: right;\n    }\n</style>\n<table border=\"1\" class=\"dataframe\">\n  <thead>\n    <tr style=\"text-align: right;\">\n      <th></th>\n      <th>Date__(UT)__HR:MN</th>\n      <th>DEC__(ICRF)</th>\n      <th>APmag</th>\n      <th>S-brt</th>\n      <th>Illu%</th>\n      <th>hEcl-Lon</th>\n      <th>hEcl-Lat</th>\n      <th>r</th>\n      <th>rdot</th>\n      <th>delta</th>\n      <th>...</th>\n      <th>open_EVRG</th>\n      <th>open_GNRC</th>\n      <th>open_IP</th>\n      <th>open_PKI</th>\n      <th>open_TMO</th>\n      <th>open_TT</th>\n      <th>open_WEC</th>\n      <th>open_WHR</th>\n      <th>open_WRK</th>\n      <th>open_ZION</th>\n    </tr>\n  </thead>\n  <tbody>\n    <tr>\n      <th>0</th>\n      <td>2020-06-29 09:30:00</td>\n      <td>-213619.4</td>\n      <td>-2.722</td>\n      <td>5.385</td>\n      <td>99.92522</td>\n      <td>290.7919</td>\n      <td>-0.2326</td>\n      <td>5.161446</td>\n      <td>-0.632042</td>\n      <td>4.176970</td>\n      <td>...</td>\n      <td>57.540</td>\n      <td>111.730</td>\n      <td>35.350</td>\n      <td>119.370</td>\n      <td>541.10999</td>\n      <td>185.6525</td>\n      <td>87.50</td>\n      <td>130.37000</td>\n      <td>29.690</td>\n      <td>39.060</td>\n    </tr>\n    <tr>\n      <th>1</th>\n      <td>2020-06-29 10:30:00</td>\n      <td>-213622.9</td>\n      <td>-2.722</td>\n      <td>5.385</td>\n      <td>99.92563</td>\n      <td>290.7954</td>\n      <td>-0.2326</td>\n      <td>5.161431</td>\n      <td>-0.631913</td>\n      <td>4.176776</td>\n      <td>...</td>\n      <td>57.890</td>\n      <td>113.350</td>\n      <td>35.740</td>\n      <td>120.635</td>\n      <td>547.59003</td>\n      <td>187.5800</td>\n      <td>87.87</td>\n      <td>131.88000</td>\n      <td>30.100</td>\n      <td>39.660</td>\n    </tr>\n    <tr>\n      <th>2</th>\n      <td>2020-06-29 11:30:00</td>\n      <td>-213626.3</td>\n      <td>-2.722</td>\n      <td>5.384</td>\n      <td>99.92603</td>\n      <td>290.7989</td>\n      <td>-0.2327</td>\n      <td>5.161415</td>\n      <td>-0.631792</td>\n      <td>4.176583</td>\n      <td>...</td>\n      <td>58.385</td>\n      <td>117.060</td>\n      <td>36.095</td>\n      <td>122.425</td>\n      <td>550.74500</td>\n      <td>189.3450</td>\n      <td>88.75</td>\n      <td>134.13000</td>\n      <td>30.435</td>\n      <td>42.150</td>\n    </tr>\n    <tr>\n      <th>3</th>\n      <td>2020-06-29 12:30:00</td>\n      <td>-213629.8</td>\n      <td>-2.722</td>\n      <td>5.384</td>\n      <td>99.92643</td>\n      <td>290.8024</td>\n      <td>-0.2328</td>\n      <td>5.161400</td>\n      <td>-0.631680</td>\n      <td>4.176390</td>\n      <td>...</td>\n      <td>57.790</td>\n      <td>114.045</td>\n      <td>35.825</td>\n      <td>120.510</td>\n      <td>545.26001</td>\n      <td>187.5500</td>\n      <td>87.95</td>\n      <td>132.35001</td>\n      <td>30.270</td>\n      <td>40.720</td>\n    </tr>\n    <tr>\n      <th>4</th>\n      <td>2020-06-29 13:30:00</td>\n      <td>-213633.3</td>\n      <td>-2.722</td>\n      <td>5.384</td>\n      <td>99.92683</td>\n      <td>290.8059</td>\n      <td>-0.2329</td>\n      <td>5.161385</td>\n      <td>-0.631580</td>\n      <td>4.176198</td>\n      <td>...</td>\n      <td>58.760</td>\n      <td>116.190</td>\n      <td>36.200</td>\n      <td>122.600</td>\n      <td>553.21002</td>\n      <td>189.2000</td>\n      <td>88.87</td>\n      <td>133.91000</td>\n      <td>30.500</td>\n      <td>37.688</td>\n    </tr>\n  </tbody>\n</table>\n<p>5 rows × 155 columns</p>\n</div>"
     },
     "execution_count": 60,
     "metadata": {},
     "output_type": "execute_result"
    }
   ],
   "source": [
    "df = pd.read_csv('final.csv', index_col=0)\n",
    "df.head()"
   ],
   "metadata": {
    "collapsed": false,
    "ExecuteTime": {
     "start_time": "2023-04-04T17:42:48.493105Z",
     "end_time": "2023-04-04T17:42:49.772573Z"
    }
   }
  },
  {
   "cell_type": "code",
   "execution_count": 61,
   "outputs": [
    {
     "data": {
      "text/plain": "   DEC__(ICRF)  APmag  S-brt     Illu%  hEcl-Lon  hEcl-Lat         r  \\\n0    -213619.4 -2.722  5.385  99.92522  290.7919   -0.2326  5.161446   \n1    -213622.9 -2.722  5.385  99.92563  290.7954   -0.2326  5.161431   \n2    -213626.3 -2.722  5.384  99.92603  290.7989   -0.2327  5.161415   \n3    -213629.8 -2.722  5.384  99.92643  290.8024   -0.2328  5.161400   \n4    -213633.3 -2.722  5.384  99.92683  290.8059   -0.2329  5.161385   \n\n       rdot     delta    deldot  ...  open_GNRC  open_IP  open_PKI   open_TMO  \\\n0 -0.632042  4.176970 -8.065790  ...    111.730   35.350   119.370  541.10999   \n1 -0.631913  4.176776 -8.045323  ...    113.350   35.740   120.635  547.59003   \n2 -0.631792  4.176583 -8.024857  ...    117.060   36.095   122.425  550.74500   \n3 -0.631680  4.176390 -8.004397  ...    114.045   35.825   120.510  545.26001   \n4 -0.631580  4.176198 -7.983943  ...    116.190   36.200   122.600  553.21002   \n\n    open_TT  open_WEC   open_WHR  open_WRK  open_ZION         millis  \n0  185.6525     87.50  130.37000    29.690     39.060  1593423000000  \n1  187.5800     87.87  131.88000    30.100     39.660  1593426600000  \n2  189.3450     88.75  134.13000    30.435     42.150  1593430200000  \n3  187.5500     87.95  132.35001    30.270     40.720  1593433800000  \n4  189.2000     88.87  133.91000    30.500     37.688  1593437400000  \n\n[5 rows x 155 columns]",
      "text/html": "<div>\n<style scoped>\n    .dataframe tbody tr th:only-of-type {\n        vertical-align: middle;\n    }\n\n    .dataframe tbody tr th {\n        vertical-align: top;\n    }\n\n    .dataframe thead th {\n        text-align: right;\n    }\n</style>\n<table border=\"1\" class=\"dataframe\">\n  <thead>\n    <tr style=\"text-align: right;\">\n      <th></th>\n      <th>DEC__(ICRF)</th>\n      <th>APmag</th>\n      <th>S-brt</th>\n      <th>Illu%</th>\n      <th>hEcl-Lon</th>\n      <th>hEcl-Lat</th>\n      <th>r</th>\n      <th>rdot</th>\n      <th>delta</th>\n      <th>deldot</th>\n      <th>...</th>\n      <th>open_GNRC</th>\n      <th>open_IP</th>\n      <th>open_PKI</th>\n      <th>open_TMO</th>\n      <th>open_TT</th>\n      <th>open_WEC</th>\n      <th>open_WHR</th>\n      <th>open_WRK</th>\n      <th>open_ZION</th>\n      <th>millis</th>\n    </tr>\n  </thead>\n  <tbody>\n    <tr>\n      <th>0</th>\n      <td>-213619.4</td>\n      <td>-2.722</td>\n      <td>5.385</td>\n      <td>99.92522</td>\n      <td>290.7919</td>\n      <td>-0.2326</td>\n      <td>5.161446</td>\n      <td>-0.632042</td>\n      <td>4.176970</td>\n      <td>-8.065790</td>\n      <td>...</td>\n      <td>111.730</td>\n      <td>35.350</td>\n      <td>119.370</td>\n      <td>541.10999</td>\n      <td>185.6525</td>\n      <td>87.50</td>\n      <td>130.37000</td>\n      <td>29.690</td>\n      <td>39.060</td>\n      <td>1593423000000</td>\n    </tr>\n    <tr>\n      <th>1</th>\n      <td>-213622.9</td>\n      <td>-2.722</td>\n      <td>5.385</td>\n      <td>99.92563</td>\n      <td>290.7954</td>\n      <td>-0.2326</td>\n      <td>5.161431</td>\n      <td>-0.631913</td>\n      <td>4.176776</td>\n      <td>-8.045323</td>\n      <td>...</td>\n      <td>113.350</td>\n      <td>35.740</td>\n      <td>120.635</td>\n      <td>547.59003</td>\n      <td>187.5800</td>\n      <td>87.87</td>\n      <td>131.88000</td>\n      <td>30.100</td>\n      <td>39.660</td>\n      <td>1593426600000</td>\n    </tr>\n    <tr>\n      <th>2</th>\n      <td>-213626.3</td>\n      <td>-2.722</td>\n      <td>5.384</td>\n      <td>99.92603</td>\n      <td>290.7989</td>\n      <td>-0.2327</td>\n      <td>5.161415</td>\n      <td>-0.631792</td>\n      <td>4.176583</td>\n      <td>-8.024857</td>\n      <td>...</td>\n      <td>117.060</td>\n      <td>36.095</td>\n      <td>122.425</td>\n      <td>550.74500</td>\n      <td>189.3450</td>\n      <td>88.75</td>\n      <td>134.13000</td>\n      <td>30.435</td>\n      <td>42.150</td>\n      <td>1593430200000</td>\n    </tr>\n    <tr>\n      <th>3</th>\n      <td>-213629.8</td>\n      <td>-2.722</td>\n      <td>5.384</td>\n      <td>99.92643</td>\n      <td>290.8024</td>\n      <td>-0.2328</td>\n      <td>5.161400</td>\n      <td>-0.631680</td>\n      <td>4.176390</td>\n      <td>-8.004397</td>\n      <td>...</td>\n      <td>114.045</td>\n      <td>35.825</td>\n      <td>120.510</td>\n      <td>545.26001</td>\n      <td>187.5500</td>\n      <td>87.95</td>\n      <td>132.35001</td>\n      <td>30.270</td>\n      <td>40.720</td>\n      <td>1593433800000</td>\n    </tr>\n    <tr>\n      <th>4</th>\n      <td>-213633.3</td>\n      <td>-2.722</td>\n      <td>5.384</td>\n      <td>99.92683</td>\n      <td>290.8059</td>\n      <td>-0.2329</td>\n      <td>5.161385</td>\n      <td>-0.631580</td>\n      <td>4.176198</td>\n      <td>-7.983943</td>\n      <td>...</td>\n      <td>116.190</td>\n      <td>36.200</td>\n      <td>122.600</td>\n      <td>553.21002</td>\n      <td>189.2000</td>\n      <td>88.87</td>\n      <td>133.91000</td>\n      <td>30.500</td>\n      <td>37.688</td>\n      <td>1593437400000</td>\n    </tr>\n  </tbody>\n</table>\n<p>5 rows × 155 columns</p>\n</div>"
     },
     "execution_count": 61,
     "metadata": {},
     "output_type": "execute_result"
    }
   ],
   "source": [
    "# remove index\n",
    "df[\"Date__(UT)__HR:MN\"] = pd.to_datetime(df[\"Date__(UT)__HR:MN\"])\n",
    "df[\"millis\"] = df[\"Date__(UT)__HR:MN\"].astype(np.int64) // 10**6\n",
    "df.drop(\"Date__(UT)__HR:MN\", axis=1, inplace=True)\n",
    "df.head()"
   ],
   "metadata": {
    "collapsed": false,
    "ExecuteTime": {
     "start_time": "2023-04-04T17:42:50.749464Z",
     "end_time": "2023-04-04T17:42:50.991165Z"
    }
   }
  },
  {
   "cell_type": "code",
   "execution_count": 62,
   "outputs": [],
   "source": [
    "time = df[\"millis\"]\n",
    "df.drop(\"millis\", axis=1, inplace=True)\n",
    "df.head()\n",
    "df.drop([\"year\", \"month\", \"day\",\"time\", \"date\", \"datetime\"], axis=1, inplace=True)"
   ],
   "metadata": {
    "collapsed": false,
    "ExecuteTime": {
     "start_time": "2023-04-04T17:42:50.992675Z",
     "end_time": "2023-04-04T17:42:51.165969Z"
    }
   }
  },
  {
   "cell_type": "code",
   "execution_count": 63,
   "outputs": [],
   "source": [
    "dummies = pd.get_dummies(df[\"weekday\"], prefix=\"weekday\")\n",
    "df = pd.concat([df, dummies], axis=1)\n",
    "df.drop(\"weekday\", axis=1, inplace=True)"
   ],
   "metadata": {
    "collapsed": false,
    "ExecuteTime": {
     "start_time": "2023-04-04T17:42:51.115780Z",
     "end_time": "2023-04-04T17:42:51.454183Z"
    }
   }
  },
  {
   "cell_type": "code",
   "execution_count": 64,
   "outputs": [
    {
     "data": {
      "text/plain": "   DEC__(ICRF)  APmag  S-brt     Illu%  hEcl-Lon  hEcl-Lat         r  \\\n0    -213619.4 -2.722  5.385  99.92522  290.7919   -0.2326  5.161446   \n1    -213622.9 -2.722  5.385  99.92563  290.7954   -0.2326  5.161431   \n2    -213626.3 -2.722  5.384  99.92603  290.7989   -0.2327  5.161415   \n3    -213629.8 -2.722  5.384  99.92643  290.8024   -0.2328  5.161400   \n4    -213633.3 -2.722  5.384  99.92683  290.8059   -0.2329  5.161385   \n\n       rdot     delta    deldot  ...   open_TT  open_WEC   open_WHR  open_WRK  \\\n0 -0.632042  4.176970 -8.065790  ...  185.6525     87.50  130.37000    29.690   \n1 -0.631913  4.176776 -8.045323  ...  187.5800     87.87  131.88000    30.100   \n2 -0.631792  4.176583 -8.024857  ...  189.3450     88.75  134.13000    30.435   \n3 -0.631680  4.176390 -8.004397  ...  187.5500     87.95  132.35001    30.270   \n4 -0.631580  4.176198 -7.983943  ...  189.2000     88.87  133.91000    30.500   \n\n   open_ZION  weekday_0  weekday_1  weekday_2  weekday_3  weekday_4  \n0     39.060          1          0          0          0          0  \n1     39.660          1          0          0          0          0  \n2     42.150          1          0          0          0          0  \n3     40.720          1          0          0          0          0  \n4     37.688          1          0          0          0          0  \n\n[5 rows x 152 columns]",
      "text/html": "<div>\n<style scoped>\n    .dataframe tbody tr th:only-of-type {\n        vertical-align: middle;\n    }\n\n    .dataframe tbody tr th {\n        vertical-align: top;\n    }\n\n    .dataframe thead th {\n        text-align: right;\n    }\n</style>\n<table border=\"1\" class=\"dataframe\">\n  <thead>\n    <tr style=\"text-align: right;\">\n      <th></th>\n      <th>DEC__(ICRF)</th>\n      <th>APmag</th>\n      <th>S-brt</th>\n      <th>Illu%</th>\n      <th>hEcl-Lon</th>\n      <th>hEcl-Lat</th>\n      <th>r</th>\n      <th>rdot</th>\n      <th>delta</th>\n      <th>deldot</th>\n      <th>...</th>\n      <th>open_TT</th>\n      <th>open_WEC</th>\n      <th>open_WHR</th>\n      <th>open_WRK</th>\n      <th>open_ZION</th>\n      <th>weekday_0</th>\n      <th>weekday_1</th>\n      <th>weekday_2</th>\n      <th>weekday_3</th>\n      <th>weekday_4</th>\n    </tr>\n  </thead>\n  <tbody>\n    <tr>\n      <th>0</th>\n      <td>-213619.4</td>\n      <td>-2.722</td>\n      <td>5.385</td>\n      <td>99.92522</td>\n      <td>290.7919</td>\n      <td>-0.2326</td>\n      <td>5.161446</td>\n      <td>-0.632042</td>\n      <td>4.176970</td>\n      <td>-8.065790</td>\n      <td>...</td>\n      <td>185.6525</td>\n      <td>87.50</td>\n      <td>130.37000</td>\n      <td>29.690</td>\n      <td>39.060</td>\n      <td>1</td>\n      <td>0</td>\n      <td>0</td>\n      <td>0</td>\n      <td>0</td>\n    </tr>\n    <tr>\n      <th>1</th>\n      <td>-213622.9</td>\n      <td>-2.722</td>\n      <td>5.385</td>\n      <td>99.92563</td>\n      <td>290.7954</td>\n      <td>-0.2326</td>\n      <td>5.161431</td>\n      <td>-0.631913</td>\n      <td>4.176776</td>\n      <td>-8.045323</td>\n      <td>...</td>\n      <td>187.5800</td>\n      <td>87.87</td>\n      <td>131.88000</td>\n      <td>30.100</td>\n      <td>39.660</td>\n      <td>1</td>\n      <td>0</td>\n      <td>0</td>\n      <td>0</td>\n      <td>0</td>\n    </tr>\n    <tr>\n      <th>2</th>\n      <td>-213626.3</td>\n      <td>-2.722</td>\n      <td>5.384</td>\n      <td>99.92603</td>\n      <td>290.7989</td>\n      <td>-0.2327</td>\n      <td>5.161415</td>\n      <td>-0.631792</td>\n      <td>4.176583</td>\n      <td>-8.024857</td>\n      <td>...</td>\n      <td>189.3450</td>\n      <td>88.75</td>\n      <td>134.13000</td>\n      <td>30.435</td>\n      <td>42.150</td>\n      <td>1</td>\n      <td>0</td>\n      <td>0</td>\n      <td>0</td>\n      <td>0</td>\n    </tr>\n    <tr>\n      <th>3</th>\n      <td>-213629.8</td>\n      <td>-2.722</td>\n      <td>5.384</td>\n      <td>99.92643</td>\n      <td>290.8024</td>\n      <td>-0.2328</td>\n      <td>5.161400</td>\n      <td>-0.631680</td>\n      <td>4.176390</td>\n      <td>-8.004397</td>\n      <td>...</td>\n      <td>187.5500</td>\n      <td>87.95</td>\n      <td>132.35001</td>\n      <td>30.270</td>\n      <td>40.720</td>\n      <td>1</td>\n      <td>0</td>\n      <td>0</td>\n      <td>0</td>\n      <td>0</td>\n    </tr>\n    <tr>\n      <th>4</th>\n      <td>-213633.3</td>\n      <td>-2.722</td>\n      <td>5.384</td>\n      <td>99.92683</td>\n      <td>290.8059</td>\n      <td>-0.2329</td>\n      <td>5.161385</td>\n      <td>-0.631580</td>\n      <td>4.176198</td>\n      <td>-7.983943</td>\n      <td>...</td>\n      <td>189.2000</td>\n      <td>88.87</td>\n      <td>133.91000</td>\n      <td>30.500</td>\n      <td>37.688</td>\n      <td>1</td>\n      <td>0</td>\n      <td>0</td>\n      <td>0</td>\n      <td>0</td>\n    </tr>\n  </tbody>\n</table>\n<p>5 rows × 152 columns</p>\n</div>"
     },
     "execution_count": 64,
     "metadata": {},
     "output_type": "execute_result"
    }
   ],
   "source": [
    "df.head()"
   ],
   "metadata": {
    "collapsed": false,
    "ExecuteTime": {
     "start_time": "2023-04-04T17:42:51.370789Z",
     "end_time": "2023-04-04T17:42:51.462701Z"
    }
   }
  },
  {
   "cell_type": "markdown",
   "source": [
    "## Standardize the data"
   ],
   "metadata": {
    "collapsed": false
   }
  },
  {
   "cell_type": "code",
   "execution_count": 65,
   "outputs": [
    {
     "data": {
      "text/plain": "DEC__(ICRF)    float64\nAPmag          float64\nS-brt          float64\nIllu%          float64\nhEcl-Lon       float64\n                ...   \nweekday_0        uint8\nweekday_1        uint8\nweekday_2        uint8\nweekday_3        uint8\nweekday_4        uint8\nLength: 152, dtype: object"
     },
     "execution_count": 65,
     "metadata": {},
     "output_type": "execute_result"
    }
   ],
   "source": [
    "df.dtypes"
   ],
   "metadata": {
    "collapsed": false,
    "ExecuteTime": {
     "start_time": "2023-04-04T17:42:51.460196Z",
     "end_time": "2023-04-04T17:42:51.642473Z"
    }
   }
  },
  {
   "cell_type": "code",
   "execution_count": 66,
   "outputs": [],
   "source": [
    "from sklearn.preprocessing import StandardScaler\n",
    "import torch\n",
    "scaler = StandardScaler()\n",
    "scaled_df = scaler.fit_transform(df)\n",
    "scaled_tensor = torch.Tensor(scaled_df)\n"
   ],
   "metadata": {
    "collapsed": false,
    "ExecuteTime": {
     "start_time": "2023-04-04T17:42:51.536095Z",
     "end_time": "2023-04-04T17:42:52.058663Z"
    }
   }
  },
  {
   "cell_type": "code",
   "execution_count": 67,
   "outputs": [
    {
     "data": {
      "text/plain": "[<matplotlib.lines.Line2D at 0x2482f5eea10>]"
     },
     "execution_count": 67,
     "metadata": {},
     "output_type": "execute_result"
    },
    {
     "data": {
      "text/plain": "<Figure size 640x480 with 1 Axes>",
      "image/png": "[encoded data removed]"
     },
     "metadata": {},
     "output_type": "display_data"
    }
   ],
   "source": [
    "plt.plot(time, scaled_tensor[:, 0])"
   ],
   "metadata": {
    "collapsed": false,
    "ExecuteTime": {
     "start_time": "2023-04-04T17:42:51.960754Z",
     "end_time": "2023-04-04T17:42:53.021042Z"
    }
   }
  },
  {
   "cell_type": "code",
   "execution_count": 68,
   "outputs": [],
   "source": [
    "unscaled = scaler.inverse_transform(scaled_df) # Checking if our scaling worked"
   ],
   "metadata": {
    "collapsed": false,
    "ExecuteTime": {
     "start_time": "2023-04-04T17:42:53.314735Z",
     "end_time": "2023-04-04T17:42:53.347829Z"
    }
   }
  },
  {
   "cell_type": "code",
   "execution_count": 69,
   "outputs": [
    {
     "name": "stderr",
     "output_type": "stream",
     "text": [
      "C:\\Users\\alexg\\anaconda3\\envs\\cmse381\\lib\\site-packages\\numpy\\core\\fromnumeric.py:3430: FutureWarning: In a future version, DataFrame.mean(axis=None) will return a scalar mean over the entire DataFrame. To retain the old behavior, use 'frame.mean(axis=0)' or just 'frame.mean()'\n",
      "  return mean(axis=axis, dtype=dtype, out=out, **kwargs)\n"
     ]
    },
    {
     "data": {
      "text/plain": "DEC__(ICRF)    3.579534e-23\nAPmag          0.000000e+00\nS-brt          0.000000e+00\nIllu%          0.000000e+00\nhEcl-Lon       5.326679e-29\n                   ...     \nweekday_0      0.000000e+00\nweekday_1      6.102070e-34\nweekday_2      6.102070e-34\nweekday_3      0.000000e+00\nweekday_4      0.000000e+00\nLength: 152, dtype: float64"
     },
     "execution_count": 69,
     "metadata": {},
     "output_type": "execute_result"
    }
   ],
   "source": [
    "np.mean((df - unscaled)**2)"
   ],
   "metadata": {
    "collapsed": false,
    "ExecuteTime": {
     "start_time": "2023-04-04T17:42:53.342810Z",
     "end_time": "2023-04-04T17:42:54.303391Z"
    }
   }
  },
  {
   "cell_type": "code",
   "execution_count": 70,
   "outputs": [],
   "source": [
    "scaled_df = pd.DataFrame(scaled_df, columns=df.columns)\n",
    "scaled_df.to_csv(\"scaled.csv\")\n",
    "pd.to_pickle(scaled_df, \"scaled.pkl\")"
   ],
   "metadata": {
    "collapsed": false,
    "ExecuteTime": {
     "start_time": "2023-04-04T17:43:39.317893Z",
     "end_time": "2023-04-04T17:43:42.969339Z"
    }
   }
  },
  {
   "cell_type": "code",
   "execution_count": 73,
   "outputs": [],
   "source": [],
   "metadata": {
    "collapsed": false,
    "ExecuteTime": {
     "start_time": "2023-04-04T17:44:28.069299Z",
     "end_time": "2023-04-04T17:44:28.107433Z"
    }
   }
  },
  {
   "cell_type": "code",
   "execution_count": null,
   "outputs": [],
   "source": [],
   "metadata": {
    "collapsed": false
   }
  }
 ],
 "metadata": {
  "kernelspec": {
   "display_name": "Python 3",
   "language": "python",
   "name": "python3"
  },
  "language_info": {
   "codemirror_mode": {
    "name": "ipython",
    "version": 2
   },
   "file_extension": ".py",
   "mimetype": "text/x-python",
   "name": "python",
   "nbconvert_exporter": "python",
   "pygments_lexer": "ipython2",
   "version": "2.7.6"
  }
 },
 "nbformat": 4,
 "nbformat_minor": 0
}
