{
 "cells": [
  {
   "cell_type": "code",
   "execution_count": 8,
   "id": "ee2ebc71-3ecf-4038-b73c-358fd0300ef2",
   "metadata": {},
   "outputs": [],
   "source": [
    "import pandas as pd\n",
    "import numpy as np"
   ]
  },
  {
   "cell_type": "code",
   "execution_count": 9,
   "id": "3bb55a4e-0351-44ec-9e76-a7449da47243",
   "metadata": {},
   "outputs": [],
   "source": [
    "data = '../Data/planets.txt'"
   ]
  },
  {
   "cell_type": "code",
   "execution_count": 10,
   "id": "3e3c27d3-2274-4b18-9a75-b83b2b609ee3",
   "metadata": {},
   "outputs": [],
   "source": [
    "file = open(data, 'r')"
   ]
  },
  {
   "cell_type": "code",
   "execution_count": 11,
   "id": "42382d0a-ee4d-4a49-bb2c-9624fed6c688",
   "metadata": {},
   "outputs": [
    {
     "data": {
      "text/plain": [
       "<_io.TextIOWrapper name='../Data/planets.txt' mode='r' encoding='cp1252'>"
      ]
     },
     "execution_count": 11,
     "metadata": {},
     "output_type": "execute_result"
    }
   ],
   "source": [
    "while True:\n",
    "    \n",
    "    break"
   ]
  },
  {
   "cell_type": "code",
   "execution_count": null,
   "id": "a8bc4e60-4fd1-4308-a1d6-0a90101d0504",
   "metadata": {},
   "outputs": [],
   "source": []
  }
 ],
 "metadata": {
  "kernelspec": {
   "display_name": "Python 3 (ipykernel)",
   "language": "python",
   "name": "python3"
  },
  "language_info": {
   "codemirror_mode": {
    "name": "ipython",
    "version": 3
   },
   "file_extension": ".py",
   "mimetype": "text/x-python",
   "name": "python",
   "nbconvert_exporter": "python",
   "pygments_lexer": "ipython3",
   "version": "3.8.8"
  }
 },
 "nbformat": 4,
 "nbformat_minor": 5
}
